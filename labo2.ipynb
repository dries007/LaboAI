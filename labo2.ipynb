{
  "cells": [
    {
      "cell_type": "markdown",
      "source": "# Practice Session AI: Decision Tree \u003ca class\u003d\"tocSkip\"\u003e",
      "metadata": {
        "pycharm": {
          "metadata": false
        }
      }
    },
    {
      "cell_type": "code",
      "execution_count": null,
      "outputs": [],
      "source": "# vul in\n\nprint(\"Naam:\", \"Kennes\")\nprint(\"Voornaam:\", \"Dries\")\nprint(\"S-nummer:\", \"R0486630\")\nprint(\"Richting:\", \"ICT\")\n\n# druk \u003cctrl\u003e + \u003center\u003e",
      "metadata": {
        "pycharm": {
          "metadata": false,
          "name": "#%%\n"
        }
      }
    },
    {
      "cell_type": "markdown",
      "source": "\u003cimg src\u003d\"https://i.imgur.com/kTl5dQa.jpg\" alt\u003d\"panda in tree\" width\u003d500/\u003e",
      "metadata": {
        "pycharm": {
          "metadata": false
        }
      }
    },
    {
      "cell_type": "markdown",
      "source": "In deze labosessie gaan we zelf één van de *machine learning models* uit de vorige notebook implementeren, namelijk de *Decision Tree*. Net zoals in de vorige sessies levert de *Pandas* library hier de basisstructuren waarin de data wordt voorgesteld. Om de werking van het uitgewerkte algoritme te testen, zullen we dit evalueren op de vertrouwde wijn-dataset.",
      "metadata": {
        "pycharm": {
          "metadata": false
        }
      }
    },
    {
      "cell_type": "markdown",
      "source": "## Imports and Loading\n\nOm te veel herhaling te voorkomen, wordt de code voor deze stappen gewoon meegegeven. Net zoals vorige week gaan we werken met een ``ModelFrame`` uit Pandas_ML, omwille van de handige ``data`` (*features*) en ``target`` (*target*) accessoren.",
      "metadata": {
        "pycharm": {
          "metadata": false
        }
      }
    },
    {
      "cell_type": "code",
      "execution_count": null,
      "outputs": [],
      "source": "import numpy as np\nimport pandas as pd\nimport pandas_ml as pdml\n\nfrom tqdm import tqdm        ## process bar tool (optional)",
      "metadata": {
        "pycharm": {
          "metadata": false,
          "name": "#%%\n"
        }
      }
    },
    {
      "cell_type": "code",
      "execution_count": null,
      "outputs": [],
      "source": "col_names \u003d [\u0027type\u0027, \u0027alcohol\u0027, \u0027malic_acid\u0027, \u0027ash\u0027, \u0027alkalinity\u0027, \u0027magnesium\u0027, \u0027total_phenols\u0027, \u0027flavonoids\u0027, \u0027nonflavonoid_phenols\u0027, \u0027proanthocyanins\u0027, \u0027color_intensity\u0027, \u0027color_hue\u0027, \u0027OD280\u0027, \u0027proline\u0027]\ndf \u003d pd.read_csv(\"data/wine_orig.csv\", names\u003dcol_names)",
      "metadata": {
        "pycharm": {
          "metadata": false,
          "name": "#%%\n"
        }
      }
    },
    {
      "cell_type": "code",
      "execution_count": null,
      "outputs": [],
      "source": "df.head()",
      "metadata": {
        "pycharm": {
          "metadata": false,
          "name": "#%%\n"
        }
      }
    },
    {
      "cell_type": "code",
      "execution_count": null,
      "outputs": [],
      "source": "df_wine \u003d pdml.ModelFrame(df, target\u003d\u0027type\u0027)",
      "metadata": {
        "pycharm": {
          "metadata": false,
          "name": "#%%\n"
        }
      }
    },
    {
      "cell_type": "code",
      "execution_count": null,
      "outputs": [],
      "source": "train_wine, test_wine \u003d df_wine.model_selection.train_test_split(test_size\u003d0.3, random_state\u003d0)\nprint(\"Length of training set: {} ({}% of the samples)\".format(len(train_wine), len(train_wine)/len(df_wine)))\nprint(\"Length of test set: {} ({}% of the samples)\".format(len(test_wine), len(test_wine)/len(df_wine)))",
      "metadata": {
        "pycharm": {
          "metadata": false,
          "name": "#%%\n"
        }
      }
    },
    {
      "cell_type": "code",
      "execution_count": null,
      "outputs": [],
      "source": "train_wine.head()",
      "metadata": {
        "pycharm": {
          "metadata": false,
          "name": "#%%\n"
        }
      }
    },
    {
      "cell_type": "markdown",
      "source": "## Building Blocks\n\n### Splitter",
      "metadata": {
        "pycharm": {
          "metadata": false
        }
      }
    },
    {
      "cell_type": "markdown",
      "source": "Eerst en vooral is er een functie nodig die een ``ModelFrame`` opsplitst in twee delen op basis van de waarde van één van de *features*, en deze twee delen teruggeeft.",
      "metadata": {
        "pycharm": {
          "metadata": false
        }
      }
    },
    {
      "cell_type": "code",
      "execution_count": 186,
      "outputs": [],
      "source": "def split_on_attribute(df_node, attribute, value):\n    # \u003c, \u003e\u003d\n    # print(\u0027split_on_attribute:\u0027, attribute, value)\n    return df_node.loc[df_node[attribute] \u003c value], df_node.loc[df_node[attribute] \u003e\u003d value]\n\n#split_on_attribute(df_wine, \u0027alcohol\u0027, 13)",
      "metadata": {
        "pycharm": {
          "metadata": false,
          "name": "#%%\n",
          "is_executing": false
        }
      }
    },
    {
      "cell_type": "markdown",
      "source": "### Cost function\n\nDe split-functie gaat bij het opstellen van de tree opgeroepen worden wanneer er een *node* binair moet worden gesplitst. Uiteraard is het op voorhand nogal moeilijk te weten welke *feature* en bijbehorende *value* moeten gebruikt worden om tot een zo goed mogelijke split te komen waarbij de klassen zo volledig mogelijk van elkaar te scheiden. Om dit te testen maken we gebruik van enkele concepten uit de informatietheorie, waardoor we tot een *cost function* kunnen komen. ",
      "metadata": {
        "pycharm": {
          "metadata": false
        }
      }
    },
    {
      "cell_type": "markdown",
      "source": "#### Information Gain and Entropy\n\n*Information gain* is een manier om uit te drukken hoeveel onzekerheid er wordt verloren bij het opsplitsen van de data in een *node*. Deze onzekerheid wordt uitgedrukt in de vorm van *entropy* (eenheid: *bits*), beschreven in de onderstaande formule.",
      "metadata": {
        "pycharm": {
          "metadata": false
        }
      }
    },
    {
      "cell_type": "markdown",
      "source": "\\begin{equation*}\nH(X) \u003d - \\sum \\limits_{i\u003d1}^{n} p(x_i) \\log_2 p(x_i)\n\\end{equation*}",
      "metadata": {
        "pycharm": {
          "metadata": false
        }
      }
    },
    {
      "cell_type": "markdown",
      "source": "Om de *information gain* tussen een *node* en zijn *children* te maximaliseren, is het voldoende om de split te kiezen waarbij de *entropy* van de *children* minimaal is.",
      "metadata": {
        "pycharm": {
          "metadata": false
        }
      }
    },
    {
      "cell_type": "code",
      "execution_count": 187,
      "outputs": [],
      "source": "def calc_px(df_node):\n    return [df_node.loc[df[\u0027type\u0027] \u003d\u003d x].size/df_node.size for x in df_node[\u0027type\u0027].unique()]\n\ndef entropy(df_node):\n    px \u003d calc_px(df_node)\n    return -sum(px * np.log2(px))",
      "metadata": {
        "pycharm": {
          "metadata": false,
          "name": "#%%\n",
          "is_executing": false
        }
      }
    },
    {
      "cell_type": "code",
      "execution_count": 188,
      "outputs": [
        {
          "data": {
            "text/plain": "1.5709478285303144"
          },
          "metadata": {},
          "output_type": "execute_result",
          "execution_count": 188
        }
      ],
      "source": "# test entropy\nentropy(train_wine)",
      "metadata": {
        "pycharm": {
          "metadata": false,
          "name": "#%%\n",
          "is_executing": false
        }
      }
    },
    {
      "cell_type": "markdown",
      "source": "#### Gini Impurity\n\nEen andere manier om de split te optimaliseren is de *Gini impurity*. Deze is een maat voor de kans dat elementen van een bepaalde klasse in een *node* gemisclassificeerd worden. ",
      "metadata": {
        "pycharm": {
          "metadata": false
        }
      }
    },
    {
      "cell_type": "markdown",
      "source": "\\begin{equation*}\nI_G(X) \u003d 1 - \\sum \\limits_{i\u003d1}^{n} p(x_i)^2\n\\end{equation*}",
      "metadata": {
        "pycharm": {
          "metadata": false
        }
      }
    },
    {
      "cell_type": "markdown",
      "source": "Uiteraard willen we dit aantal misclassificaties zo laag mogelijk houden, dus voor een zo goed mogelijke split hebben we graag een minimale *Gini impurity* bij de *children* van de *node*.",
      "metadata": {
        "pycharm": {
          "metadata": false
        }
      }
    },
    {
      "cell_type": "code",
      "execution_count": null,
      "outputs": [],
      "source": "def gini_index(df_node):\n    return 1 - sum(x*x for x in calc_px(df_node))",
      "metadata": {
        "pycharm": {
          "metadata": false,
          "name": "#%%\n",
          "is_executing": true
        }
      }
    },
    {
      "cell_type": "code",
      "execution_count": 190,
      "outputs": [
        {
          "data": {
            "text/plain": "0.6601196670135275"
          },
          "metadata": {},
          "output_type": "execute_result",
          "execution_count": 190
        }
      ],
      "source": "# test Gini impurity\ngini_index(train_wine)",
      "metadata": {
        "pycharm": {
          "metadata": false,
          "name": "#%%\n",
          "is_executing": false
        }
      }
    },
    {
      "cell_type": "markdown",
      "source": "#### Weighted Cost\n\nOm de *costs* van de *children* van een *node* in één getal te kunnen weergeven, berekenen we het gewogen gemiddelde van de *splitting cost* voor zowel *entropy* als *Gini impurity* op de volgende manier:",
      "metadata": {
        "pycharm": {
          "metadata": false
        }
      }
    },
    {
      "cell_type": "markdown",
      "source": "\\begin{equation*}\n\\overline{cost}(N, L, R) \u003d P(L \\vert N) \\cdot cost(L) + P(R \\vert N) \\cdot cost(R)\n\\end{equation*}",
      "metadata": {
        "pycharm": {
          "metadata": false
        }
      }
    },
    {
      "cell_type": "code",
      "execution_count": 191,
      "outputs": [],
      "source": "def weighted_cost(df_node, node_left, node_right, cost_func):\n    return node_left.size / df_node.size * cost_func(node_left) + \\\n           node_right.size / df_node.size * cost_func(node_right)",
      "metadata": {
        "pycharm": {
          "metadata": false,
          "name": "#%%\n",
          "is_executing": false
        }
      }
    },
    {
      "cell_type": "code",
      "execution_count": 192,
      "outputs": [
        {
          "data": {
            "text/plain": "1.4577427356053494"
          },
          "metadata": {},
          "output_type": "execute_result",
          "execution_count": 192
        }
      ],
      "source": "# test weighted cost with entropy\nweighted_cost(train_wine, *split_on_attribute(train_wine, \u0027alkalinity\u0027, 16), entropy)",
      "metadata": {
        "pycharm": {
          "metadata": false,
          "name": "#%%\n",
          "is_executing": false
        }
      }
    },
    {
      "cell_type": "code",
      "execution_count": 193,
      "outputs": [
        {
          "data": {
            "text/plain": "0.6118637247669506"
          },
          "metadata": {},
          "output_type": "execute_result",
          "execution_count": 193
        }
      ],
      "source": "# test weighted cost with Gini impurity\nweighted_cost(train_wine, *split_on_attribute(train_wine, \u0027alkalinity\u0027, 16), gini_index)",
      "metadata": {
        "pycharm": {
          "metadata": false,
          "name": "#%%\n",
          "is_executing": false
        }
      }
    },
    {
      "cell_type": "markdown",
      "source": "### Apply Split\n\nNu hoeven we enkel nog een functie te schrijven die over alle waarden van alle *features* in de dataset gaat, hierbij de *cost* berekent, en vervolgens *feature* en waarde teruggeeft waarbij de *splitting cost* het laagste is. \n\n**Let op:** Op de ``target`` kolom mag **nooit** gesplitst worden!",
      "metadata": {
        "pycharm": {
          "metadata": false
        }
      }
    },
    {
      "cell_type": "code",
      "execution_count": 194,
      "outputs": [],
      "source": "def find_best_split(df_node, cost_func):\n    \"\"\"\n    :param df_node: \n    :param cost_func: \n    :return: (cost: float, attribute: str, value:float)\n    \"\"\"\n    best_costs \u003d None\n    for col in df_node.columns.values:\n        if col \u003d\u003d \u0027type\u0027:\n            continue\n        for val in df_node[col].unique():\n            cost \u003d weighted_cost(train_wine, *split_on_attribute(train_wine, col, val), cost_func)\n            if best_costs is None or cost \u003c best_costs[0]:\n                best_costs \u003d (cost, col, val)\n    return best_costs",
      "metadata": {
        "pycharm": {
          "metadata": false,
          "name": "#%%\n",
          "is_executing": false
        }
      }
    },
    {
      "cell_type": "code",
      "execution_count": 195,
      "outputs": [
        {
          "data": {
            "text/plain": "(0.3919680182549091, \u0027color_intensity\u0027, 3.84)"
          },
          "metadata": {},
          "output_type": "execute_result",
          "execution_count": 195
        }
      ],
      "source": "# test best split finder with entropy\nfind_best_split(train_wine, gini_index)",
      "metadata": {
        "pycharm": {
          "metadata": false,
          "name": "#%%\n",
          "is_executing": false
        }
      }
    },
    {
      "cell_type": "code",
      "execution_count": 196,
      "outputs": [
        {
          "data": {
            "text/plain": "(0.9045222630160197, \u0027flavonoids\u0027, 1.58)"
          },
          "metadata": {},
          "output_type": "execute_result",
          "execution_count": 196
        }
      ],
      "source": "#test best split finder with Gini impurity\nfind_best_split(train_wine, entropy)",
      "metadata": {
        "pycharm": {
          "metadata": false,
          "name": "#%%\n",
          "is_executing": false
        }
      }
    },
    {
      "cell_type": "markdown",
      "source": "### Build Tree\n\nMet behulp van de ``find_best_split`` functie is het nu mogelijk om de *decision tree* recursief op te stellen. Het grootste deel van de functies en attributen van de ``TreeNode`` klasse zijn reeds gegeven, enkel de ``split`` functie (waar de recursie gebeurt) dient nog aangevuld te worden.",
      "metadata": {
        "pycharm": {
          "metadata": false
        }
      }
    },
    {
      "cell_type": "code",
      "execution_count": 204,
      "outputs": [],
      "source": "class TreeNode(object):\n    \"\"\" \n    Forms the node of a decision tree.\n    \n    Args:\n        level: Level of the node in the tree.\n        df_node: ModelFrame containing the data of the node\n        cost_func: Function to calculate the splitting cost (entropy or gini_index).\n        max_depth: Maximum depth of the tree.\n        min_length: Minimum amount of elements that a node has to contain to be considered splittable.\n    \"\"\"\n    counter \u003d 0\n    def __init__(self, level, df_node, cost_func, max_depth, min_length, **kwargs):\n        self._id \u003d type(self).counter\n        type(self).counter +\u003d 1\n        self.level \u003d level\n        self.df_node \u003d df_node\n        self.cost_func \u003d cost_func\n        self.max_depth \u003d max_depth\n        self.min_length \u003d min_length\n        self.cost \u003d self.cost_func(self.df_node)\n        self.split_attr \u003d None\n        self.split_value \u003d None\n        self.left \u003d None\n        self.right \u003d None\n    \n    @property\n    def record_amt(self):\n        \"\"\" \n        Returns the amount of data elements in this node\u0027s ModelFrame.\n        \"\"\"\n        return len(self.df_node)\n    \n    @property\n    def has_children(self):\n        \"\"\" \n        Check if the node has any children.\n        \"\"\"\n        return self.left is not None and self.right is not None\n    \n    @property\n    def class_distribution(self):\n        \"\"\"\n        Gives a dict containing the classes as keys and the amount of elements per class as values.\n        \"\"\"\n        return self.df_node.target.value_counts().to_dict()\n    \n    @property\n    def category(self):\n        \"\"\"\n        Returns the dominant category of the elements in this node.\n        \"\"\"\n        return max(self.class_distribution, key\u003dlambda key: self.class_distribution[key])\n    \n    def add_left(self, node):\n        \"\"\"\n        Add another node to this node as left child.\n        \"\"\"\n        self.left \u003d node\n        \n    def add_right(self, node):\n        \"\"\"\n        Add another node to this node as right child.\n        \"\"\"\n        self.right \u003d node\n        \n    def split(self):\n        \"\"\"\n        Split the node into two children.\n        \"\"\"\n        if self.df_node.size \u003c self.min_length:\n            print(\u0027Leaf\u0027, self.df_node.size, \u0027\u003c\u0027, self.min_length)\n            return\n        if self.level \u003e\u003d self.max_depth:\n            print(\u0027Leaf\u0027, self.level.size, \u0027\u003e\u003d\u0027, self.max_depth)\n            return\n        if self.df_node[\u0027type\u0027].unique() \u003c\u003d 1:\n            print(\u0027Leaf pure\u0027)\n            return\n        \n        print(\u0027Split node #\u0027, self._id)\n        _, self.split_attr, self.split_value \u003d find_best_split(self.df_node, self.cost_func)\n        self.left, self.right \u003d split_on_attribute(self.df_node, self.df_node, self.cost_func)\n        print(\u0027Split on \u0027, self.split_attr, self.split_value, self.left.size, self.right.size)\n        self.left \u003d TreeNode(self.level + 1, self.level, self.cost_func, self.max_depth, self.min_length)\n        self.right \u003d TreeNode(self.level + 1, self.right, self.cost_func, self.max_depth, self.min_length)\n        self.left.split()\n        self.right.split()\n",
      "metadata": {
        "pycharm": {
          "metadata": false,
          "name": "#%%\n",
          "is_executing": false
        }
      }
    },
    {
      "cell_type": "code",
      "execution_count": 205,
      "outputs": [],
      "source": "def build_tree(train_set, cost_func, max_depth, min_size):\n    TreeNode.counter \u003d 0\n    root \u003d TreeNode(0, train_set, cost_func, max_depth, min_size)\n    root.split()\n    return root    ",
      "metadata": {
        "pycharm": {
          "metadata": false,
          "name": "#%%\n",
          "is_executing": false
        }
      }
    },
    {
      "cell_type": "markdown",
      "source": "### Print Tree\n\nOm te kijken hoe het getrainde model eruit ziet, wordt er een (rudimentaire) functie meegegeven waarmee de boom recursief kan geprint worden. We moeten er wel voor zorgen dat de juiste velden op de juiste manier geupdated worden in de ``split`` functie van hierboven, anders krijgen we waarschijnlijk een foutboodschap.",
      "metadata": {
        "pycharm": {
          "metadata": false
        }
      }
    },
    {
      "cell_type": "code",
      "execution_count": null,
      "outputs": [],
      "source": "def print_tree(node, sign\u003d\u0027\u003c\u0027):\n    if node.has_children:\n        print(node._id, node.level * \"  \", \n              node.split_attr, sign, node.split_value, \u0027---\u0027, \n              node.cost, \u0027---\u0027, node.class_distribution, \u0027---\u0027, node.category)\n    else:\n        print(node._id, node.level * \"  \", sign, \"---\", \n              node.cost, \u0027---\u0027, node.class_distribution, \u0027---\u0027, node.category)\n    if node.left is not None:\n        print_tree(node.left, sign\u003d\"\u003c\")\n    if node.right is not None:\n        print_tree(node.right, sign\u003d\"\u003e\u003d\")",
      "metadata": {
        "pycharm": {
          "metadata": false,
          "name": "#%%\n",
          "is_executing": true
        }
      }
    },
    {
      "cell_type": "markdown",
      "source": "### Make Predictions\n\nUiteraard willen we het model niet alleen maar kunnen gebruiken om de trainingsdata te omschrijven (*description*), maar ook om te voorspellen hoe nieuwe data met een ongekend label geclassificeerd wordt door de boom (*prediction*). Hiervoor maken we opnieuw gebruik van recursie: we vertrekken in de *root* en vergelijken ``split_attr`` en ``split_value`` met de testdata. Op basis van deze vergelijking gaan we verder in één van de twee *children* van de *node*, totdat we een *node* bereiken die geen *children* meer heeft. De ``category`` van deze *node* is dan de uitkomst van onze voorspelling.",
      "metadata": {
        "pycharm": {
          "metadata": false
        }
      }
    },
    {
      "cell_type": "code",
      "execution_count": 207,
      "outputs": [],
      "source": "def predict(data, node):\n    raise NotImplementedError(\"Fill in the code!\")",
      "metadata": {
        "pycharm": {
          "metadata": false,
          "name": "#%%\n",
          "is_executing": false
        }
      }
    },
    {
      "cell_type": "markdown",
      "source": "### Evaluate",
      "metadata": {
        "pycharm": {
          "metadata": false
        }
      }
    },
    {
      "cell_type": "code",
      "execution_count": 208,
      "outputs": [],
      "source": "def evaluate(tree, test_set):\n    results \u003d []\n    for row in test_wine.itertuples():\n        data \u003d row._asdict()\n        results.append((data[\u0027type\u0027], predict(data, tree)))\n    print([f\"{i}: {res[0]} {res[1]}\" for i, res in enumerate(results)])\n    return pd.DataFrame(results, columns\u003d[\u0027target\u0027,\u0027predicted\u0027])",
      "metadata": {
        "pycharm": {
          "metadata": false,
          "name": "#%%\n",
          "is_executing": false
        }
      }
    },
    {
      "cell_type": "markdown",
      "source": "### Calculate Accuracy",
      "metadata": {
        "pycharm": {
          "metadata": false
        }
      }
    },
    {
      "cell_type": "code",
      "execution_count": 209,
      "outputs": [],
      "source": "def accuracy(tree, test_set):\n    df_results \u003d evaluate(tree, test_wine)\n    return (df_results.target \u003d\u003d df_results.predicted).sum()/len(df_results)",
      "metadata": {
        "pycharm": {
          "metadata": false,
          "name": "#%%\n",
          "is_executing": false
        }
      }
    },
    {
      "cell_type": "markdown",
      "source": "## Testing the Trees",
      "metadata": {
        "pycharm": {
          "metadata": false
        }
      }
    },
    {
      "cell_type": "markdown",
      "source": "### Using Entropy",
      "metadata": {
        "pycharm": {
          "metadata": false
        }
      }
    },
    {
      "cell_type": "code",
      "execution_count": 210,
      "outputs": [
        {
          "traceback": [
            "\u001b[0;31m---------------------------------------------------------------------------\u001b[0m",
            "\u001b[0;31mValueError\u001b[0m                                Traceback (most recent call last)",
            "\u001b[0;32m\u003cipython-input-210-0b569efc2228\u003e\u001b[0m in \u001b[0;36m\u003cmodule\u003e\u001b[0;34m\u001b[0m\n\u001b[0;32m----\u003e 1\u001b[0;31m \u001b[0mtree_entropy\u001b[0m \u001b[0;34m\u003d\u001b[0m \u001b[0mbuild_tree\u001b[0m\u001b[0;34m(\u001b[0m\u001b[0mtrain_wine\u001b[0m\u001b[0;34m,\u001b[0m \u001b[0mentropy\u001b[0m\u001b[0;34m,\u001b[0m \u001b[0;36m8\u001b[0m\u001b[0;34m,\u001b[0m \u001b[0;36m1\u001b[0m\u001b[0;34m)\u001b[0m\u001b[0;34m\u001b[0m\u001b[0;34m\u001b[0m\u001b[0m\n\u001b[0m\u001b[1;32m      2\u001b[0m \u001b[0mprint_tree\u001b[0m\u001b[0;34m(\u001b[0m\u001b[0mtree_entropy\u001b[0m\u001b[0;34m)\u001b[0m\u001b[0;34m\u001b[0m\u001b[0;34m\u001b[0m\u001b[0m\n\u001b[1;32m      3\u001b[0m \u001b[0mprint\u001b[0m\u001b[0;34m(\u001b[0m\u001b[0;34m\"Accuracy: {:4.3f}\"\u001b[0m\u001b[0;34m.\u001b[0m\u001b[0mformat\u001b[0m\u001b[0;34m(\u001b[0m\u001b[0maccuracy\u001b[0m\u001b[0;34m(\u001b[0m\u001b[0mtree_entropy\u001b[0m\u001b[0;34m,\u001b[0m \u001b[0mtest_wine\u001b[0m\u001b[0;34m)\u001b[0m\u001b[0;34m)\u001b[0m\u001b[0;34m)\u001b[0m\u001b[0;34m\u001b[0m\u001b[0;34m\u001b[0m\u001b[0m\n",
            "\u001b[0;32m\u003cipython-input-205-65add9334401\u003e\u001b[0m in \u001b[0;36mbuild_tree\u001b[0;34m(train_set, cost_func, max_depth, min_size)\u001b[0m\n\u001b[1;32m      2\u001b[0m     \u001b[0mTreeNode\u001b[0m\u001b[0;34m.\u001b[0m\u001b[0mcounter\u001b[0m \u001b[0;34m\u003d\u001b[0m \u001b[0;36m0\u001b[0m\u001b[0;34m\u001b[0m\u001b[0;34m\u001b[0m\u001b[0m\n\u001b[1;32m      3\u001b[0m     \u001b[0mroot\u001b[0m \u001b[0;34m\u003d\u001b[0m \u001b[0mTreeNode\u001b[0m\u001b[0;34m(\u001b[0m\u001b[0;36m0\u001b[0m\u001b[0;34m,\u001b[0m \u001b[0mtrain_set\u001b[0m\u001b[0;34m,\u001b[0m \u001b[0mcost_func\u001b[0m\u001b[0;34m,\u001b[0m \u001b[0mmax_depth\u001b[0m\u001b[0;34m,\u001b[0m \u001b[0mmin_size\u001b[0m\u001b[0;34m)\u001b[0m\u001b[0;34m\u001b[0m\u001b[0;34m\u001b[0m\u001b[0m\n\u001b[0;32m----\u003e 4\u001b[0;31m     \u001b[0mroot\u001b[0m\u001b[0;34m.\u001b[0m\u001b[0msplit\u001b[0m\u001b[0;34m(\u001b[0m\u001b[0;34m)\u001b[0m\u001b[0;34m\u001b[0m\u001b[0;34m\u001b[0m\u001b[0m\n\u001b[0m\u001b[1;32m      5\u001b[0m     \u001b[0;32mreturn\u001b[0m \u001b[0mroot\u001b[0m\u001b[0;34m\u001b[0m\u001b[0;34m\u001b[0m\u001b[0m\n",
            "\u001b[0;32m\u003cipython-input-204-bd93c9ada0a1\u003e\u001b[0m in \u001b[0;36msplit\u001b[0;34m(self)\u001b[0m\n\u001b[1;32m     75\u001b[0m             \u001b[0mprint\u001b[0m\u001b[0;34m(\u001b[0m\u001b[0;34m\u0027Leaf\u0027\u001b[0m\u001b[0;34m,\u001b[0m \u001b[0mself\u001b[0m\u001b[0;34m.\u001b[0m\u001b[0mlevel\u001b[0m\u001b[0;34m.\u001b[0m\u001b[0msize\u001b[0m\u001b[0;34m,\u001b[0m \u001b[0;34m\u0027\u003e\u003d\u0027\u001b[0m\u001b[0;34m,\u001b[0m \u001b[0mself\u001b[0m\u001b[0;34m.\u001b[0m\u001b[0mmax_depth\u001b[0m\u001b[0;34m)\u001b[0m\u001b[0;34m\u001b[0m\u001b[0;34m\u001b[0m\u001b[0m\n\u001b[1;32m     76\u001b[0m             \u001b[0;32mreturn\u001b[0m\u001b[0;34m\u001b[0m\u001b[0;34m\u001b[0m\u001b[0m\n\u001b[0;32m---\u003e 77\u001b[0;31m         \u001b[0;32mif\u001b[0m \u001b[0mself\u001b[0m\u001b[0;34m.\u001b[0m\u001b[0mdf_node\u001b[0m\u001b[0;34m[\u001b[0m\u001b[0;34m\u0027type\u0027\u001b[0m\u001b[0;34m]\u001b[0m\u001b[0;34m.\u001b[0m\u001b[0munique\u001b[0m\u001b[0;34m(\u001b[0m\u001b[0;34m)\u001b[0m \u001b[0;34m\u003c\u003d\u001b[0m \u001b[0;36m1\u001b[0m\u001b[0;34m:\u001b[0m\u001b[0;34m\u001b[0m\u001b[0;34m\u001b[0m\u001b[0m\n\u001b[0m\u001b[1;32m     78\u001b[0m             \u001b[0mprint\u001b[0m\u001b[0;34m(\u001b[0m\u001b[0;34m\u0027Leaf pure\u0027\u001b[0m\u001b[0;34m)\u001b[0m\u001b[0;34m\u001b[0m\u001b[0;34m\u001b[0m\u001b[0m\n\u001b[1;32m     79\u001b[0m             \u001b[0;32mreturn\u001b[0m\u001b[0;34m\u001b[0m\u001b[0;34m\u001b[0m\u001b[0m\n",
            "\u001b[0;31mValueError\u001b[0m: The truth value of an array with more than one element is ambiguous. Use a.any() or a.all()"
          ],
          "ename": "ValueError",
          "evalue": "The truth value of an array with more than one element is ambiguous. Use a.any() or a.all()",
          "output_type": "error"
        }
      ],
      "source": "tree_entropy \u003d build_tree(train_wine, entropy, 8, 1)\nprint_tree(tree_entropy)\nprint(\"Accuracy: {:4.3f}\".format(accuracy(tree_entropy, test_wine)))",
      "metadata": {
        "pycharm": {
          "metadata": false,
          "name": "#%%\n",
          "is_executing": false
        }
      }
    },
    {
      "cell_type": "markdown",
      "source": "### Using Gini Impurity",
      "metadata": {
        "pycharm": {
          "metadata": false
        }
      }
    },
    {
      "cell_type": "code",
      "execution_count": 211,
      "outputs": [
        {
          "traceback": [
            "\u001b[0;31m---------------------------------------------------------------------------\u001b[0m",
            "\u001b[0;31mValueError\u001b[0m                                Traceback (most recent call last)",
            "\u001b[0;32m\u003cipython-input-211-92edd90f886a\u003e\u001b[0m in \u001b[0;36m\u003cmodule\u003e\u001b[0;34m\u001b[0m\n\u001b[0;32m----\u003e 1\u001b[0;31m \u001b[0mtree_gini\u001b[0m \u001b[0;34m\u003d\u001b[0m \u001b[0mbuild_tree\u001b[0m\u001b[0;34m(\u001b[0m\u001b[0mtrain_wine\u001b[0m\u001b[0;34m,\u001b[0m \u001b[0mgini_index\u001b[0m\u001b[0;34m,\u001b[0m \u001b[0;36m8\u001b[0m\u001b[0;34m,\u001b[0m \u001b[0;36m1\u001b[0m\u001b[0;34m)\u001b[0m\u001b[0;34m\u001b[0m\u001b[0;34m\u001b[0m\u001b[0m\n\u001b[0m\u001b[1;32m      2\u001b[0m \u001b[0mprint_tree\u001b[0m\u001b[0;34m(\u001b[0m\u001b[0mtree_gini\u001b[0m\u001b[0;34m)\u001b[0m\u001b[0;34m\u001b[0m\u001b[0;34m\u001b[0m\u001b[0m\n\u001b[1;32m      3\u001b[0m \u001b[0mprint\u001b[0m\u001b[0;34m(\u001b[0m\u001b[0;34m\"Accuracy: {:4.3f}\"\u001b[0m\u001b[0;34m.\u001b[0m\u001b[0mformat\u001b[0m\u001b[0;34m(\u001b[0m\u001b[0maccuracy\u001b[0m\u001b[0;34m(\u001b[0m\u001b[0mtree_gini\u001b[0m\u001b[0;34m,\u001b[0m \u001b[0mtest_wine\u001b[0m\u001b[0;34m)\u001b[0m\u001b[0;34m)\u001b[0m\u001b[0;34m)\u001b[0m\u001b[0;34m\u001b[0m\u001b[0;34m\u001b[0m\u001b[0m\n",
            "\u001b[0;32m\u003cipython-input-205-65add9334401\u003e\u001b[0m in \u001b[0;36mbuild_tree\u001b[0;34m(train_set, cost_func, max_depth, min_size)\u001b[0m\n\u001b[1;32m      2\u001b[0m     \u001b[0mTreeNode\u001b[0m\u001b[0;34m.\u001b[0m\u001b[0mcounter\u001b[0m \u001b[0;34m\u003d\u001b[0m \u001b[0;36m0\u001b[0m\u001b[0;34m\u001b[0m\u001b[0;34m\u001b[0m\u001b[0m\n\u001b[1;32m      3\u001b[0m     \u001b[0mroot\u001b[0m \u001b[0;34m\u003d\u001b[0m \u001b[0mTreeNode\u001b[0m\u001b[0;34m(\u001b[0m\u001b[0;36m0\u001b[0m\u001b[0;34m,\u001b[0m \u001b[0mtrain_set\u001b[0m\u001b[0;34m,\u001b[0m \u001b[0mcost_func\u001b[0m\u001b[0;34m,\u001b[0m \u001b[0mmax_depth\u001b[0m\u001b[0;34m,\u001b[0m \u001b[0mmin_size\u001b[0m\u001b[0;34m)\u001b[0m\u001b[0;34m\u001b[0m\u001b[0;34m\u001b[0m\u001b[0m\n\u001b[0;32m----\u003e 4\u001b[0;31m     \u001b[0mroot\u001b[0m\u001b[0;34m.\u001b[0m\u001b[0msplit\u001b[0m\u001b[0;34m(\u001b[0m\u001b[0;34m)\u001b[0m\u001b[0;34m\u001b[0m\u001b[0;34m\u001b[0m\u001b[0m\n\u001b[0m\u001b[1;32m      5\u001b[0m     \u001b[0;32mreturn\u001b[0m \u001b[0mroot\u001b[0m\u001b[0;34m\u001b[0m\u001b[0;34m\u001b[0m\u001b[0m\n",
            "\u001b[0;32m\u003cipython-input-204-bd93c9ada0a1\u003e\u001b[0m in \u001b[0;36msplit\u001b[0;34m(self)\u001b[0m\n\u001b[1;32m     75\u001b[0m             \u001b[0mprint\u001b[0m\u001b[0;34m(\u001b[0m\u001b[0;34m\u0027Leaf\u0027\u001b[0m\u001b[0;34m,\u001b[0m \u001b[0mself\u001b[0m\u001b[0;34m.\u001b[0m\u001b[0mlevel\u001b[0m\u001b[0;34m.\u001b[0m\u001b[0msize\u001b[0m\u001b[0;34m,\u001b[0m \u001b[0;34m\u0027\u003e\u003d\u0027\u001b[0m\u001b[0;34m,\u001b[0m \u001b[0mself\u001b[0m\u001b[0;34m.\u001b[0m\u001b[0mmax_depth\u001b[0m\u001b[0;34m)\u001b[0m\u001b[0;34m\u001b[0m\u001b[0;34m\u001b[0m\u001b[0m\n\u001b[1;32m     76\u001b[0m             \u001b[0;32mreturn\u001b[0m\u001b[0;34m\u001b[0m\u001b[0;34m\u001b[0m\u001b[0m\n\u001b[0;32m---\u003e 77\u001b[0;31m         \u001b[0;32mif\u001b[0m \u001b[0mself\u001b[0m\u001b[0;34m.\u001b[0m\u001b[0mdf_node\u001b[0m\u001b[0;34m[\u001b[0m\u001b[0;34m\u0027type\u0027\u001b[0m\u001b[0;34m]\u001b[0m\u001b[0;34m.\u001b[0m\u001b[0munique\u001b[0m\u001b[0;34m(\u001b[0m\u001b[0;34m)\u001b[0m \u001b[0;34m\u003c\u003d\u001b[0m \u001b[0;36m1\u001b[0m\u001b[0;34m:\u001b[0m\u001b[0;34m\u001b[0m\u001b[0;34m\u001b[0m\u001b[0m\n\u001b[0m\u001b[1;32m     78\u001b[0m             \u001b[0mprint\u001b[0m\u001b[0;34m(\u001b[0m\u001b[0;34m\u0027Leaf pure\u0027\u001b[0m\u001b[0;34m)\u001b[0m\u001b[0;34m\u001b[0m\u001b[0;34m\u001b[0m\u001b[0m\n\u001b[1;32m     79\u001b[0m             \u001b[0;32mreturn\u001b[0m\u001b[0;34m\u001b[0m\u001b[0;34m\u001b[0m\u001b[0m\n",
            "\u001b[0;31mValueError\u001b[0m: The truth value of an array with more than one element is ambiguous. Use a.any() or a.all()"
          ],
          "ename": "ValueError",
          "evalue": "The truth value of an array with more than one element is ambiguous. Use a.any() or a.all()",
          "output_type": "error"
        }
      ],
      "source": "tree_gini \u003d build_tree(train_wine, gini_index, 8, 1)\nprint_tree(tree_gini)\nprint(\"Accuracy: {:4.3f}\".format(accuracy(tree_gini, test_wine)))",
      "metadata": {
        "pycharm": {
          "metadata": false,
          "name": "#%%\n",
          "is_executing": false
        }
      }
    },
    {
      "cell_type": "code",
      "execution_count": null,
      "outputs": [],
      "source": "\n",
      "metadata": {
        "pycharm": {
          "metadata": false,
          "name": "#%%\n"
        }
      }
    }
  ],
  "metadata": {
    "kernelspec": {
      "display_name": "Python 3",
      "language": "python",
      "name": "python3"
    },
    "language_info": {
      "codemirror_mode": {
        "name": "ipython",
        "version": 3
      },
      "file_extension": ".py",
      "mimetype": "text/x-python",
      "name": "python",
      "nbconvert_exporter": "python",
      "pygments_lexer": "ipython3",
      "version": "3.7.1"
    },
    "latex_envs": {
      "LaTeX_envs_menu_present": true,
      "autoclose": false,
      "autocomplete": true,
      "bibliofile": "biblio.bib",
      "cite_by": "apalike",
      "current_citInitial": 1,
      "eqLabelWithNumbers": true,
      "eqNumInitial": 1,
      "hotkeys": {
        "equation": "Ctrl-E",
        "itemize": "Ctrl-I"
      },
      "labels_anchors": false,
      "latex_user_defs": false,
      "report_style_numbering": false,
      "user_envs_cfg": false
    },
    "toc": {
      "base_numbering": 1,
      "nav_menu": {},
      "number_sections": true,
      "sideBar": true,
      "skip_h1_title": false,
      "title_cell": "Table of Contents",
      "title_sidebar": "Contents",
      "toc_cell": false,
      "toc_position": {},
      "toc_section_display": true,
      "toc_window_display": true
    },
    "varInspector": {
      "cols": {
        "lenName": 16,
        "lenType": 16,
        "lenVar": 40
      },
      "kernels_config": {
        "python": {
          "delete_cmd_postfix": "",
          "delete_cmd_prefix": "del ",
          "library": "var_list.py",
          "varRefreshCmd": "print(var_dic_list())"
        },
        "r": {
          "delete_cmd_postfix": ") ",
          "delete_cmd_prefix": "rm(",
          "library": "var_list.r",
          "varRefreshCmd": "cat(var_dic_list()) "
        }
      },
      "types_to_exclude": [
        "module",
        "function",
        "builtin_function_or_method",
        "instance",
        "_Feature"
      ],
      "window_display": false
    },
    "stem_cell": {
      "cell_type": "raw",
      "source": "",
      "metadata": {
        "pycharm": {
          "metadata": false
        }
      }
    }
  },
  "nbformat": 4,
  "nbformat_minor": 2
}