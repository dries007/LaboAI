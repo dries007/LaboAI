{
 "cells": [
  {
   "cell_type": "markdown",
   "metadata": {},
   "source": [
    "# Practice Session AI: Decision Tree <a class=\"tocSkip\">"
   ]
  },
  {
   "cell_type": "code",
   "execution_count": null,
   "metadata": {},
   "outputs": [],
   "source": [
    "# vul in\n",
    "\n",
    "print(\"Naam:\", \"<naam>\")\n",
    "print(\"Voornaam:\", \"<voornaam>\")\n",
    "print(\"S-nummer:\", \"<s-nummer>\")\n",
    "print(\"Richting:\", \"<richting>\")\n",
    "\n",
    "# druk <ctrl> + <enter>"
   ]
  },
  {
   "cell_type": "markdown",
   "metadata": {},
   "source": [
    "<img src=\"https://i.imgur.com/kTl5dQa.jpg\" alt=\"panda in tree\" width=500/>"
   ]
  },
  {
   "cell_type": "markdown",
   "metadata": {},
   "source": [
    "In deze labosessie gaan we zelf één van de *machine learning models* uit de vorige notebook implementeren, namelijk de *Decision Tree*. Net zoals in de vorige sessies levert de *Pandas* library hier de basisstructuren waarin de data wordt voorgesteld. Om de werking van het uitgewerkte algoritme te testen, zullen we dit evalueren op de vertrouwde wijn-dataset."
   ]
  },
  {
   "cell_type": "markdown",
   "metadata": {},
   "source": [
    "## Imports and Loading\n",
    "\n",
    "Om te veel herhaling te voorkomen, wordt de code voor deze stappen gewoon meegegeven. Net zoals vorige week gaan we werken met een ``ModelFrame`` uit Pandas_ML, omwille van de handige ``data`` (*features*) en ``target`` (*target*) accessoren."
   ]
  },
  {
   "cell_type": "code",
   "execution_count": null,
   "metadata": {},
   "outputs": [],
   "source": [
    "import numpy as np\n",
    "import pandas as pd\n",
    "import pandas_ml as pdml\n",
    "\n",
    "from tqdm import tqdm        ## process bar tool (optional)"
   ]
  },
  {
   "cell_type": "code",
   "execution_count": null,
   "metadata": {},
   "outputs": [],
   "source": [
    "col_names = ['type', 'alcohol', 'malic_acid', 'ash', 'alkalinity', 'magnesium', 'total_phenols', 'flavonoids', 'nonflavonoid_phenols', 'proanthocyanins', 'color_intensity', 'color_hue', 'OD280', 'proline']\n",
    "df = pd.read_csv(\"data/wine_orig.csv\", names=col_names)"
   ]
  },
  {
   "cell_type": "code",
   "execution_count": null,
   "metadata": {},
   "outputs": [],
   "source": [
    "df.head()"
   ]
  },
  {
   "cell_type": "code",
   "execution_count": null,
   "metadata": {},
   "outputs": [],
   "source": [
    "df_wine = pdml.ModelFrame(df, target='type')"
   ]
  },
  {
   "cell_type": "code",
   "execution_count": null,
   "metadata": {},
   "outputs": [],
   "source": [
    "train_wine, test_wine = df_wine.model_selection.train_test_split(test_size=0.3, random_state=0)\n",
    "print(\"Length of training set: {} ({}% of the samples)\".format(len(train_wine), len(train_wine)/len(df_wine)))\n",
    "print(\"Length of test set: {} ({}% of the samples)\".format(len(test_wine), len(test_wine)/len(df_wine)))"
   ]
  },
  {
   "cell_type": "code",
   "execution_count": null,
   "metadata": {},
   "outputs": [],
   "source": [
    "train_wine.head()"
   ]
  },
  {
   "cell_type": "markdown",
   "metadata": {},
   "source": [
    "## Building Blocks\n",
    "\n",
    "### Splitter"
   ]
  },
  {
   "cell_type": "markdown",
   "metadata": {},
   "source": [
    "Eerst en vooral is er een functie nodig die een ``ModelFrame`` opsplitst in twee delen op basis van de waarde van één van de *features*, en deze twee delen teruggeeft."
   ]
  },
  {
   "cell_type": "code",
   "execution_count": null,
   "metadata": {},
   "outputs": [],
   "source": [
    "def split_on_attribute(df_node, attribute, value):\n",
    "    raise NotImplementedError(\"Fill in the code!\")"
   ]
  },
  {
   "cell_type": "markdown",
   "metadata": {},
   "source": [
    "### Cost function\n",
    "\n",
    "De split-functie gaat bij het opstellen van de tree opgeroepen worden wanneer er een *node* binair moet worden gesplitst. Uiteraard is het op voorhand nogal moeilijk te weten welke *feature* en bijbehorende *value* moeten gebruikt worden om tot een zo goed mogelijke split te komen waarbij de klassen zo volledig mogelijk van elkaar te scheiden. Om dit te testen maken we gebruik van enkele concepten uit de informatietheorie, waardoor we tot een *cost function* kunnen komen. "
   ]
  },
  {
   "cell_type": "markdown",
   "metadata": {},
   "source": [
    "#### Information Gain and Entropy\n",
    "\n",
    "*Information gain* is een manier om uit te drukken hoeveel onzekerheid er wordt verloren bij het opsplitsen van de data in een *node*. Deze onzekerheid wordt uitgedrukt in de vorm van *entropy* (eenheid: *bits*), beschreven in de onderstaande formule."
   ]
  },
  {
   "cell_type": "markdown",
   "metadata": {},
   "source": [
    "\\begin{equation*}\n",
    "H(X) = - \\sum \\limits_{i=1}^{n} p(x_i) \\log_2 p(x_i)\n",
    "\\end{equation*}"
   ]
  },
  {
   "cell_type": "markdown",
   "metadata": {},
   "source": [
    "Om de *information gain* tussen een *node* en zijn *children* te maximaliseren, is het voldoende om de split te kiezen waarbij de *entropy* van de *children* minimaal is."
   ]
  },
  {
   "cell_type": "code",
   "execution_count": null,
   "metadata": {},
   "outputs": [],
   "source": [
    "def entropy(df_node):\n",
    "    raise NotImplementedError(\"Fill in the code!\")"
   ]
  },
  {
   "cell_type": "code",
   "execution_count": null,
   "metadata": {},
   "outputs": [],
   "source": [
    "# test entropy\n",
    "entropy(train_wine)"
   ]
  },
  {
   "cell_type": "markdown",
   "metadata": {},
   "source": [
    "#### Gini Impurity\n",
    "\n",
    "Een andere manier om de split te optimaliseren is de *Gini impurity*. Deze is een maat voor de kans dat elementen van een bepaalde klasse in een *node* gemisclassificeerd worden. "
   ]
  },
  {
   "cell_type": "markdown",
   "metadata": {},
   "source": [
    "\\begin{equation*}\n",
    "I_G(X) = 1 - \\sum \\limits_{i=1}^{n} p(x_i)^2\n",
    "\\end{equation*}"
   ]
  },
  {
   "cell_type": "markdown",
   "metadata": {},
   "source": [
    "Uiteraard willen we dit aantal misclassificaties zo laag mogelijk houden, dus voor een zo goed mogelijke split hebben we graag een minimale *Gini impurity* bij de *children* van de *node*."
   ]
  },
  {
   "cell_type": "code",
   "execution_count": null,
   "metadata": {},
   "outputs": [],
   "source": [
    "def gini_index(df_node):\n",
    "    raise NotImplementedError(\"Fill in the code!\")"
   ]
  },
  {
   "cell_type": "code",
   "execution_count": null,
   "metadata": {},
   "outputs": [],
   "source": [
    "# test Gini impurity\n",
    "gini_index(train_wine)"
   ]
  },
  {
   "cell_type": "markdown",
   "metadata": {},
   "source": [
    "#### Weighted Cost\n",
    "\n",
    "Om de *costs* van de *children* van een *node* in één getal te kunnen weergeven, berekenen we het gewogen gemiddelde van de *splitting cost* voor zowel *entropy* als *Gini impurity* op de volgende manier:"
   ]
  },
  {
   "cell_type": "markdown",
   "metadata": {},
   "source": [
    "\\begin{equation*}\n",
    "\\overline{cost}(N, L, R) = P(L \\vert N) \\cdot cost(L) + P(R \\vert N) \\cdot cost(R)\n",
    "\\end{equation*}"
   ]
  },
  {
   "cell_type": "code",
   "execution_count": null,
   "metadata": {},
   "outputs": [],
   "source": [
    "def weighted_cost(df_node, node_left, node_right, cost_func):\n",
    "    raise NotImplementedError(\"Fill in the code!\")"
   ]
  },
  {
   "cell_type": "code",
   "execution_count": null,
   "metadata": {},
   "outputs": [],
   "source": [
    "# test weighted cost with entropy\n",
    "weighted_cost(train_wine, *split_on_attribute(train_wine, 'alkalinity', 16), entropy)"
   ]
  },
  {
   "cell_type": "code",
   "execution_count": null,
   "metadata": {},
   "outputs": [],
   "source": [
    "# test weighted cost with Gini impurity\n",
    "weighted_cost(train_wine, *split_on_attribute(train_wine, 'alkalinity', 16), gini_index)"
   ]
  },
  {
   "cell_type": "markdown",
   "metadata": {},
   "source": [
    "### Apply Split\n",
    "\n",
    "Nu hoeven we enkel nog een functie te schrijven die over alle waarden van alle *features* in de dataset gaat, hierbij de *cost* berekent, en vervolgens *feature* en waarde teruggeeft waarbij de *splitting cost* het laagste is. \n",
    "\n",
    "**Let op:** Op de ``target`` kolom mag **nooit** gesplitst worden!"
   ]
  },
  {
   "cell_type": "code",
   "execution_count": null,
   "metadata": {},
   "outputs": [],
   "source": [
    "def find_best_split(df_node, cost_func):\n",
    "    raise NotImplementedError(\"Fill in the code!\")"
   ]
  },
  {
   "cell_type": "code",
   "execution_count": null,
   "metadata": {},
   "outputs": [],
   "source": [
    "# test best split finder with entropy\n",
    "find_best_split(train_wine, gini_index)"
   ]
  },
  {
   "cell_type": "code",
   "execution_count": null,
   "metadata": {},
   "outputs": [],
   "source": [
    "#test best split finder with Gini impurity\n",
    "find_best_split(train_wine, entropy)"
   ]
  },
  {
   "cell_type": "markdown",
   "metadata": {},
   "source": [
    "### Build Tree\n",
    "\n",
    "Met behulp van de ``find_best_split`` functie is het nu mogelijk om de *decision tree* recursief op te stellen. Het grootste deel van de functies en attributen van de ``TreeNode`` klasse zijn reeds gegeven, enkel de ``split`` functie (waar de recursie gebeurt) dient nog aangevuld te worden."
   ]
  },
  {
   "cell_type": "code",
   "execution_count": null,
   "metadata": {
    "code_folding": []
   },
   "outputs": [],
   "source": [
    "class TreeNode(object):\n",
    "    \"\"\" \n",
    "    Forms the node of a decision tree.\n",
    "    \n",
    "    Args:\n",
    "        level: Level of the node in the tree.\n",
    "        df_node: ModelFrame containing the data of the node\n",
    "        cost_func: Function to calculate the splitting cost (entropy or gini_index).\n",
    "        max_depth: Maximum depth of the tree.\n",
    "        min_length: Minimum amount of elements that a node has to contain to be considered splittable.\n",
    "    \"\"\"\n",
    "    counter = 0\n",
    "    def __init__(self, level, df_node, cost_func, max_depth, min_length, **kwargs):\n",
    "        self._id = type(self).counter\n",
    "        type(self).counter += 1\n",
    "        self.level = level\n",
    "        self.df_node = df_node\n",
    "        self.cost_func = cost_func\n",
    "        self.max_depth = max_depth\n",
    "        self.min_length = min_length\n",
    "        self.cost = self.cost_func(self.df_node)\n",
    "        self.split_attr = None\n",
    "        self.split_value = None\n",
    "        self.left = None\n",
    "        self.right = None\n",
    "    \n",
    "    @property\n",
    "    def record_amt(self):\n",
    "        \"\"\" \n",
    "        Returns the amount of data elements in this node's ModelFrame.\n",
    "        \"\"\"\n",
    "        return len(self.df_node)\n",
    "    \n",
    "    @property\n",
    "    def has_children(self):\n",
    "        \"\"\" \n",
    "        Check if the node has any children.\n",
    "        \"\"\"\n",
    "        return self.left is not None and self.right is not None\n",
    "    \n",
    "    @property\n",
    "    def class_distribution(self):\n",
    "        \"\"\"\n",
    "        Gives a dict containing the classes as keys and the amount of elements per class as values.\n",
    "        \"\"\"\n",
    "        return self.df_node.target.value_counts().to_dict()\n",
    "    \n",
    "    @property\n",
    "    def category(self):\n",
    "        \"\"\"\n",
    "        Returns the dominant category of the elements in this node.\n",
    "        \"\"\"\n",
    "        return max(self.class_distribution, key=lambda key: self.class_distribution[key])\n",
    "    \n",
    "    def add_left(self, node):\n",
    "        \"\"\"\n",
    "        Add another node to this node as left child.\n",
    "        \"\"\"\n",
    "        self.left = node\n",
    "        \n",
    "    def add_right(self, node):\n",
    "        \"\"\"\n",
    "        Add another node to this node as right child.\n",
    "        \"\"\"\n",
    "        self.right = node\n",
    "        \n",
    "    def split(self):\n",
    "        \"\"\"\n",
    "        Split the node into two children.\n",
    "        \"\"\"\n",
    "        raise NotImplementedError(\"Fill in the code!\")\n",
    "        "
   ]
  },
  {
   "cell_type": "code",
   "execution_count": null,
   "metadata": {},
   "outputs": [],
   "source": [
    "def build_tree(train_set, cost_func, max_depth, min_size):\n",
    "    TreeNode.counter = 0\n",
    "    root = TreeNode(0, train_set, cost_func, max_depth, min_size)\n",
    "    root.split()\n",
    "    return root    "
   ]
  },
  {
   "cell_type": "markdown",
   "metadata": {},
   "source": [
    "### Print Tree\n",
    "\n",
    "Om te kijken hoe het getrainde model eruit ziet, wordt er een (rudimentaire) functie meegegeven waarmee de boom recursief kan geprint worden. We moeten er wel voor zorgen dat de juiste velden op de juiste manier geupdated worden in de ``split`` functie van hierboven, anders krijgen we waarschijnlijk een foutboodschap."
   ]
  },
  {
   "cell_type": "code",
   "execution_count": null,
   "metadata": {},
   "outputs": [],
   "source": [
    "def print_tree(node, sign='<'):\n",
    "    if node.has_children:\n",
    "        print(node._id, node.level * \"  \", \n",
    "              node.split_attr, sign, node.split_value, '---', \n",
    "              node.cost, '---', node.class_distribution, '---', node.category)\n",
    "    else:\n",
    "        print(node._id, node.level * \"  \", sign, \"---\", \n",
    "              node.cost, '---', node.class_distribution, '---', node.category)\n",
    "    if node.left is not None:\n",
    "        print_tree(node.left, sign=\"<\")\n",
    "    if node.right is not None:\n",
    "        print_tree(node.right, sign=\">=\")"
   ]
  },
  {
   "cell_type": "markdown",
   "metadata": {},
   "source": [
    "### Make Predictions\n",
    "\n",
    "Uiteraard willen we het model niet alleen maar kunnen gebruiken om de trainingsdata te omschrijven (*description*), maar ook om te voorspellen hoe nieuwe data met een ongekend label geclassificeerd wordt door de boom (*prediction*). Hiervoor maken we opnieuw gebruik van recursie: we vertrekken in de *root* en vergelijken ``split_attr`` en ``split_value`` met de testdata. Op basis van deze vergelijking gaan we verder in één van de twee *children* van de *node*, totdat we een *node* bereiken die geen *children* meer heeft. De ``category`` van deze *node* is dan de uitkomst van onze voorspelling."
   ]
  },
  {
   "cell_type": "code",
   "execution_count": null,
   "metadata": {},
   "outputs": [],
   "source": [
    "def predict(data, node):\n",
    "    raise NotImplementedError(\"Fill in the code!\")"
   ]
  },
  {
   "cell_type": "markdown",
   "metadata": {},
   "source": [
    "### Evaluate"
   ]
  },
  {
   "cell_type": "code",
   "execution_count": null,
   "metadata": {},
   "outputs": [],
   "source": [
    "def evaluate(tree, test_set):\n",
    "    results = []\n",
    "    for row in test_wine.itertuples():\n",
    "        data = row._asdict()\n",
    "        results.append((data['type'], predict(data, tree)))\n",
    "    print([f\"{i}: {res[0]} {res[1]}\" for i, res in enumerate(results)])\n",
    "    return pd.DataFrame(results, columns=['target','predicted'])"
   ]
  },
  {
   "cell_type": "markdown",
   "metadata": {},
   "source": [
    "### Calculate Accuracy"
   ]
  },
  {
   "cell_type": "code",
   "execution_count": null,
   "metadata": {},
   "outputs": [],
   "source": [
    "def accuracy(tree, test_set):\n",
    "    df_results = evaluate(tree, test_wine)\n",
    "    return (df_results.target == df_results.predicted).sum()/len(df_results)"
   ]
  },
  {
   "cell_type": "markdown",
   "metadata": {},
   "source": [
    "## Testing the Trees"
   ]
  },
  {
   "cell_type": "markdown",
   "metadata": {},
   "source": [
    "### Using Entropy"
   ]
  },
  {
   "cell_type": "code",
   "execution_count": null,
   "metadata": {},
   "outputs": [],
   "source": [
    "tree_entropy = build_tree(train_wine, entropy, 8, 1)\n",
    "print_tree(tree_entropy)\n",
    "print(\"Accuracy: {:4.3f}\".format(accuracy(tree_entropy, test_wine)))"
   ]
  },
  {
   "cell_type": "markdown",
   "metadata": {},
   "source": [
    "### Using Gini Impurity"
   ]
  },
  {
   "cell_type": "code",
   "execution_count": null,
   "metadata": {},
   "outputs": [],
   "source": [
    "tree_gini = build_tree(train_wine, gini_index, 8, 1)\n",
    "print_tree(tree_gini)\n",
    "print(\"Accuracy: {:4.3f}\".format(accuracy(tree_gini, test_wine)))"
   ]
  }
 ],
 "metadata": {
  "kernelspec": {
   "display_name": "Python 3",
   "language": "python",
   "name": "python3"
  },
  "language_info": {
   "codemirror_mode": {
    "name": "ipython",
    "version": 3
   },
   "file_extension": ".py",
   "mimetype": "text/x-python",
   "name": "python",
   "nbconvert_exporter": "python",
   "pygments_lexer": "ipython3",
   "version": "3.7.1"
  },
  "latex_envs": {
   "LaTeX_envs_menu_present": true,
   "autoclose": false,
   "autocomplete": true,
   "bibliofile": "biblio.bib",
   "cite_by": "apalike",
   "current_citInitial": 1,
   "eqLabelWithNumbers": true,
   "eqNumInitial": 1,
   "hotkeys": {
    "equation": "Ctrl-E",
    "itemize": "Ctrl-I"
   },
   "labels_anchors": false,
   "latex_user_defs": false,
   "report_style_numbering": false,
   "user_envs_cfg": false
  },
  "toc": {
   "base_numbering": 1,
   "nav_menu": {},
   "number_sections": true,
   "sideBar": true,
   "skip_h1_title": false,
   "title_cell": "Table of Contents",
   "title_sidebar": "Contents",
   "toc_cell": false,
   "toc_position": {},
   "toc_section_display": true,
   "toc_window_display": true
  },
  "varInspector": {
   "cols": {
    "lenName": 16,
    "lenType": 16,
    "lenVar": 40
   },
   "kernels_config": {
    "python": {
     "delete_cmd_postfix": "",
     "delete_cmd_prefix": "del ",
     "library": "var_list.py",
     "varRefreshCmd": "print(var_dic_list())"
    },
    "r": {
     "delete_cmd_postfix": ") ",
     "delete_cmd_prefix": "rm(",
     "library": "var_list.r",
     "varRefreshCmd": "cat(var_dic_list()) "
    }
   },
   "types_to_exclude": [
    "module",
    "function",
    "builtin_function_or_method",
    "instance",
    "_Feature"
   ],
   "window_display": false
  }
 },
 "nbformat": 4,
 "nbformat_minor": 2
}
