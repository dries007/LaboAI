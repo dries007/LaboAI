{
  "cells": [
    {
      "cell_type": "markdown",
      "source": "# Practice Session AI: Decision Tree \u003ca class\u003d\"tocSkip\"\u003e",
      "metadata": {
        "pycharm": {
          "metadata": false
        }
      }
    },
    {
      "cell_type": "code",
      "execution_count": 4,
      "outputs": [
        {
          "name": "stdout",
          "text": [
            "Naam: Kennes\nVoornaam: Dries\nS-nummer: R0486630\nRichting: ICT\n"
          ],
          "output_type": "stream"
        }
      ],
      "source": "# vul in\n\nprint(\"Naam:\", \"Kennes\")\nprint(\"Voornaam:\", \"Dries\")\nprint(\"S-nummer:\", \"R0486630\")\nprint(\"Richting:\", \"ICT\")\n\n# druk \u003cctrl\u003e + \u003center\u003e",
      "metadata": {
        "pycharm": {
          "metadata": false,
          "name": "#%%\n",
          "is_executing": false
        }
      }
    },
    {
      "cell_type": "markdown",
      "source": "\u003c!-- \u003cimg src\u003d\"https://i.imgur.com/kTl5dQa.jpg\" alt\u003d\"panda in tree\" width\u003d500/\u003e --\u003e",
      "metadata": {
        "pycharm": {
          "metadata": false
        }
      }
    },
    {
      "cell_type": "markdown",
      "source": "In deze labosessie gaan we zelf één van de *machine learning models* uit de vorige notebook implementeren, namelijk de *Decision Tree*. Net zoals in de vorige sessies levert de *Pandas* library hier de basisstructuren waarin de data wordt voorgesteld. Om de werking van het uitgewerkte algoritme te testen, zullen we dit evalueren op de vertrouwde wijn-dataset.",
      "metadata": {
        "pycharm": {
          "metadata": false
        }
      }
    },
    {
      "cell_type": "markdown",
      "source": "## Imports and Loading\n\nOm te veel herhaling te voorkomen, wordt de code voor deze stappen gewoon meegegeven. Net zoals vorige week gaan we werken met een ``ModelFrame`` uit Pandas_ML, omwille van de handige ``data`` (*features*) en ``target`` (*target*) accessoren.",
      "metadata": {
        "pycharm": {
          "metadata": false
        }
      }
    },
    {
      "cell_type": "code",
      "execution_count": 5,
      "outputs": [],
      "source": "import numpy as np\nimport pandas as pd\nimport pandas_ml as pdml\n\nfrom tqdm import tqdm        ## process bar tool (optional)",
      "metadata": {
        "pycharm": {
          "metadata": false,
          "name": "#%%\n",
          "is_executing": false
        }
      }
    },
    {
      "cell_type": "code",
      "execution_count": 6,
      "outputs": [],
      "source": "col_names \u003d [\u0027type\u0027, \u0027alcohol\u0027, \u0027malic_acid\u0027, \u0027ash\u0027, \u0027alkalinity\u0027, \u0027magnesium\u0027, \u0027total_phenols\u0027, \u0027flavonoids\u0027, \u0027nonflavonoid_phenols\u0027, \u0027proanthocyanins\u0027, \u0027color_intensity\u0027, \u0027color_hue\u0027, \u0027OD280\u0027, \u0027proline\u0027]\ndf \u003d pd.read_csv(\"data/wine_orig.csv\", names\u003dcol_names)",
      "metadata": {
        "pycharm": {
          "metadata": false,
          "name": "#%%\n",
          "is_executing": false
        }
      }
    },
    {
      "cell_type": "code",
      "execution_count": 7,
      "outputs": [
        {
          "data": {
            "text/plain": "   type  alcohol  malic_acid   ash  alkalinity  magnesium  total_phenols  \\\n0     1    14.23        1.71  2.43        15.6        127           2.80   \n1     1    13.20        1.78  2.14        11.2        100           2.65   \n2     1    13.16        2.36  2.67        18.6        101           2.80   \n3     1    14.37        1.95  2.50        16.8        113           3.85   \n4     1    13.24        2.59  2.87        21.0        118           2.80   \n\n   flavonoids  nonflavonoid_phenols  proanthocyanins  color_intensity  \\\n0        3.06                  0.28             2.29             5.64   \n1        2.76                  0.26             1.28             4.38   \n2        3.24                  0.30             2.81             5.68   \n3        3.49                  0.24             2.18             7.80   \n4        2.69                  0.39             1.82             4.32   \n\n   color_hue  OD280  proline  \n0       1.04   3.92     1065  \n1       1.05   3.40     1050  \n2       1.03   3.17     1185  \n3       0.86   3.45     1480  \n4       1.04   2.93      735  ",
            "text/html": "\u003cdiv\u003e\n\u003cstyle scoped\u003e\n    .dataframe tbody tr th:only-of-type {\n        vertical-align: middle;\n    }\n\n    .dataframe tbody tr th {\n        vertical-align: top;\n    }\n\n    .dataframe thead th {\n        text-align: right;\n    }\n\u003c/style\u003e\n\u003ctable border\u003d\"1\" class\u003d\"dataframe\"\u003e\n  \u003cthead\u003e\n    \u003ctr style\u003d\"text-align: right;\"\u003e\n      \u003cth\u003e\u003c/th\u003e\n      \u003cth\u003etype\u003c/th\u003e\n      \u003cth\u003ealcohol\u003c/th\u003e\n      \u003cth\u003emalic_acid\u003c/th\u003e\n      \u003cth\u003eash\u003c/th\u003e\n      \u003cth\u003ealkalinity\u003c/th\u003e\n      \u003cth\u003emagnesium\u003c/th\u003e\n      \u003cth\u003etotal_phenols\u003c/th\u003e\n      \u003cth\u003eflavonoids\u003c/th\u003e\n      \u003cth\u003enonflavonoid_phenols\u003c/th\u003e\n      \u003cth\u003eproanthocyanins\u003c/th\u003e\n      \u003cth\u003ecolor_intensity\u003c/th\u003e\n      \u003cth\u003ecolor_hue\u003c/th\u003e\n      \u003cth\u003eOD280\u003c/th\u003e\n      \u003cth\u003eproline\u003c/th\u003e\n    \u003c/tr\u003e\n  \u003c/thead\u003e\n  \u003ctbody\u003e\n    \u003ctr\u003e\n      \u003cth\u003e0\u003c/th\u003e\n      \u003ctd\u003e1\u003c/td\u003e\n      \u003ctd\u003e14.23\u003c/td\u003e\n      \u003ctd\u003e1.71\u003c/td\u003e\n      \u003ctd\u003e2.43\u003c/td\u003e\n      \u003ctd\u003e15.6\u003c/td\u003e\n      \u003ctd\u003e127\u003c/td\u003e\n      \u003ctd\u003e2.80\u003c/td\u003e\n      \u003ctd\u003e3.06\u003c/td\u003e\n      \u003ctd\u003e0.28\u003c/td\u003e\n      \u003ctd\u003e2.29\u003c/td\u003e\n      \u003ctd\u003e5.64\u003c/td\u003e\n      \u003ctd\u003e1.04\u003c/td\u003e\n      \u003ctd\u003e3.92\u003c/td\u003e\n      \u003ctd\u003e1065\u003c/td\u003e\n    \u003c/tr\u003e\n    \u003ctr\u003e\n      \u003cth\u003e1\u003c/th\u003e\n      \u003ctd\u003e1\u003c/td\u003e\n      \u003ctd\u003e13.20\u003c/td\u003e\n      \u003ctd\u003e1.78\u003c/td\u003e\n      \u003ctd\u003e2.14\u003c/td\u003e\n      \u003ctd\u003e11.2\u003c/td\u003e\n      \u003ctd\u003e100\u003c/td\u003e\n      \u003ctd\u003e2.65\u003c/td\u003e\n      \u003ctd\u003e2.76\u003c/td\u003e\n      \u003ctd\u003e0.26\u003c/td\u003e\n      \u003ctd\u003e1.28\u003c/td\u003e\n      \u003ctd\u003e4.38\u003c/td\u003e\n      \u003ctd\u003e1.05\u003c/td\u003e\n      \u003ctd\u003e3.40\u003c/td\u003e\n      \u003ctd\u003e1050\u003c/td\u003e\n    \u003c/tr\u003e\n    \u003ctr\u003e\n      \u003cth\u003e2\u003c/th\u003e\n      \u003ctd\u003e1\u003c/td\u003e\n      \u003ctd\u003e13.16\u003c/td\u003e\n      \u003ctd\u003e2.36\u003c/td\u003e\n      \u003ctd\u003e2.67\u003c/td\u003e\n      \u003ctd\u003e18.6\u003c/td\u003e\n      \u003ctd\u003e101\u003c/td\u003e\n      \u003ctd\u003e2.80\u003c/td\u003e\n      \u003ctd\u003e3.24\u003c/td\u003e\n      \u003ctd\u003e0.30\u003c/td\u003e\n      \u003ctd\u003e2.81\u003c/td\u003e\n      \u003ctd\u003e5.68\u003c/td\u003e\n      \u003ctd\u003e1.03\u003c/td\u003e\n      \u003ctd\u003e3.17\u003c/td\u003e\n      \u003ctd\u003e1185\u003c/td\u003e\n    \u003c/tr\u003e\n    \u003ctr\u003e\n      \u003cth\u003e3\u003c/th\u003e\n      \u003ctd\u003e1\u003c/td\u003e\n      \u003ctd\u003e14.37\u003c/td\u003e\n      \u003ctd\u003e1.95\u003c/td\u003e\n      \u003ctd\u003e2.50\u003c/td\u003e\n      \u003ctd\u003e16.8\u003c/td\u003e\n      \u003ctd\u003e113\u003c/td\u003e\n      \u003ctd\u003e3.85\u003c/td\u003e\n      \u003ctd\u003e3.49\u003c/td\u003e\n      \u003ctd\u003e0.24\u003c/td\u003e\n      \u003ctd\u003e2.18\u003c/td\u003e\n      \u003ctd\u003e7.80\u003c/td\u003e\n      \u003ctd\u003e0.86\u003c/td\u003e\n      \u003ctd\u003e3.45\u003c/td\u003e\n      \u003ctd\u003e1480\u003c/td\u003e\n    \u003c/tr\u003e\n    \u003ctr\u003e\n      \u003cth\u003e4\u003c/th\u003e\n      \u003ctd\u003e1\u003c/td\u003e\n      \u003ctd\u003e13.24\u003c/td\u003e\n      \u003ctd\u003e2.59\u003c/td\u003e\n      \u003ctd\u003e2.87\u003c/td\u003e\n      \u003ctd\u003e21.0\u003c/td\u003e\n      \u003ctd\u003e118\u003c/td\u003e\n      \u003ctd\u003e2.80\u003c/td\u003e\n      \u003ctd\u003e2.69\u003c/td\u003e\n      \u003ctd\u003e0.39\u003c/td\u003e\n      \u003ctd\u003e1.82\u003c/td\u003e\n      \u003ctd\u003e4.32\u003c/td\u003e\n      \u003ctd\u003e1.04\u003c/td\u003e\n      \u003ctd\u003e2.93\u003c/td\u003e\n      \u003ctd\u003e735\u003c/td\u003e\n    \u003c/tr\u003e\n  \u003c/tbody\u003e\n\u003c/table\u003e\n\u003c/div\u003e"
          },
          "metadata": {},
          "output_type": "execute_result",
          "execution_count": 7
        }
      ],
      "source": "df.head()",
      "metadata": {
        "pycharm": {
          "metadata": false,
          "name": "#%%\n",
          "is_executing": false
        }
      }
    },
    {
      "cell_type": "code",
      "execution_count": null,
      "outputs": [],
      "source": "df_wine \u003d pdml.ModelFrame(df, target\u003d\u0027type\u0027)",
      "metadata": {
        "pycharm": {
          "metadata": false,
          "name": "#%%\n",
          "is_executing": true
        }
      }
    },
    {
      "cell_type": "code",
      "execution_count": 9,
      "outputs": [
        {
          "name": "stdout",
          "text": [
            "Length of training set: 124 (0.6966292134831461% of the samples)\nLength of test set: 54 (0.30337078651685395% of the samples)\n"
          ],
          "output_type": "stream"
        }
      ],
      "source": "train_wine, test_wine \u003d df_wine.model_selection.train_test_split(test_size\u003d0.3, random_state\u003d0)\nprint(\"Length of training set: {} ({}% of the samples)\".format(len(train_wine), len(train_wine)/len(df_wine)))\nprint(\"Length of test set: {} ({}% of the samples)\".format(len(test_wine), len(test_wine)/len(df_wine)))",
      "metadata": {
        "pycharm": {
          "metadata": false,
          "name": "#%%\n",
          "is_executing": false
        }
      }
    },
    {
      "cell_type": "code",
      "execution_count": 10,
      "outputs": [
        {
          "data": {
            "text/plain": "     type  alcohol  malic_acid   ash  alkalinity  magnesium  total_phenols  \\\n22      1    13.71        1.86  2.36        16.6      101.0           2.61   \n108     2    12.22        1.29  1.94        19.0       92.0           2.36   \n175     3    13.27        4.28  2.26        20.0      120.0           1.59   \n145     3    13.16        3.57  2.15        21.0      102.0           1.50   \n71      2    13.86        1.51  2.67        25.0       86.0           2.95   \n\n     flavonoids  nonflavonoid_phenols  proanthocyanins  color_intensity  \\\n22         2.88                  0.27             1.69             3.80   \n108        2.04                  0.39             2.08             2.70   \n175        0.69                  0.43             1.35            10.20   \n145        0.55                  0.43             1.30             4.00   \n71         2.86                  0.21             1.87             3.38   \n\n     color_hue  OD280  proline  \n22        1.11   4.00   1035.0  \n108       0.86   3.02    312.0  \n175       0.59   1.56    835.0  \n145       0.60   1.68    830.0  \n71        1.36   3.16    410.0  ",
            "text/html": "\u003cdiv\u003e\n\u003cstyle scoped\u003e\n    .dataframe tbody tr th:only-of-type {\n        vertical-align: middle;\n    }\n\n    .dataframe tbody tr th {\n        vertical-align: top;\n    }\n\n    .dataframe thead th {\n        text-align: right;\n    }\n\u003c/style\u003e\n\u003ctable border\u003d\"1\" class\u003d\"dataframe\"\u003e\n  \u003cthead\u003e\n    \u003ctr style\u003d\"text-align: right;\"\u003e\n      \u003cth\u003e\u003c/th\u003e\n      \u003cth\u003etype\u003c/th\u003e\n      \u003cth\u003ealcohol\u003c/th\u003e\n      \u003cth\u003emalic_acid\u003c/th\u003e\n      \u003cth\u003eash\u003c/th\u003e\n      \u003cth\u003ealkalinity\u003c/th\u003e\n      \u003cth\u003emagnesium\u003c/th\u003e\n      \u003cth\u003etotal_phenols\u003c/th\u003e\n      \u003cth\u003eflavonoids\u003c/th\u003e\n      \u003cth\u003enonflavonoid_phenols\u003c/th\u003e\n      \u003cth\u003eproanthocyanins\u003c/th\u003e\n      \u003cth\u003ecolor_intensity\u003c/th\u003e\n      \u003cth\u003ecolor_hue\u003c/th\u003e\n      \u003cth\u003eOD280\u003c/th\u003e\n      \u003cth\u003eproline\u003c/th\u003e\n    \u003c/tr\u003e\n  \u003c/thead\u003e\n  \u003ctbody\u003e\n    \u003ctr\u003e\n      \u003cth\u003e22\u003c/th\u003e\n      \u003ctd\u003e1\u003c/td\u003e\n      \u003ctd\u003e13.71\u003c/td\u003e\n      \u003ctd\u003e1.86\u003c/td\u003e\n      \u003ctd\u003e2.36\u003c/td\u003e\n      \u003ctd\u003e16.6\u003c/td\u003e\n      \u003ctd\u003e101.0\u003c/td\u003e\n      \u003ctd\u003e2.61\u003c/td\u003e\n      \u003ctd\u003e2.88\u003c/td\u003e\n      \u003ctd\u003e0.27\u003c/td\u003e\n      \u003ctd\u003e1.69\u003c/td\u003e\n      \u003ctd\u003e3.80\u003c/td\u003e\n      \u003ctd\u003e1.11\u003c/td\u003e\n      \u003ctd\u003e4.00\u003c/td\u003e\n      \u003ctd\u003e1035.0\u003c/td\u003e\n    \u003c/tr\u003e\n    \u003ctr\u003e\n      \u003cth\u003e108\u003c/th\u003e\n      \u003ctd\u003e2\u003c/td\u003e\n      \u003ctd\u003e12.22\u003c/td\u003e\n      \u003ctd\u003e1.29\u003c/td\u003e\n      \u003ctd\u003e1.94\u003c/td\u003e\n      \u003ctd\u003e19.0\u003c/td\u003e\n      \u003ctd\u003e92.0\u003c/td\u003e\n      \u003ctd\u003e2.36\u003c/td\u003e\n      \u003ctd\u003e2.04\u003c/td\u003e\n      \u003ctd\u003e0.39\u003c/td\u003e\n      \u003ctd\u003e2.08\u003c/td\u003e\n      \u003ctd\u003e2.70\u003c/td\u003e\n      \u003ctd\u003e0.86\u003c/td\u003e\n      \u003ctd\u003e3.02\u003c/td\u003e\n      \u003ctd\u003e312.0\u003c/td\u003e\n    \u003c/tr\u003e\n    \u003ctr\u003e\n      \u003cth\u003e175\u003c/th\u003e\n      \u003ctd\u003e3\u003c/td\u003e\n      \u003ctd\u003e13.27\u003c/td\u003e\n      \u003ctd\u003e4.28\u003c/td\u003e\n      \u003ctd\u003e2.26\u003c/td\u003e\n      \u003ctd\u003e20.0\u003c/td\u003e\n      \u003ctd\u003e120.0\u003c/td\u003e\n      \u003ctd\u003e1.59\u003c/td\u003e\n      \u003ctd\u003e0.69\u003c/td\u003e\n      \u003ctd\u003e0.43\u003c/td\u003e\n      \u003ctd\u003e1.35\u003c/td\u003e\n      \u003ctd\u003e10.20\u003c/td\u003e\n      \u003ctd\u003e0.59\u003c/td\u003e\n      \u003ctd\u003e1.56\u003c/td\u003e\n      \u003ctd\u003e835.0\u003c/td\u003e\n    \u003c/tr\u003e\n    \u003ctr\u003e\n      \u003cth\u003e145\u003c/th\u003e\n      \u003ctd\u003e3\u003c/td\u003e\n      \u003ctd\u003e13.16\u003c/td\u003e\n      \u003ctd\u003e3.57\u003c/td\u003e\n      \u003ctd\u003e2.15\u003c/td\u003e\n      \u003ctd\u003e21.0\u003c/td\u003e\n      \u003ctd\u003e102.0\u003c/td\u003e\n      \u003ctd\u003e1.50\u003c/td\u003e\n      \u003ctd\u003e0.55\u003c/td\u003e\n      \u003ctd\u003e0.43\u003c/td\u003e\n      \u003ctd\u003e1.30\u003c/td\u003e\n      \u003ctd\u003e4.00\u003c/td\u003e\n      \u003ctd\u003e0.60\u003c/td\u003e\n      \u003ctd\u003e1.68\u003c/td\u003e\n      \u003ctd\u003e830.0\u003c/td\u003e\n    \u003c/tr\u003e\n    \u003ctr\u003e\n      \u003cth\u003e71\u003c/th\u003e\n      \u003ctd\u003e2\u003c/td\u003e\n      \u003ctd\u003e13.86\u003c/td\u003e\n      \u003ctd\u003e1.51\u003c/td\u003e\n      \u003ctd\u003e2.67\u003c/td\u003e\n      \u003ctd\u003e25.0\u003c/td\u003e\n      \u003ctd\u003e86.0\u003c/td\u003e\n      \u003ctd\u003e2.95\u003c/td\u003e\n      \u003ctd\u003e2.86\u003c/td\u003e\n      \u003ctd\u003e0.21\u003c/td\u003e\n      \u003ctd\u003e1.87\u003c/td\u003e\n      \u003ctd\u003e3.38\u003c/td\u003e\n      \u003ctd\u003e1.36\u003c/td\u003e\n      \u003ctd\u003e3.16\u003c/td\u003e\n      \u003ctd\u003e410.0\u003c/td\u003e\n    \u003c/tr\u003e\n  \u003c/tbody\u003e\n\u003c/table\u003e\n\u003c/div\u003e"
          },
          "metadata": {},
          "output_type": "execute_result",
          "execution_count": 10
        }
      ],
      "source": "train_wine.head()",
      "metadata": {
        "pycharm": {
          "metadata": false,
          "name": "#%%\n",
          "is_executing": false
        }
      }
    },
    {
      "cell_type": "markdown",
      "source": "## Building Blocks\n\n### Splitter",
      "metadata": {
        "pycharm": {
          "metadata": false
        }
      }
    },
    {
      "cell_type": "markdown",
      "source": "Eerst en vooral is er een functie nodig die een ``ModelFrame`` opsplitst in twee delen op basis van de waarde van één van de *features*, en deze twee delen teruggeeft.",
      "metadata": {
        "pycharm": {
          "metadata": false
        }
      }
    },
    {
      "cell_type": "code",
      "execution_count": null,
      "outputs": [],
      "source": "def split_on_attribute(df_node, attribute, value):\n    # \u003c, \u003e\u003d\n    # print(\u0027split_on_attribute:\u0027, attribute, value)\n    return df_node.loc[df_node[attribute] \u003c value], df_node.loc[df_node[attribute] \u003e\u003d value]\n\n#split_on_attribute(df_wine, \u0027alcohol\u0027, 13)",
      "metadata": {
        "pycharm": {
          "metadata": false,
          "name": "#%%\n",
          "is_executing": true
        }
      }
    },
    {
      "cell_type": "markdown",
      "source": "### Cost function\n\nDe split-functie gaat bij het opstellen van de tree opgeroepen worden wanneer er een *node* binair moet worden gesplitst. Uiteraard is het op voorhand nogal moeilijk te weten welke *feature* en bijbehorende *value* moeten gebruikt worden om tot een zo goed mogelijke split te komen waarbij de klassen zo volledig mogelijk van elkaar te scheiden. Om dit te testen maken we gebruik van enkele concepten uit de informatietheorie, waardoor we tot een *cost function* kunnen komen. ",
      "metadata": {
        "pycharm": {
          "metadata": false
        }
      }
    },
    {
      "cell_type": "markdown",
      "source": "#### Information Gain and Entropy\n\n*Information gain* is een manier om uit te drukken hoeveel onzekerheid er wordt verloren bij het opsplitsen van de data in een *node*. Deze onzekerheid wordt uitgedrukt in de vorm van *entropy* (eenheid: *bits*), beschreven in de onderstaande formule.",
      "metadata": {
        "pycharm": {
          "metadata": false
        }
      }
    },
    {
      "cell_type": "markdown",
      "source": "\\begin{equation*}\nH(X) \u003d - \\sum \\limits_{i\u003d1}^{n} p(x_i) \\log_2 p(x_i)\n\\end{equation*}",
      "metadata": {
        "pycharm": {
          "metadata": false
        }
      }
    },
    {
      "cell_type": "markdown",
      "source": "Om de *information gain* tussen een *node* en zijn *children* te maximaliseren, is het voldoende om de split te kiezen waarbij de *entropy* van de *children* minimaal is.",
      "metadata": {
        "pycharm": {
          "metadata": false
        }
      }
    },
    {
      "cell_type": "code",
      "execution_count": null,
      "outputs": [],
      "source": "def calc_px(df_node):\n    return [df_node.loc[df[\u0027type\u0027] \u003d\u003d x].size/df_node.size for x in df_node[\u0027type\u0027].unique()]\n\ndef entropy(df_node):\n    px \u003d calc_px(df_node)\n    return -sum(px * np.log2(px))",
      "metadata": {
        "pycharm": {
          "metadata": false,
          "name": "#%%\n",
          "is_executing": true
        }
      }
    },
    {
      "cell_type": "code",
      "execution_count": 13,
      "outputs": [],
      "source": "# test entropy\n#entropy(train_wine)",
      "metadata": {
        "pycharm": {
          "metadata": false,
          "name": "#%%\n",
          "is_executing": false
        }
      }
    },
    {
      "cell_type": "markdown",
      "source": "#### Gini Impurity\n\nEen andere manier om de split te optimaliseren is de *Gini impurity*. Deze is een maat voor de kans dat elementen van een bepaalde klasse in een *node* gemisclassificeerd worden. ",
      "metadata": {
        "pycharm": {
          "metadata": false
        }
      }
    },
    {
      "cell_type": "markdown",
      "source": "\\begin{equation*}\nI_G(X) \u003d 1 - \\sum \\limits_{i\u003d1}^{n} p(x_i)^2\n\\end{equation*}",
      "metadata": {
        "pycharm": {
          "metadata": false
        }
      }
    },
    {
      "cell_type": "markdown",
      "source": "Uiteraard willen we dit aantal misclassificaties zo laag mogelijk houden, dus voor een zo goed mogelijke split hebben we graag een minimale *Gini impurity* bij de *children* van de *node*.",
      "metadata": {
        "pycharm": {
          "metadata": false
        }
      }
    },
    {
      "cell_type": "code",
      "execution_count": 14,
      "outputs": [],
      "source": "def gini_index(df_node):\n    return 1 - sum(x*x for x in calc_px(df_node))",
      "metadata": {
        "pycharm": {
          "metadata": false,
          "name": "#%%\n",
          "is_executing": false
        }
      }
    },
    {
      "cell_type": "code",
      "execution_count": 15,
      "outputs": [],
      "source": "# test Gini impurity\n#gini_index(train_wine)",
      "metadata": {
        "pycharm": {
          "metadata": false,
          "name": "#%%\n",
          "is_executing": false
        }
      }
    },
    {
      "cell_type": "markdown",
      "source": "#### Weighted Cost\n\nOm de *costs* van de *children* van een *node* in één getal te kunnen weergeven, berekenen we het gewogen gemiddelde van de *splitting cost* voor zowel *entropy* als *Gini impurity* op de volgende manier:",
      "metadata": {
        "pycharm": {
          "metadata": false
        }
      }
    },
    {
      "cell_type": "markdown",
      "source": "\\begin{equation*}\n\\overline{cost}(N, L, R) \u003d P(L \\vert N) \\cdot cost(L) + P(R \\vert N) \\cdot cost(R)\n\\end{equation*}",
      "metadata": {
        "pycharm": {
          "metadata": false
        }
      }
    },
    {
      "cell_type": "code",
      "execution_count": 16,
      "outputs": [],
      "source": "def weighted_cost(df_node, node_left, node_right, cost_func):\n    return node_left.size / df_node.size * cost_func(node_left) + \\\n           node_right.size / df_node.size * cost_func(node_right)",
      "metadata": {
        "pycharm": {
          "metadata": false,
          "name": "#%%\n",
          "is_executing": false
        }
      }
    },
    {
      "cell_type": "code",
      "execution_count": 17,
      "outputs": [
        {
          "data": {
            "text/plain": "1.4577427356053494"
          },
          "metadata": {},
          "output_type": "execute_result",
          "execution_count": 17
        }
      ],
      "source": "# test weighted cost with entropy\nweighted_cost(train_wine, *split_on_attribute(train_wine, \u0027alkalinity\u0027, 16), entropy)",
      "metadata": {
        "pycharm": {
          "metadata": false,
          "name": "#%%\n",
          "is_executing": false
        }
      }
    },
    {
      "cell_type": "code",
      "execution_count": 18,
      "outputs": [
        {
          "data": {
            "text/plain": "0.6118637247669506"
          },
          "metadata": {},
          "output_type": "execute_result",
          "execution_count": 18
        }
      ],
      "source": "# test weighted cost with Gini impurity\nweighted_cost(train_wine, *split_on_attribute(train_wine, \u0027alkalinity\u0027, 16), gini_index)",
      "metadata": {
        "pycharm": {
          "metadata": false,
          "name": "#%%\n",
          "is_executing": false
        }
      }
    },
    {
      "cell_type": "markdown",
      "source": "### Apply Split\n\nNu hoeven we enkel nog een functie te schrijven die over alle waarden van alle *features* in de dataset gaat, hierbij de *cost* berekent, en vervolgens *feature* en waarde teruggeeft waarbij de *splitting cost* het laagste is. \n\n**Let op:** Op de ``target`` kolom mag **nooit** gesplitst worden!",
      "metadata": {
        "pycharm": {
          "metadata": false
        }
      }
    },
    {
      "cell_type": "code",
      "execution_count": 19,
      "outputs": [],
      "source": "def find_best_split(df_node, cost_func):\n    \"\"\"\n    :param df_node: \n    :param cost_func: \n    :return: (attribute: str, value:float, left, right)\n    \"\"\"\n    best_costs \u003d None\n    best_col \u003d None\n    best_val \u003d None\n    for col in df_node.columns.values:\n        if col \u003d\u003d \u0027type\u0027:\n            continue\n        for val in df_node[col].unique():\n            l, r \u003d split_on_attribute(df_node, col, val)\n            cost \u003d weighted_cost(df_node, l, r, cost_func)\n            if best_costs is None or cost \u003c best_costs:\n                best_col \u003d col\n                best_val \u003d val\n                best_l \u003d l\n                best_r \u003d r\n    return best_col, best_val, best_l, best_r",
      "metadata": {
        "pycharm": {
          "metadata": false,
          "name": "#%%\n",
          "is_executing": false
        }
      }
    },
    {
      "cell_type": "code",
      "execution_count": null,
      "outputs": [],
      "source": "# test best split finder with entropy\n# find_best_split(train_wine, gini_index)",
      "metadata": {
        "pycharm": {
          "metadata": false,
          "name": "#%%\n",
          "is_executing": true
        }
      }
    },
    {
      "cell_type": "code",
      "execution_count": 21,
      "outputs": [],
      "source": "#test best split finder with Gini impurity\n# find_best_split(train_wine, entropy)",
      "metadata": {
        "pycharm": {
          "metadata": false,
          "name": "#%%\n",
          "is_executing": false
        }
      }
    },
    {
      "cell_type": "markdown",
      "source": "### Build Tree\n\nMet behulp van de ``find_best_split`` functie is het nu mogelijk om de *decision tree* recursief op te stellen. Het grootste deel van de functies en attributen van de ``TreeNode`` klasse zijn reeds gegeven, enkel de ``split`` functie (waar de recursie gebeurt) dient nog aangevuld te worden.",
      "metadata": {
        "pycharm": {
          "metadata": false
        }
      }
    },
    {
      "cell_type": "code",
      "execution_count": 22,
      "outputs": [],
      "source": "class TreeNode(object):\n    \"\"\" \n    Forms the node of a decision tree.\n    \n    Args:\n        level: Level of the node in the tree.\n        df_node: ModelFrame containing the data of the node\n        cost_func: Function to calculate the splitting cost (entropy or gini_index).\n        max_depth: Maximum depth of the tree.\n        min_length: Minimum amount of elements that a node has to contain to be considered splittable.\n    \"\"\"\n    counter \u003d 0\n    def __init__(self, level, df_node, cost_func, max_depth, min_length, **kwargs):\n        self._id \u003d type(self).counter\n        type(self).counter +\u003d 1\n        self.level \u003d level\n        self.df_node \u003d df_node\n        self.cost_func \u003d cost_func\n        self.max_depth \u003d max_depth\n        self.min_length \u003d min_length\n        self.cost \u003d self.cost_func(self.df_node)\n        self.split_attr \u003d None\n        self.split_value \u003d None\n        self.left \u003d None\n        self.right \u003d None\n    \n    @property\n    def record_amt(self):\n        \"\"\" \n        Returns the amount of data elements in this node\u0027s ModelFrame.\n        \"\"\"\n        return len(self.df_node)\n    \n    @property\n    def has_children(self):\n        \"\"\" \n        Check if the node has any children.\n        \"\"\"\n        return self.left is not None and self.right is not None\n    \n    @property\n    def class_distribution(self):\n        \"\"\"\n        Gives a dict containing the classes as keys and the amount of elements per class as values.\n        \"\"\"\n        return self.df_node.target.value_counts().to_dict()\n    \n    @property\n    def category(self):\n        \"\"\"\n        Returns the dominant category of the elements in this node.\n        \"\"\"\n        cd \u003d self.class_distribution\n        if len(cd) \u003d\u003d 0:\n            return \u0027ERROR\u0027\n        return max(cd, key\u003dlambda key: cd[key])\n    \n    def add_left(self, node):\n        \"\"\"\n        Add another node to this node as left child.\n        \"\"\"\n        self.left \u003d node\n        \n    def add_right(self, node):\n        \"\"\"\n        Add another node to this node as right child.\n        \"\"\"\n        self.right \u003d node\n        \n    def split(self):\n        \"\"\"\n        Split the node into two children.\n        \"\"\"\n        if self.df_node.size \u003c\u003d self.min_length:\n            # print(\u0027    \u0027 * self.level, \u0027Leaf node #\u0027, self._id, \u0027based on len\u0027, self.df_node.size, \u0027\u003c\u0027, self.min_length)\n            return\n        if self.level \u003e\u003d self.max_depth:\n            # print(\u0027    \u0027 * self.level, \u0027Leaf node #\u0027, self._id, \u0027based on depth\u0027, self.level, \u0027\u003e\u003d\u0027, self.max_depth)\n            return\n        if len(self.df_node[\u0027type\u0027].unique()) \u003c\u003d 1:\n            # print(\u0027    \u0027 * self.level, \u0027Leaf node #\u0027, self._id, \u0027pure\u0027)\n            return\n        \n        self.split_attr, self.split_value, l, r \u003d find_best_split(self.df_node, self.cost_func)\n        \n        # print(\u0027    \u0027 * self.level, \u0027Node #\u0027, self._id, \u0027split on\u0027, self.split_attr, self.split_value, \u0027L:\u0027, len(l), \u0027R:\u0027, len(r))\n        self.left \u003d TreeNode(self.level + 1, l, self.cost_func, self.max_depth, self.min_length).split()\n        self.right \u003d TreeNode(self.level + 1, r, self.cost_func, self.max_depth, self.min_length).split()\n        return self\n    \ndef build_tree(train_set, cost_func, max_depth, min_size):\n    TreeNode.counter \u003d 0\n    root \u003d TreeNode(0, train_set, cost_func, max_depth, min_size)\n    print(\"Starting split at root.\")\n    root.split()\n    print(\"Splitting done.\")\n    return root",
      "metadata": {
        "pycharm": {
          "metadata": false,
          "name": "#%%\n",
          "is_executing": false
        }
      }
    },
    {
      "cell_type": "markdown",
      "source": "### Print Tree\n\nOm te kijken hoe het getrainde model eruit ziet, wordt er een (rudimentaire) functie meegegeven waarmee de boom recursief kan geprint worden. We moeten er wel voor zorgen dat de juiste velden op de juiste manier geupdated worden in de ``split`` functie van hierboven, anders krijgen we waarschijnlijk een foutboodschap.",
      "metadata": {
        "pycharm": {
          "metadata": false
        }
      }
    },
    {
      "cell_type": "code",
      "execution_count": 23,
      "outputs": [],
      "source": "def print_tree(node: TreeNode, sign\u003d\u0027\u003c\u0027):\n    if node.has_children:\n        print(node._id, node.level * \"  \", \n              node.split_attr, sign, node.split_value, \u0027---\u0027, \n              node.cost, \u0027---\u0027, node.class_distribution, \u0027---\u0027, node.category)\n    else:\n        print(node._id, node.level * \"  \", sign, \"---\", \n              node.cost, \u0027---\u0027, node.class_distribution, \u0027---\u0027, node.category)\n    if node.left is not None:\n        print_tree(node.left, sign\u003d\"\u003c\")\n    if node.right is not None:\n        print_tree(node.right, sign\u003d\"\u003e\u003d\")",
      "metadata": {
        "pycharm": {
          "metadata": false,
          "name": "#%%\n",
          "is_executing": false
        }
      }
    },
    {
      "cell_type": "markdown",
      "source": "### Make Predictions\n\nUiteraard willen we het model niet alleen maar kunnen gebruiken om de trainingsdata te omschrijven (*description*), maar ook om te voorspellen hoe nieuwe data met een ongekend label geclassificeerd wordt door de boom (*prediction*). Hiervoor maken we opnieuw gebruik van recursie: we vertrekken in de *root* en vergelijken ``split_attr`` en ``split_value`` met de testdata. Op basis van deze vergelijking gaan we verder in één van de twee *children* van de *node*, totdat we een *node* bereiken die geen *children* meer heeft. De ``category`` van deze *node* is dan de uitkomst van onze voorspelling.",
      "metadata": {
        "pycharm": {
          "metadata": false
        }
      }
    },
    {
      "cell_type": "code",
      "execution_count": 24,
      "outputs": [],
      "source": "def predict(data, node: TreeNode):\n    if not node.has_children:\n        return node.category\n    if data[node.split_attr] \u003c node.split_value:\n        return predict(data, node.left)\n    return predict(data, node.right)",
      "metadata": {
        "pycharm": {
          "metadata": false,
          "name": "#%%\n",
          "is_executing": false
        }
      }
    },
    {
      "cell_type": "markdown",
      "source": "### Evaluate",
      "metadata": {
        "pycharm": {
          "metadata": false
        }
      }
    },
    {
      "cell_type": "code",
      "execution_count": 25,
      "outputs": [],
      "source": "def evaluate(tree, test_set):\n    results \u003d []\n    for row in test_wine.itertuples():\n        data \u003d row._asdict()\n        results.append((data[\u0027type\u0027], predict(data, tree)))\n    print([f\"{i}: {res[0]} {res[1]}\" for i, res in enumerate(results)])\n    return pd.DataFrame(results, columns\u003d[\u0027target\u0027,\u0027predicted\u0027])",
      "metadata": {
        "pycharm": {
          "metadata": false,
          "name": "#%%\n",
          "is_executing": false
        }
      }
    },
    {
      "cell_type": "markdown",
      "source": "### Calculate Accuracy",
      "metadata": {
        "pycharm": {
          "metadata": false
        }
      }
    },
    {
      "cell_type": "code",
      "execution_count": 26,
      "outputs": [],
      "source": "def accuracy(tree, test_set):\n    df_results \u003d evaluate(tree, test_wine)\n    return (df_results.target \u003d\u003d df_results.predicted).sum()/len(df_results)",
      "metadata": {
        "pycharm": {
          "metadata": false,
          "name": "#%%\n",
          "is_executing": false
        }
      }
    },
    {
      "cell_type": "markdown",
      "source": "## Testing the Trees",
      "metadata": {
        "pycharm": {
          "metadata": false
        }
      }
    },
    {
      "cell_type": "markdown",
      "source": "### Using Entropy",
      "metadata": {
        "pycharm": {
          "metadata": false
        }
      }
    },
    {
      "cell_type": "code",
      "execution_count": 27,
      "outputs": [
        {
          "name": "stdout",
          "text": [
            "Starting split at root.\n",
            " Node # 0 split on proline 660.0 L: 61 R: 63\n",
            "     Node # 1 split on proline 345.0 L: 3 R: 58\n         Leaf node # 2 pure\n",
            "         Node # 3 split on proline 345.0 L: 0 R: 58\n             Leaf node # 4 based on len 0 \u003c 1\n",
            "             Node # 5 split on proline 345.0 L: 0 R: 58\n                 Leaf node # 6 based on len 0 \u003c 1\n",
            "                 Node # 7 split on proline 345.0 L: 0 R: 58\n                     Leaf node # 8 based on len 0 \u003c 1\n",
            "                     Node # 9 split on proline 345.0 L: 0 R: 58\n                         Leaf node # 10 based on len 0 \u003c 1\n",
            "                         Node # 11 split on proline 345.0 L: 0 R: 58\n                             Leaf node # 12 based on len 0 \u003c 1\n",
            "                             Node # 13 split on proline 345.0 L: 0 R: 58\n                                 Leaf node # 14 based on len 0 \u003c 1\n                                 Leaf node # 15 based on depth 8 \u003e\u003d 8\n",
            "     Node # 16 split on proline 660.0 L: 0 R: 63\n         Leaf node # 17 based on len 0 \u003c 1\n",
            "         Node # 18 split on proline 660.0 L: 0 R: 63\n             Leaf node # 19 based on len 0 \u003c 1\n",
            "             Node # 20 split on proline 660.0 L: 0 R: 63\n                 Leaf node # 21 based on len 0 \u003c 1\n",
            "                 Node # 22 split on proline 660.0 L: 0 R: 63\n                     Leaf node # 23 based on len 0 \u003c 1\n",
            "                     Node # 24 split on proline 660.0 L: 0 R: 63\n                         Leaf node # 25 based on len 0 \u003c 1\n",
            "                         Node # 26 split on proline 660.0 L: 0 R: 63\n                             Leaf node # 27 based on len 0 \u003c 1\n",
            "                             Node # 28 split on proline 660.0 L: 0 R: 63\n                                 Leaf node # 29 based on len 0 \u003c 1\n                                 Leaf node # 30 based on depth 8 \u003e\u003d 8\nSplitting done.\n0  proline \u003c 660.0 --- 1.5709478285303144 --- {2: 49, 1: 40, 3: 35} --- 2\n1    \u003c --- 0.9559312637896479 --- {2: 38, 3: 23} --- 2\n3      \u003e\u003d --- 0.9688977092243805 --- {2: 35, 3: 23} --- 2\n5        \u003e\u003d --- 0.9688977092243805 --- {2: 35, 3: 23} --- 2\n7          \u003e\u003d --- 0.9688977092243805 --- {2: 35, 3: 23} --- 2\n9            \u003e\u003d --- 0.9688977092243805 --- {2: 35, 3: 23} --- 2\n11              \u003e\u003d --- 0.9688977092243805 --- {2: 35, 3: 23} --- 2\n13                \u003e\u003d --- 0.9688977092243805 --- {2: 35, 3: 23} --- 2\n16    \u003e\u003d --- 1.3114002154180333 --- {1: 40, 3: 12, 2: 11} --- 1\n18      \u003e\u003d --- 1.3114002154180333 --- {1: 40, 3: 12, 2: 11} --- 1\n20        \u003e\u003d --- 1.3114002154180333 --- {1: 40, 3: 12, 2: 11} --- 1\n22          \u003e\u003d --- 1.3114002154180333 --- {1: 40, 3: 12, 2: 11} --- 1\n24            \u003e\u003d --- 1.3114002154180333 --- {1: 40, 3: 12, 2: 11} --- 1\n26              \u003e\u003d --- 1.3114002154180333 --- {1: 40, 3: 12, 2: 11} --- 1\n28                \u003e\u003d --- 1.3114002154180333 --- {1: 40, 3: 12, 2: 11} --- 1\n[\u00270: 1 1\u0027, \u00271: 3 2\u0027, \u00272: 2 2\u0027, \u00273: 1 1\u0027, \u00274: 2 2\u0027, \u00275: 2 2\u0027, \u00276: 1 1\u0027, \u00277: 3 2\u0027, \u00278: 2 2\u0027, \u00279: 2 2\u0027, \u002710: 3 1\u0027, \u002711: 3 2\u0027, \u002712: 1 1\u0027, \u002713: 2 1\u0027, \u002714: 3 1\u0027, \u002715: 2 2\u0027, \u002716: 1 1\u0027, \u002717: 1 1\u0027, \u002718: 2 2\u0027, \u002719: 1 1\u0027, \u002720: 2 2\u0027, \u002721: 1 1\u0027, \u002722: 1 1\u0027, \u002723: 2 1\u0027, \u002724: 2 1\u0027, \u002725: 2 2\u0027, \u002726: 2 2\u0027, \u002727: 2 2\u0027, \u002728: 2 2\u0027, \u002729: 3 2\u0027, \u002730: 1 1\u0027, \u002731: 1 1\u0027, \u002732: 2 2\u0027, \u002733: 1 1\u0027, \u002734: 1 1\u0027, \u002735: 1 1\u0027, \u002736: 3 1\u0027, \u002737: 2 2\u0027, \u002738: 2 2\u0027, \u002739: 3 1\u0027, \u002740: 1 1\u0027, \u002741: 1 1\u0027, \u002742: 2 2\u0027, \u002743: 2 2\u0027, \u002744: 2 2\u0027, \u002745: 1 1\u0027, \u002746: 3 1\u0027, \u002747: 2 1\u0027, \u002748: 3 1\u0027, \u002749: 1 1\u0027, \u002750: 3 2\u0027, \u002751: 3 2\u0027, \u002752: 1 1\u0027, \u002753: 3 1\u0027]\nAccuracy: 0.685\n"
          ],
          "output_type": "stream"
        }
      ],
      "source": "# if \u0027tree_entropy\u0027 not in locals().keys():\ntree_entropy \u003d build_tree(train_wine, entropy, 8, 1)\nprint_tree(tree_entropy)\nprint(\"Accuracy: {:4.3f}\".format(accuracy(tree_entropy, test_wine)))",
      "metadata": {
        "pycharm": {
          "metadata": false,
          "name": "#%%\n",
          "is_executing": false
        }
      }
    },
    {
      "cell_type": "markdown",
      "source": "### Using Gini Impurity",
      "metadata": {
        "pycharm": {
          "metadata": false
        }
      }
    },
    {
      "cell_type": "code",
      "execution_count": 29,
      "outputs": [
        {
          "name": "stdout",
          "text": [
            "Starting split at root.\n",
            " Node # 0 split on proline 660.0 L: 61 R: 63\n",
            "     Node # 1 split on proline 345.0 L: 3 R: 58\n         Leaf node # 2 pure\n",
            "         Node # 3 split on proline 345.0 L: 0 R: 58\n             Leaf node # 4 based on len 0 \u003c 1\n",
            "             Node # 5 split on proline 345.0 L: 0 R: 58\n                 Leaf node # 6 based on len 0 \u003c 1\n",
            "                 Node # 7 split on proline 345.0 L: 0 R: 58\n                     Leaf node # 8 based on len 0 \u003c 1\n",
            "                     Node # 9 split on proline 345.0 L: 0 R: 58\n                         Leaf node # 10 based on len 0 \u003c 1\n",
            "                         Node # 11 split on proline 345.0 L: 0 R: 58\n                             Leaf node # 12 based on len 0 \u003c 1\n",
            "                             Node # 13 split on proline 345.0 L: 0 R: 58\n                                 Leaf node # 14 based on len 0 \u003c 1\n                                 Leaf node # 15 based on depth 8 \u003e\u003d 8\n",
            "     Node # 16 split on proline 660.0 L: 0 R: 63\n         Leaf node # 17 based on len 0 \u003c 1\n",
            "         Node # 18 split on proline 660.0 L: 0 R: 63\n             Leaf node # 19 based on len 0 \u003c 1\n",
            "             Node # 20 split on proline 660.0 L: 0 R: 63\n                 Leaf node # 21 based on len 0 \u003c 1\n",
            "                 Node # 22 split on proline 660.0 L: 0 R: 63\n                     Leaf node # 23 based on len 0 \u003c 1\n",
            "                     Node # 24 split on proline 660.0 L: 0 R: 63\n                         Leaf node # 25 based on len 0 \u003c 1\n",
            "                         Node # 26 split on proline 660.0 L: 0 R: 63\n                             Leaf node # 27 based on len 0 \u003c 1\n",
            "                             Node # 28 split on proline 660.0 L: 0 R: 63\n                                 Leaf node # 29 based on len 0 \u003c 1\n                                 Leaf node # 30 based on depth 8 \u003e\u003d 8\nSplitting done.\n0  proline \u003c 660.0 --- 0.6601196670135275 --- {2: 49, 1: 40, 3: 35} --- 2\n1    \u003c --- 0.4697661918839021 --- {2: 38, 3: 23} --- 2\n3      \u003e\u003d --- 0.4785969084423306 --- {2: 35, 3: 23} --- 2\n5        \u003e\u003d --- 0.4785969084423306 --- {2: 35, 3: 23} --- 2\n7          \u003e\u003d --- 0.4785969084423306 --- {2: 35, 3: 23} --- 2\n9            \u003e\u003d --- 0.4785969084423306 --- {2: 35, 3: 23} --- 2\n11              \u003e\u003d --- 0.4785969084423306 --- {2: 35, 3: 23} --- 2\n13                \u003e\u003d --- 0.4785969084423306 --- {2: 35, 3: 23} --- 2\n16    \u003e\u003d --- 0.5301083396321493 --- {1: 40, 3: 12, 2: 11} --- 1\n18      \u003e\u003d --- 0.5301083396321493 --- {1: 40, 3: 12, 2: 11} --- 1\n20        \u003e\u003d --- 0.5301083396321493 --- {1: 40, 3: 12, 2: 11} --- 1\n22          \u003e\u003d --- 0.5301083396321493 --- {1: 40, 3: 12, 2: 11} --- 1\n24            \u003e\u003d --- 0.5301083396321493 --- {1: 40, 3: 12, 2: 11} --- 1\n26              \u003e\u003d --- 0.5301083396321493 --- {1: 40, 3: 12, 2: 11} --- 1\n28                \u003e\u003d --- 0.5301083396321493 --- {1: 40, 3: 12, 2: 11} --- 1\n[\u00270: 1 1\u0027, \u00271: 3 2\u0027, \u00272: 2 2\u0027, \u00273: 1 1\u0027, \u00274: 2 2\u0027, \u00275: 2 2\u0027, \u00276: 1 1\u0027, \u00277: 3 2\u0027, \u00278: 2 2\u0027, \u00279: 2 2\u0027, \u002710: 3 1\u0027, \u002711: 3 2\u0027, \u002712: 1 1\u0027, \u002713: 2 1\u0027, \u002714: 3 1\u0027, \u002715: 2 2\u0027, \u002716: 1 1\u0027, \u002717: 1 1\u0027, \u002718: 2 2\u0027, \u002719: 1 1\u0027, \u002720: 2 2\u0027, \u002721: 1 1\u0027, \u002722: 1 1\u0027, \u002723: 2 1\u0027, \u002724: 2 1\u0027, \u002725: 2 2\u0027, \u002726: 2 2\u0027, \u002727: 2 2\u0027, \u002728: 2 2\u0027, \u002729: 3 2\u0027, \u002730: 1 1\u0027, \u002731: 1 1\u0027, \u002732: 2 2\u0027, \u002733: 1 1\u0027, \u002734: 1 1\u0027, \u002735: 1 1\u0027, \u002736: 3 1\u0027, \u002737: 2 2\u0027, \u002738: 2 2\u0027, \u002739: 3 1\u0027, \u002740: 1 1\u0027, \u002741: 1 1\u0027, \u002742: 2 2\u0027, \u002743: 2 2\u0027, \u002744: 2 2\u0027, \u002745: 1 1\u0027, \u002746: 3 1\u0027, \u002747: 2 1\u0027, \u002748: 3 1\u0027, \u002749: 1 1\u0027, \u002750: 3 2\u0027, \u002751: 3 2\u0027, \u002752: 1 1\u0027, \u002753: 3 1\u0027]\nAccuracy: 0.685\n"
          ],
          "output_type": "stream"
        }
      ],
      "source": "# if \u0027tree_gini\u0027 not in locals().keys():\ntree_gini \u003d build_tree(train_wine, gini_index, 8, 1)\nprint_tree(tree_gini)\nprint(\"Accuracy: {:4.3f}\".format(accuracy(tree_gini, test_wine)))\n",
      "metadata": {
        "pycharm": {
          "metadata": false,
          "name": "#%%\n",
          "is_executing": false
        }
      }
    },
    {
      "cell_type": "code",
      "execution_count": null,
      "outputs": [],
      "source": "\n",
      "metadata": {
        "pycharm": {
          "metadata": false,
          "name": "#%%\n"
        }
      }
    }
  ],
  "metadata": {
    "kernelspec": {
      "display_name": "Python 3",
      "language": "python",
      "name": "python3"
    },
    "language_info": {
      "codemirror_mode": {
        "name": "ipython",
        "version": 3
      },
      "file_extension": ".py",
      "mimetype": "text/x-python",
      "name": "python",
      "nbconvert_exporter": "python",
      "pygments_lexer": "ipython3",
      "version": "3.7.1"
    },
    "latex_envs": {
      "LaTeX_envs_menu_present": true,
      "autoclose": false,
      "autocomplete": true,
      "bibliofile": "biblio.bib",
      "cite_by": "apalike",
      "current_citInitial": 1,
      "eqLabelWithNumbers": true,
      "eqNumInitial": 1,
      "hotkeys": {
        "equation": "Ctrl-E",
        "itemize": "Ctrl-I"
      },
      "labels_anchors": false,
      "latex_user_defs": false,
      "report_style_numbering": false,
      "user_envs_cfg": false
    },
    "toc": {
      "base_numbering": 1,
      "nav_menu": {},
      "number_sections": true,
      "sideBar": true,
      "skip_h1_title": false,
      "title_cell": "Table of Contents",
      "title_sidebar": "Contents",
      "toc_cell": false,
      "toc_position": {},
      "toc_section_display": true,
      "toc_window_display": true
    },
    "varInspector": {
      "cols": {
        "lenName": 16,
        "lenType": 16,
        "lenVar": 40
      },
      "kernels_config": {
        "python": {
          "delete_cmd_postfix": "",
          "delete_cmd_prefix": "del ",
          "library": "var_list.py",
          "varRefreshCmd": "print(var_dic_list())"
        },
        "r": {
          "delete_cmd_postfix": ") ",
          "delete_cmd_prefix": "rm(",
          "library": "var_list.r",
          "varRefreshCmd": "cat(var_dic_list()) "
        }
      },
      "types_to_exclude": [
        "module",
        "function",
        "builtin_function_or_method",
        "instance",
        "_Feature"
      ],
      "window_display": false
    },
    "stem_cell": {
      "cell_type": "raw",
      "source": "",
      "metadata": {
        "pycharm": {
          "metadata": false
        }
      }
    }
  },
  "nbformat": 4,
  "nbformat_minor": 2
}