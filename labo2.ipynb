{
  "cells": [
    {
      "cell_type": "markdown",
      "metadata": {
        "pycharm": {
          "metadata": false
        }
      },
      "source": [
        "# Practice Session AI: Decision Tree \u003ca class\u003d\"tocSkip\"\u003e"
      ]
    },
    {
      "cell_type": "code",
      "execution_count": 5,
      "metadata": {
        "pycharm": {
          "is_executing": false,
          "metadata": false,
          "name": "#%%\n"
        }
      },
      "outputs": [
        {
          "name": "stdout",
          "output_type": "stream",
          "text": [
            "Naam: Kennes\n",
            "Voornaam: Dries\n",
            "S-nummer: R0486630\n",
            "Richting: ICT\n"
          ]
        }
      ],
      "source": [
        "# vul in\n",
        "\n",
        "print(\"Naam:\", \"Kennes\")\n",
        "print(\"Voornaam:\", \"Dries\")\n",
        "print(\"S-nummer:\", \"R0486630\")\n",
        "print(\"Richting:\", \"ICT\")\n",
        "\n",
        "# druk \u003cctrl\u003e + \u003center\u003e"
      ]
    },
    {
      "cell_type": "markdown",
      "metadata": {
        "pycharm": {
          "metadata": false
        }
      },
      "source": [
        "\u003c!-- \u003cimg src\u003d\"https://i.imgur.com/kTl5dQa.jpg\" alt\u003d\"panda in tree\" width\u003d500/\u003e --\u003e"
      ]
    },
    {
      "cell_type": "markdown",
      "metadata": {
        "pycharm": {
          "metadata": false
        }
      },
      "source": [
        "In deze labosessie gaan we zelf één van de *machine learning models* uit de vorige notebook implementeren, namelijk de *Decision Tree*. Net zoals in de vorige sessies levert de *Pandas* library hier de basisstructuren waarin de data wordt voorgesteld. Om de werking van het uitgewerkte algoritme te testen, zullen we dit evalueren op de vertrouwde wijn-dataset."
      ]
    },
    {
      "cell_type": "markdown",
      "metadata": {
        "pycharm": {
          "metadata": false
        }
      },
      "source": [
        "## Imports and Loading\n",
        "\n",
        "Om te veel herhaling te voorkomen, wordt de code voor deze stappen gewoon meegegeven. Net zoals vorige week gaan we werken met een ``ModelFrame`` uit Pandas_ML, omwille van de handige ``data`` (*features*) en ``target`` (*target*) accessoren."
      ]
    },
    {
      "cell_type": "code",
      "execution_count": 6,
      "metadata": {
        "pycharm": {
          "is_executing": false,
          "metadata": false,
          "name": "#%%\n"
        }
      },
      "outputs": [],
      "source": [
        "import numpy as np\n",
        "import pandas as pd\n",
        "import pandas_ml as pdml\n",
        "\n",
        "from tqdm import tqdm        ## process bar tool (optional)"
      ]
    },
    {
      "cell_type": "code",
      "execution_count": 7,
      "metadata": {
        "pycharm": {
          "is_executing": false,
          "metadata": false,
          "name": "#%%\n"
        }
      },
      "outputs": [],
      "source": [
        "col_names \u003d [\u0027type\u0027, \u0027alcohol\u0027, \u0027malic_acid\u0027, \u0027ash\u0027, \u0027alkalinity\u0027, \u0027magnesium\u0027, \u0027total_phenols\u0027, \u0027flavonoids\u0027, \u0027nonflavonoid_phenols\u0027, \u0027proanthocyanins\u0027, \u0027color_intensity\u0027, \u0027color_hue\u0027, \u0027OD280\u0027, \u0027proline\u0027]\n",
        "df \u003d pd.read_csv(\"data/wine_orig.csv\", names\u003dcol_names)"
      ]
    },
    {
      "cell_type": "code",
      "execution_count": 8,
      "metadata": {
        "pycharm": {
          "is_executing": false,
          "metadata": false,
          "name": "#%%\n"
        }
      },
      "outputs": [
        {
          "data": {
            "text/html": [
              "\u003cdiv\u003e\n",
              "\u003cstyle scoped\u003e\n",
              "    .dataframe tbody tr th:only-of-type {\n",
              "        vertical-align: middle;\n",
              "    }\n",
              "\n",
              "    .dataframe tbody tr th {\n",
              "        vertical-align: top;\n",
              "    }\n",
              "\n",
              "    .dataframe thead th {\n",
              "        text-align: right;\n",
              "    }\n",
              "\u003c/style\u003e\n",
              "\u003ctable border\u003d\"1\" class\u003d\"dataframe\"\u003e\n",
              "  \u003cthead\u003e\n",
              "    \u003ctr style\u003d\"text-align: right;\"\u003e\n",
              "      \u003cth\u003e\u003c/th\u003e\n",
              "      \u003cth\u003etype\u003c/th\u003e\n",
              "      \u003cth\u003ealcohol\u003c/th\u003e\n",
              "      \u003cth\u003emalic_acid\u003c/th\u003e\n",
              "      \u003cth\u003eash\u003c/th\u003e\n",
              "      \u003cth\u003ealkalinity\u003c/th\u003e\n",
              "      \u003cth\u003emagnesium\u003c/th\u003e\n",
              "      \u003cth\u003etotal_phenols\u003c/th\u003e\n",
              "      \u003cth\u003eflavonoids\u003c/th\u003e\n",
              "      \u003cth\u003enonflavonoid_phenols\u003c/th\u003e\n",
              "      \u003cth\u003eproanthocyanins\u003c/th\u003e\n",
              "      \u003cth\u003ecolor_intensity\u003c/th\u003e\n",
              "      \u003cth\u003ecolor_hue\u003c/th\u003e\n",
              "      \u003cth\u003eOD280\u003c/th\u003e\n",
              "      \u003cth\u003eproline\u003c/th\u003e\n",
              "    \u003c/tr\u003e\n",
              "  \u003c/thead\u003e\n",
              "  \u003ctbody\u003e\n",
              "    \u003ctr\u003e\n",
              "      \u003cth\u003e0\u003c/th\u003e\n",
              "      \u003ctd\u003e1\u003c/td\u003e\n",
              "      \u003ctd\u003e14.23\u003c/td\u003e\n",
              "      \u003ctd\u003e1.71\u003c/td\u003e\n",
              "      \u003ctd\u003e2.43\u003c/td\u003e\n",
              "      \u003ctd\u003e15.6\u003c/td\u003e\n",
              "      \u003ctd\u003e127\u003c/td\u003e\n",
              "      \u003ctd\u003e2.80\u003c/td\u003e\n",
              "      \u003ctd\u003e3.06\u003c/td\u003e\n",
              "      \u003ctd\u003e0.28\u003c/td\u003e\n",
              "      \u003ctd\u003e2.29\u003c/td\u003e\n",
              "      \u003ctd\u003e5.64\u003c/td\u003e\n",
              "      \u003ctd\u003e1.04\u003c/td\u003e\n",
              "      \u003ctd\u003e3.92\u003c/td\u003e\n",
              "      \u003ctd\u003e1065\u003c/td\u003e\n",
              "    \u003c/tr\u003e\n",
              "    \u003ctr\u003e\n",
              "      \u003cth\u003e1\u003c/th\u003e\n",
              "      \u003ctd\u003e1\u003c/td\u003e\n",
              "      \u003ctd\u003e13.20\u003c/td\u003e\n",
              "      \u003ctd\u003e1.78\u003c/td\u003e\n",
              "      \u003ctd\u003e2.14\u003c/td\u003e\n",
              "      \u003ctd\u003e11.2\u003c/td\u003e\n",
              "      \u003ctd\u003e100\u003c/td\u003e\n",
              "      \u003ctd\u003e2.65\u003c/td\u003e\n",
              "      \u003ctd\u003e2.76\u003c/td\u003e\n",
              "      \u003ctd\u003e0.26\u003c/td\u003e\n",
              "      \u003ctd\u003e1.28\u003c/td\u003e\n",
              "      \u003ctd\u003e4.38\u003c/td\u003e\n",
              "      \u003ctd\u003e1.05\u003c/td\u003e\n",
              "      \u003ctd\u003e3.40\u003c/td\u003e\n",
              "      \u003ctd\u003e1050\u003c/td\u003e\n",
              "    \u003c/tr\u003e\n",
              "    \u003ctr\u003e\n",
              "      \u003cth\u003e2\u003c/th\u003e\n",
              "      \u003ctd\u003e1\u003c/td\u003e\n",
              "      \u003ctd\u003e13.16\u003c/td\u003e\n",
              "      \u003ctd\u003e2.36\u003c/td\u003e\n",
              "      \u003ctd\u003e2.67\u003c/td\u003e\n",
              "      \u003ctd\u003e18.6\u003c/td\u003e\n",
              "      \u003ctd\u003e101\u003c/td\u003e\n",
              "      \u003ctd\u003e2.80\u003c/td\u003e\n",
              "      \u003ctd\u003e3.24\u003c/td\u003e\n",
              "      \u003ctd\u003e0.30\u003c/td\u003e\n",
              "      \u003ctd\u003e2.81\u003c/td\u003e\n",
              "      \u003ctd\u003e5.68\u003c/td\u003e\n",
              "      \u003ctd\u003e1.03\u003c/td\u003e\n",
              "      \u003ctd\u003e3.17\u003c/td\u003e\n",
              "      \u003ctd\u003e1185\u003c/td\u003e\n",
              "    \u003c/tr\u003e\n",
              "    \u003ctr\u003e\n",
              "      \u003cth\u003e3\u003c/th\u003e\n",
              "      \u003ctd\u003e1\u003c/td\u003e\n",
              "      \u003ctd\u003e14.37\u003c/td\u003e\n",
              "      \u003ctd\u003e1.95\u003c/td\u003e\n",
              "      \u003ctd\u003e2.50\u003c/td\u003e\n",
              "      \u003ctd\u003e16.8\u003c/td\u003e\n",
              "      \u003ctd\u003e113\u003c/td\u003e\n",
              "      \u003ctd\u003e3.85\u003c/td\u003e\n",
              "      \u003ctd\u003e3.49\u003c/td\u003e\n",
              "      \u003ctd\u003e0.24\u003c/td\u003e\n",
              "      \u003ctd\u003e2.18\u003c/td\u003e\n",
              "      \u003ctd\u003e7.80\u003c/td\u003e\n",
              "      \u003ctd\u003e0.86\u003c/td\u003e\n",
              "      \u003ctd\u003e3.45\u003c/td\u003e\n",
              "      \u003ctd\u003e1480\u003c/td\u003e\n",
              "    \u003c/tr\u003e\n",
              "    \u003ctr\u003e\n",
              "      \u003cth\u003e4\u003c/th\u003e\n",
              "      \u003ctd\u003e1\u003c/td\u003e\n",
              "      \u003ctd\u003e13.24\u003c/td\u003e\n",
              "      \u003ctd\u003e2.59\u003c/td\u003e\n",
              "      \u003ctd\u003e2.87\u003c/td\u003e\n",
              "      \u003ctd\u003e21.0\u003c/td\u003e\n",
              "      \u003ctd\u003e118\u003c/td\u003e\n",
              "      \u003ctd\u003e2.80\u003c/td\u003e\n",
              "      \u003ctd\u003e2.69\u003c/td\u003e\n",
              "      \u003ctd\u003e0.39\u003c/td\u003e\n",
              "      \u003ctd\u003e1.82\u003c/td\u003e\n",
              "      \u003ctd\u003e4.32\u003c/td\u003e\n",
              "      \u003ctd\u003e1.04\u003c/td\u003e\n",
              "      \u003ctd\u003e2.93\u003c/td\u003e\n",
              "      \u003ctd\u003e735\u003c/td\u003e\n",
              "    \u003c/tr\u003e\n",
              "  \u003c/tbody\u003e\n",
              "\u003c/table\u003e\n",
              "\u003c/div\u003e"
            ],
            "text/plain": [
              "   type  alcohol  malic_acid   ash  alkalinity  magnesium  total_phenols  \\\n",
              "0     1    14.23        1.71  2.43        15.6        127           2.80   \n",
              "1     1    13.20        1.78  2.14        11.2        100           2.65   \n",
              "2     1    13.16        2.36  2.67        18.6        101           2.80   \n",
              "3     1    14.37        1.95  2.50        16.8        113           3.85   \n",
              "4     1    13.24        2.59  2.87        21.0        118           2.80   \n",
              "\n",
              "   flavonoids  nonflavonoid_phenols  proanthocyanins  color_intensity  \\\n",
              "0        3.06                  0.28             2.29             5.64   \n",
              "1        2.76                  0.26             1.28             4.38   \n",
              "2        3.24                  0.30             2.81             5.68   \n",
              "3        3.49                  0.24             2.18             7.80   \n",
              "4        2.69                  0.39             1.82             4.32   \n",
              "\n",
              "   color_hue  OD280  proline  \n",
              "0       1.04   3.92     1065  \n",
              "1       1.05   3.40     1050  \n",
              "2       1.03   3.17     1185  \n",
              "3       0.86   3.45     1480  \n",
              "4       1.04   2.93      735  "
            ]
          },
          "execution_count": 8,
          "metadata": {},
          "output_type": "execute_result"
        }
      ],
      "source": [
        "df.head()"
      ]
    },
    {
      "cell_type": "code",
      "execution_count": 9,
      "metadata": {
        "pycharm": {
          "is_executing": true,
          "metadata": false,
          "name": "#%%\n"
        }
      },
      "outputs": [],
      "source": [
        "df_wine \u003d pdml.ModelFrame(df, target\u003d\u0027type\u0027)"
      ]
    },
    {
      "cell_type": "code",
      "execution_count": 10,
      "metadata": {
        "pycharm": {
          "is_executing": false,
          "metadata": false,
          "name": "#%%\n"
        }
      },
      "outputs": [
        {
          "name": "stdout",
          "output_type": "stream",
          "text": [
            "Length of training set: 124 (0.6966292134831461% of the samples)\n",
            "Length of test set: 54 (0.30337078651685395% of the samples)\n"
          ]
        }
      ],
      "source": [
        "train_wine, test_wine \u003d df_wine.model_selection.train_test_split(test_size\u003d0.3, random_state\u003d0)\n",
        "print(\"Length of training set: {} ({}% of the samples)\".format(len(train_wine), len(train_wine)/len(df_wine)))\n",
        "print(\"Length of test set: {} ({}% of the samples)\".format(len(test_wine), len(test_wine)/len(df_wine)))"
      ]
    },
    {
      "cell_type": "code",
      "execution_count": 11,
      "metadata": {
        "pycharm": {
          "is_executing": false,
          "metadata": false,
          "name": "#%%\n"
        }
      },
      "outputs": [
        {
          "data": {
            "text/html": [
              "\u003cdiv\u003e\n",
              "\u003cstyle scoped\u003e\n",
              "    .dataframe tbody tr th:only-of-type {\n",
              "        vertical-align: middle;\n",
              "    }\n",
              "\n",
              "    .dataframe tbody tr th {\n",
              "        vertical-align: top;\n",
              "    }\n",
              "\n",
              "    .dataframe thead th {\n",
              "        text-align: right;\n",
              "    }\n",
              "\u003c/style\u003e\n",
              "\u003ctable border\u003d\"1\" class\u003d\"dataframe\"\u003e\n",
              "  \u003cthead\u003e\n",
              "    \u003ctr style\u003d\"text-align: right;\"\u003e\n",
              "      \u003cth\u003e\u003c/th\u003e\n",
              "      \u003cth\u003etype\u003c/th\u003e\n",
              "      \u003cth\u003ealcohol\u003c/th\u003e\n",
              "      \u003cth\u003emalic_acid\u003c/th\u003e\n",
              "      \u003cth\u003eash\u003c/th\u003e\n",
              "      \u003cth\u003ealkalinity\u003c/th\u003e\n",
              "      \u003cth\u003emagnesium\u003c/th\u003e\n",
              "      \u003cth\u003etotal_phenols\u003c/th\u003e\n",
              "      \u003cth\u003eflavonoids\u003c/th\u003e\n",
              "      \u003cth\u003enonflavonoid_phenols\u003c/th\u003e\n",
              "      \u003cth\u003eproanthocyanins\u003c/th\u003e\n",
              "      \u003cth\u003ecolor_intensity\u003c/th\u003e\n",
              "      \u003cth\u003ecolor_hue\u003c/th\u003e\n",
              "      \u003cth\u003eOD280\u003c/th\u003e\n",
              "      \u003cth\u003eproline\u003c/th\u003e\n",
              "    \u003c/tr\u003e\n",
              "  \u003c/thead\u003e\n",
              "  \u003ctbody\u003e\n",
              "    \u003ctr\u003e\n",
              "      \u003cth\u003e22\u003c/th\u003e\n",
              "      \u003ctd\u003e1\u003c/td\u003e\n",
              "      \u003ctd\u003e13.71\u003c/td\u003e\n",
              "      \u003ctd\u003e1.86\u003c/td\u003e\n",
              "      \u003ctd\u003e2.36\u003c/td\u003e\n",
              "      \u003ctd\u003e16.6\u003c/td\u003e\n",
              "      \u003ctd\u003e101.0\u003c/td\u003e\n",
              "      \u003ctd\u003e2.61\u003c/td\u003e\n",
              "      \u003ctd\u003e2.88\u003c/td\u003e\n",
              "      \u003ctd\u003e0.27\u003c/td\u003e\n",
              "      \u003ctd\u003e1.69\u003c/td\u003e\n",
              "      \u003ctd\u003e3.80\u003c/td\u003e\n",
              "      \u003ctd\u003e1.11\u003c/td\u003e\n",
              "      \u003ctd\u003e4.00\u003c/td\u003e\n",
              "      \u003ctd\u003e1035.0\u003c/td\u003e\n",
              "    \u003c/tr\u003e\n",
              "    \u003ctr\u003e\n",
              "      \u003cth\u003e108\u003c/th\u003e\n",
              "      \u003ctd\u003e2\u003c/td\u003e\n",
              "      \u003ctd\u003e12.22\u003c/td\u003e\n",
              "      \u003ctd\u003e1.29\u003c/td\u003e\n",
              "      \u003ctd\u003e1.94\u003c/td\u003e\n",
              "      \u003ctd\u003e19.0\u003c/td\u003e\n",
              "      \u003ctd\u003e92.0\u003c/td\u003e\n",
              "      \u003ctd\u003e2.36\u003c/td\u003e\n",
              "      \u003ctd\u003e2.04\u003c/td\u003e\n",
              "      \u003ctd\u003e0.39\u003c/td\u003e\n",
              "      \u003ctd\u003e2.08\u003c/td\u003e\n",
              "      \u003ctd\u003e2.70\u003c/td\u003e\n",
              "      \u003ctd\u003e0.86\u003c/td\u003e\n",
              "      \u003ctd\u003e3.02\u003c/td\u003e\n",
              "      \u003ctd\u003e312.0\u003c/td\u003e\n",
              "    \u003c/tr\u003e\n",
              "    \u003ctr\u003e\n",
              "      \u003cth\u003e175\u003c/th\u003e\n",
              "      \u003ctd\u003e3\u003c/td\u003e\n",
              "      \u003ctd\u003e13.27\u003c/td\u003e\n",
              "      \u003ctd\u003e4.28\u003c/td\u003e\n",
              "      \u003ctd\u003e2.26\u003c/td\u003e\n",
              "      \u003ctd\u003e20.0\u003c/td\u003e\n",
              "      \u003ctd\u003e120.0\u003c/td\u003e\n",
              "      \u003ctd\u003e1.59\u003c/td\u003e\n",
              "      \u003ctd\u003e0.69\u003c/td\u003e\n",
              "      \u003ctd\u003e0.43\u003c/td\u003e\n",
              "      \u003ctd\u003e1.35\u003c/td\u003e\n",
              "      \u003ctd\u003e10.20\u003c/td\u003e\n",
              "      \u003ctd\u003e0.59\u003c/td\u003e\n",
              "      \u003ctd\u003e1.56\u003c/td\u003e\n",
              "      \u003ctd\u003e835.0\u003c/td\u003e\n",
              "    \u003c/tr\u003e\n",
              "    \u003ctr\u003e\n",
              "      \u003cth\u003e145\u003c/th\u003e\n",
              "      \u003ctd\u003e3\u003c/td\u003e\n",
              "      \u003ctd\u003e13.16\u003c/td\u003e\n",
              "      \u003ctd\u003e3.57\u003c/td\u003e\n",
              "      \u003ctd\u003e2.15\u003c/td\u003e\n",
              "      \u003ctd\u003e21.0\u003c/td\u003e\n",
              "      \u003ctd\u003e102.0\u003c/td\u003e\n",
              "      \u003ctd\u003e1.50\u003c/td\u003e\n",
              "      \u003ctd\u003e0.55\u003c/td\u003e\n",
              "      \u003ctd\u003e0.43\u003c/td\u003e\n",
              "      \u003ctd\u003e1.30\u003c/td\u003e\n",
              "      \u003ctd\u003e4.00\u003c/td\u003e\n",
              "      \u003ctd\u003e0.60\u003c/td\u003e\n",
              "      \u003ctd\u003e1.68\u003c/td\u003e\n",
              "      \u003ctd\u003e830.0\u003c/td\u003e\n",
              "    \u003c/tr\u003e\n",
              "    \u003ctr\u003e\n",
              "      \u003cth\u003e71\u003c/th\u003e\n",
              "      \u003ctd\u003e2\u003c/td\u003e\n",
              "      \u003ctd\u003e13.86\u003c/td\u003e\n",
              "      \u003ctd\u003e1.51\u003c/td\u003e\n",
              "      \u003ctd\u003e2.67\u003c/td\u003e\n",
              "      \u003ctd\u003e25.0\u003c/td\u003e\n",
              "      \u003ctd\u003e86.0\u003c/td\u003e\n",
              "      \u003ctd\u003e2.95\u003c/td\u003e\n",
              "      \u003ctd\u003e2.86\u003c/td\u003e\n",
              "      \u003ctd\u003e0.21\u003c/td\u003e\n",
              "      \u003ctd\u003e1.87\u003c/td\u003e\n",
              "      \u003ctd\u003e3.38\u003c/td\u003e\n",
              "      \u003ctd\u003e1.36\u003c/td\u003e\n",
              "      \u003ctd\u003e3.16\u003c/td\u003e\n",
              "      \u003ctd\u003e410.0\u003c/td\u003e\n",
              "    \u003c/tr\u003e\n",
              "  \u003c/tbody\u003e\n",
              "\u003c/table\u003e\n",
              "\u003c/div\u003e"
            ],
            "text/plain": [
              "     type  alcohol  malic_acid   ash  alkalinity  magnesium  total_phenols  \\\n",
              "22      1    13.71        1.86  2.36        16.6      101.0           2.61   \n",
              "108     2    12.22        1.29  1.94        19.0       92.0           2.36   \n",
              "175     3    13.27        4.28  2.26        20.0      120.0           1.59   \n",
              "145     3    13.16        3.57  2.15        21.0      102.0           1.50   \n",
              "71      2    13.86        1.51  2.67        25.0       86.0           2.95   \n",
              "\n",
              "     flavonoids  nonflavonoid_phenols  proanthocyanins  color_intensity  \\\n",
              "22         2.88                  0.27             1.69             3.80   \n",
              "108        2.04                  0.39             2.08             2.70   \n",
              "175        0.69                  0.43             1.35            10.20   \n",
              "145        0.55                  0.43             1.30             4.00   \n",
              "71         2.86                  0.21             1.87             3.38   \n",
              "\n",
              "     color_hue  OD280  proline  \n",
              "22        1.11   4.00   1035.0  \n",
              "108       0.86   3.02    312.0  \n",
              "175       0.59   1.56    835.0  \n",
              "145       0.60   1.68    830.0  \n",
              "71        1.36   3.16    410.0  "
            ]
          },
          "execution_count": 11,
          "metadata": {},
          "output_type": "execute_result"
        }
      ],
      "source": [
        "train_wine.head()"
      ]
    },
    {
      "cell_type": "markdown",
      "metadata": {
        "pycharm": {
          "metadata": false
        }
      },
      "source": [
        "## Building Blocks\n",
        "\n",
        "### Splitter"
      ]
    },
    {
      "cell_type": "markdown",
      "metadata": {
        "pycharm": {
          "metadata": false
        }
      },
      "source": [
        "Eerst en vooral is er een functie nodig die een ``ModelFrame`` opsplitst in twee delen op basis van de waarde van één van de *features*, en deze twee delen teruggeeft."
      ]
    },
    {
      "cell_type": "code",
      "execution_count": 34,
      "metadata": {
        "pycharm": {
          "is_executing": true,
          "metadata": false,
          "name": "#%%\n"
        }
      },
      "outputs": [
        {
          "data": {
            "text/plain": [
              "(     type  alcohol  malic_acid   ash  alkalinity  magnesium  total_phenols  \\\n",
              " 21      1    12.93        3.80  2.65        18.6        102           2.41   \n",
              " 23      1    12.85        1.60  2.52        17.8         95           2.48   \n",
              " 59      2    12.37        0.94  1.36        10.6         88           1.98   \n",
              " 60      2    12.33        1.10  2.28        16.0        101           2.05   \n",
              " 61      2    12.64        1.36  2.02        16.8        100           2.02   \n",
              " 63      2    12.37        1.13  2.16        19.0         87           3.50   \n",
              " 64      2    12.17        1.45  2.53        19.0        104           1.89   \n",
              " 65      2    12.37        1.21  2.56        18.1         98           2.42   \n",
              " 67      2    12.37        1.17  1.92        19.6         78           2.11   \n",
              " 69      2    12.21        1.19  1.75        16.8        151           1.85   \n",
              " 70      2    12.29        1.61  2.21        20.4        103           1.10   \n",
              " 73      2    12.99        1.67  2.60        30.0        139           3.30   \n",
              " 74      2    11.96        1.09  2.30        21.0        101           3.38   \n",
              " 75      2    11.66        1.88  1.92        16.0         97           1.61   \n",
              " 77      2    11.84        2.89  2.23        18.0        112           1.72   \n",
              " 78      2    12.33        0.99  1.95        14.8        136           1.90   \n",
              " 79      2    12.70        3.87  2.40        23.0        101           2.83   \n",
              " 80      2    12.00        0.92  2.00        19.0         86           2.42   \n",
              " 81      2    12.72        1.81  2.20        18.8         86           2.20   \n",
              " 82      2    12.08        1.13  2.51        24.0         78           2.00   \n",
              " 84      2    11.84        0.89  2.58        18.0         94           2.20   \n",
              " 85      2    12.67        0.98  2.24        18.0         99           2.20   \n",
              " 86      2    12.16        1.61  2.31        22.8         90           1.78   \n",
              " 87      2    11.65        1.67  2.62        26.0         88           1.92   \n",
              " 88      2    11.64        2.06  2.46        21.6         84           1.95   \n",
              " 89      2    12.08        1.33  2.30        23.6         70           2.20   \n",
              " 90      2    12.08        1.83  2.32        18.5         81           1.60   \n",
              " 91      2    12.00        1.51  2.42        22.0         86           1.45   \n",
              " 92      2    12.69        1.53  2.26        20.7         80           1.38   \n",
              " 93      2    12.29        2.83  2.22        18.0         88           2.45   \n",
              " ..    ...      ...         ...   ...         ...        ...            ...   \n",
              " 120     2    11.45        2.40  2.42        20.0         96           2.90   \n",
              " 121     2    11.56        2.05  3.23        28.5        119           3.18   \n",
              " 122     2    12.42        4.43  2.73        26.5        102           2.20   \n",
              " 124     2    11.87        4.31  2.39        21.0         82           2.86   \n",
              " 125     2    12.07        2.16  2.17        21.0         85           2.60   \n",
              " 126     2    12.43        1.53  2.29        21.5         86           2.74   \n",
              " 127     2    11.79        2.13  2.78        28.5         92           2.13   \n",
              " 128     2    12.37        1.63  2.30        24.5         88           2.22   \n",
              " 129     2    12.04        4.30  2.38        22.0         80           2.10   \n",
              " 130     3    12.86        1.35  2.32        18.0        122           1.51   \n",
              " 131     3    12.88        2.99  2.40        20.0        104           1.30   \n",
              " 132     3    12.81        2.31  2.40        24.0         98           1.15   \n",
              " 133     3    12.70        3.55  2.36        21.5        106           1.70   \n",
              " 134     3    12.51        1.24  2.25        17.5         85           2.00   \n",
              " 135     3    12.60        2.46  2.20        18.5         94           1.62   \n",
              " 136     3    12.25        4.72  2.54        21.0         89           1.38   \n",
              " 137     3    12.53        5.51  2.64        25.0         96           1.79   \n",
              " 139     3    12.84        2.96  2.61        24.0        101           2.32   \n",
              " 140     3    12.93        2.81  2.70        21.0         96           1.54   \n",
              " 144     3    12.25        3.88  2.20        18.5        112           1.38   \n",
              " 147     3    12.87        4.61  2.48        21.5         86           1.70   \n",
              " 151     3    12.79        2.67  2.48        22.0        112           1.48   \n",
              " 154     3    12.58        1.29  2.10        20.0        103           1.48   \n",
              " 157     3    12.45        3.03  2.64        27.0         97           1.90   \n",
              " 160     3    12.36        3.83  2.38        21.0         88           2.30   \n",
              " 162     3    12.85        3.27  2.58        22.0        106           1.65   \n",
              " 163     3    12.96        3.45  2.35        18.5        106           1.39   \n",
              " 167     3    12.82        3.37  2.30        19.5         88           1.48   \n",
              " 170     3    12.20        3.03  2.32        19.0         96           1.25   \n",
              " 171     3    12.77        2.39  2.28        19.5         86           1.39   \n",
              " \n",
              "      flavonoids  nonflavonoid_phenols  proanthocyanins  color_intensity  \\\n",
              " 21         2.41                  0.25             1.98         4.500000   \n",
              " 23         2.37                  0.26             1.46         3.930000   \n",
              " 59         0.57                  0.28             0.42         1.950000   \n",
              " 60         1.09                  0.63             0.41         3.270000   \n",
              " 61         1.41                  0.53             0.62         5.750000   \n",
              " 63         3.10                  0.19             1.87         4.450000   \n",
              " 64         1.75                  0.45             1.03         2.950000   \n",
              " 65         2.65                  0.37             2.08         4.600000   \n",
              " 67         2.00                  0.27             1.04         4.680000   \n",
              " 69         1.28                  0.14             2.50         2.850000   \n",
              " 70         1.02                  0.37             1.46         3.050000   \n",
              " 73         2.89                  0.21             1.96         3.350000   \n",
              " 74         2.14                  0.13             1.65         3.210000   \n",
              " 75         1.57                  0.34             1.15         3.800000   \n",
              " 77         1.32                  0.43             0.95         2.650000   \n",
              " 78         1.85                  0.35             2.76         3.400000   \n",
              " 79         2.55                  0.43             1.95         2.570000   \n",
              " 80         2.26                  0.30             1.43         2.500000   \n",
              " 81         2.53                  0.26             1.77         3.900000   \n",
              " 82         1.58                  0.40             1.40         2.200000   \n",
              " 84         2.21                  0.22             2.35         3.050000   \n",
              " 85         1.94                  0.30             1.46         2.620000   \n",
              " 86         1.69                  0.43             1.56         2.450000   \n",
              " 87         1.61                  0.40             1.34         2.600000   \n",
              " 88         1.69                  0.48             1.35         2.800000   \n",
              " 89         1.59                  0.42             1.38         1.740000   \n",
              " 90         1.50                  0.52             1.64         2.400000   \n",
              " 91         1.25                  0.50             1.63         3.600000   \n",
              " 92         1.46                  0.58             1.62         3.050000   \n",
              " 93         2.25                  0.25             1.99         2.150000   \n",
              " ..          ...                   ...              ...              ...   \n",
              " 120        2.79                  0.32             1.83         3.250000   \n",
              " 121        5.08                  0.47             1.87         6.000000   \n",
              " 122        2.13                  0.43             1.71         2.080000   \n",
              " 124        3.03                  0.21             2.91         2.800000   \n",
              " 125        2.65                  0.37             1.35         2.760000   \n",
              " 126        3.15                  0.39             1.77         3.940000   \n",
              " 127        2.24                  0.58             1.76         3.000000   \n",
              " 128        2.45                  0.40             1.90         2.120000   \n",
              " 129        1.75                  0.42             1.35         2.600000   \n",
              " 130        1.25                  0.21             0.94         4.100000   \n",
              " 131        1.22                  0.24             0.83         5.400000   \n",
              " 132        1.09                  0.27             0.83         5.700000   \n",
              " 133        1.20                  0.17             0.84         5.000000   \n",
              " 134        0.58                  0.60             1.25         5.450000   \n",
              " 135        0.66                  0.63             0.94         7.100000   \n",
              " 136        0.47                  0.53             0.80         3.850000   \n",
              " 137        0.60                  0.63             1.10         5.000000   \n",
              " 139        0.60                  0.53             0.81         4.920000   \n",
              " 140        0.50                  0.53             0.75         4.600000   \n",
              " 144        0.78                  0.29             1.14         8.210000   \n",
              " 147        0.65                  0.47             0.86         7.650000   \n",
              " 151        1.36                  0.24             1.26        10.800000   \n",
              " 154        0.58                  0.53             1.40         7.600000   \n",
              " 157        0.58                  0.63             1.14         7.500000   \n",
              " 160        0.92                  0.50             1.04         7.650000   \n",
              " 162        0.60                  0.60             0.96         5.580000   \n",
              " 163        0.70                  0.40             0.94         5.280000   \n",
              " 167        0.66                  0.40             0.97        10.260000   \n",
              " 170        0.49                  0.40             0.73         5.500000   \n",
              " 171        0.51                  0.48             0.64         9.899999   \n",
              " \n",
              "      color_hue  OD280  proline  \n",
              " 21       1.030   3.52      770  \n",
              " 23       1.090   3.63     1015  \n",
              " 59       1.050   1.82      520  \n",
              " 60       1.250   1.67      680  \n",
              " 61       0.980   1.59      450  \n",
              " 63       1.220   2.87      420  \n",
              " 64       1.450   2.23      355  \n",
              " 65       1.190   2.30      678  \n",
              " 67       1.120   3.48      510  \n",
              " 69       1.280   3.07      718  \n",
              " 70       0.906   1.82      870  \n",
              " 73       1.310   3.50      985  \n",
              " 74       0.990   3.13      886  \n",
              " 75       1.230   2.14      428  \n",
              " 77       0.960   2.52      500  \n",
              " 78       1.060   2.31      750  \n",
              " 79       1.190   3.13      463  \n",
              " 80       1.380   3.12      278  \n",
              " 81       1.160   3.14      714  \n",
              " 82       1.310   2.72      630  \n",
              " 84       0.790   3.08      520  \n",
              " 85       1.230   3.16      450  \n",
              " 86       1.330   2.26      495  \n",
              " 87       1.360   3.21      562  \n",
              " 88       1.000   2.75      680  \n",
              " 89       1.070   3.21      625  \n",
              " 90       1.080   2.27      480  \n",
              " 91       1.050   2.65      450  \n",
              " 92       0.960   2.06      495  \n",
              " 93       1.150   3.30      290  \n",
              " ..         ...    ...      ...  \n",
              " 120      0.800   3.39      625  \n",
              " 121      0.930   3.69      465  \n",
              " 122      0.920   3.12      365  \n",
              " 124      0.750   3.64      380  \n",
              " 125      0.860   3.28      378  \n",
              " 126      0.690   2.84      352  \n",
              " 127      0.970   2.44      466  \n",
              " 128      0.890   2.78      342  \n",
              " 129      0.790   2.57      580  \n",
              " 130      0.760   1.29      630  \n",
              " 131      0.740   1.42      530  \n",
              " 132      0.660   1.36      560  \n",
              " 133      0.780   1.29      600  \n",
              " 134      0.750   1.51      650  \n",
              " 135      0.730   1.58      695  \n",
              " 136      0.750   1.27      720  \n",
              " 137      0.820   1.69      515  \n",
              " 139      0.890   2.15      590  \n",
              " 140      0.770   2.31      600  \n",
              " 144      0.650   2.00      855  \n",
              " 147      0.540   1.86      625  \n",
              " 151      0.480   1.47      480  \n",
              " 154      0.580   1.55      640  \n",
              " 157      0.670   1.73      880  \n",
              " 160      0.560   1.58      520  \n",
              " 162      0.870   2.11      570  \n",
              " 163      0.680   1.75      675  \n",
              " 167      0.720   1.75      685  \n",
              " 170      0.660   1.83      510  \n",
              " 171      0.570   1.63      470  \n",
              " \n",
              " [86 rows x 14 columns],\n",
              "      type  alcohol  malic_acid   ash  alkalinity  magnesium  total_phenols  \\\n",
              " 0       1    14.23        1.71  2.43        15.6        127           2.80   \n",
              " 1       1    13.20        1.78  2.14        11.2        100           2.65   \n",
              " 2       1    13.16        2.36  2.67        18.6        101           2.80   \n",
              " 3       1    14.37        1.95  2.50        16.8        113           3.85   \n",
              " 4       1    13.24        2.59  2.87        21.0        118           2.80   \n",
              " 5       1    14.20        1.76  2.45        15.2        112           3.27   \n",
              " 6       1    14.39        1.87  2.45        14.6         96           2.50   \n",
              " 7       1    14.06        2.15  2.61        17.6        121           2.60   \n",
              " 8       1    14.83        1.64  2.17        14.0         97           2.80   \n",
              " 9       1    13.86        1.35  2.27        16.0         98           2.98   \n",
              " 10      1    14.10        2.16  2.30        18.0        105           2.95   \n",
              " 11      1    14.12        1.48  2.32        16.8         95           2.20   \n",
              " 12      1    13.75        1.73  2.41        16.0         89           2.60   \n",
              " 13      1    14.75        1.73  2.39        11.4         91           3.10   \n",
              " 14      1    14.38        1.87  2.38        12.0        102           3.30   \n",
              " 15      1    13.63        1.81  2.70        17.2        112           2.85   \n",
              " 16      1    14.30        1.92  2.72        20.0        120           2.80   \n",
              " 17      1    13.83        1.57  2.62        20.0        115           2.95   \n",
              " 18      1    14.19        1.59  2.48        16.5        108           3.30   \n",
              " 19      1    13.64        3.10  2.56        15.2        116           2.70   \n",
              " 20      1    14.06        1.63  2.28        16.0        126           3.00   \n",
              " 22      1    13.71        1.86  2.36        16.6        101           2.61   \n",
              " 24      1    13.50        1.81  2.61        20.0         96           2.53   \n",
              " 25      1    13.05        2.05  3.22        25.0        124           2.63   \n",
              " 26      1    13.39        1.77  2.62        16.1         93           2.85   \n",
              " 27      1    13.30        1.72  2.14        17.0         94           2.40   \n",
              " 28      1    13.87        1.90  2.80        19.4        107           2.95   \n",
              " 29      1    14.02        1.68  2.21        16.0         96           2.65   \n",
              " 30      1    13.73        1.50  2.70        22.5        101           3.00   \n",
              " 31      1    13.58        1.66  2.36        19.1        106           2.86   \n",
              " ..    ...      ...         ...   ...         ...        ...            ...   \n",
              " 76      2    13.03        0.90  1.71        16.0         86           1.95   \n",
              " 83      2    13.05        3.86  2.32        22.5         85           1.65   \n",
              " 123     2    13.05        5.80  2.13        21.5         86           2.62   \n",
              " 138     3    13.49        3.59  2.19        19.5         88           1.62   \n",
              " 141     3    13.36        2.56  2.35        20.0         89           1.40   \n",
              " 142     3    13.52        3.17  2.72        23.5         97           1.55   \n",
              " 143     3    13.62        4.95  2.35        20.0         92           2.00   \n",
              " 145     3    13.16        3.57  2.15        21.0        102           1.50   \n",
              " 146     3    13.88        5.04  2.23        20.0         80           0.98   \n",
              " 148     3    13.32        3.24  2.38        21.5         92           1.93   \n",
              " 149     3    13.08        3.90  2.36        21.5        113           1.41   \n",
              " 150     3    13.50        3.12  2.62        24.0        123           1.40   \n",
              " 152     3    13.11        1.90  2.75        25.5        116           2.20   \n",
              " 153     3    13.23        3.30  2.28        18.5         98           1.80   \n",
              " 155     3    13.17        5.19  2.32        22.0         93           1.74   \n",
              " 156     3    13.84        4.12  2.38        19.5         89           1.80   \n",
              " 158     3    14.34        1.68  2.70        25.0         98           2.80   \n",
              " 159     3    13.48        1.67  2.64        22.5         89           2.60   \n",
              " 161     3    13.69        3.26  2.54        20.0        107           1.83   \n",
              " 164     3    13.78        2.76  2.30        22.0         90           1.35   \n",
              " 165     3    13.73        4.36  2.26        22.5         88           1.28   \n",
              " 166     3    13.45        3.70  2.60        23.0        111           1.70   \n",
              " 168     3    13.58        2.58  2.69        24.5        105           1.55   \n",
              " 169     3    13.40        4.60  2.86        25.0        112           1.98   \n",
              " 172     3    14.16        2.51  2.48        20.0         91           1.68   \n",
              " 173     3    13.71        5.65  2.45        20.5         95           1.68   \n",
              " 174     3    13.40        3.91  2.48        23.0        102           1.80   \n",
              " 175     3    13.27        4.28  2.26        20.0        120           1.59   \n",
              " 176     3    13.17        2.59  2.37        20.0        120           1.65   \n",
              " 177     3    14.13        4.10  2.74        24.5         96           2.05   \n",
              " \n",
              "      flavonoids  nonflavonoid_phenols  proanthocyanins  color_intensity  \\\n",
              " 0          3.06                  0.28             2.29             5.64   \n",
              " 1          2.76                  0.26             1.28             4.38   \n",
              " 2          3.24                  0.30             2.81             5.68   \n",
              " 3          3.49                  0.24             2.18             7.80   \n",
              " 4          2.69                  0.39             1.82             4.32   \n",
              " 5          3.39                  0.34             1.97             6.75   \n",
              " 6          2.52                  0.30             1.98             5.25   \n",
              " 7          2.51                  0.31             1.25             5.05   \n",
              " 8          2.98                  0.29             1.98             5.20   \n",
              " 9          3.15                  0.22             1.85             7.22   \n",
              " 10         3.32                  0.22             2.38             5.75   \n",
              " 11         2.43                  0.26             1.57             5.00   \n",
              " 12         2.76                  0.29             1.81             5.60   \n",
              " 13         3.69                  0.43             2.81             5.40   \n",
              " 14         3.64                  0.29             2.96             7.50   \n",
              " 15         2.91                  0.30             1.46             7.30   \n",
              " 16         3.14                  0.33             1.97             6.20   \n",
              " 17         3.40                  0.40             1.72             6.60   \n",
              " 18         3.93                  0.32             1.86             8.70   \n",
              " 19         3.03                  0.17             1.66             5.10   \n",
              " 20         3.17                  0.24             2.10             5.65   \n",
              " 22         2.88                  0.27             1.69             3.80   \n",
              " 24         2.61                  0.28             1.66             3.52   \n",
              " 25         2.68                  0.47             1.92             3.58   \n",
              " 26         2.94                  0.34             1.45             4.80   \n",
              " 27         2.19                  0.27             1.35             3.95   \n",
              " 28         2.97                  0.37             1.76             4.50   \n",
              " 29         2.33                  0.26             1.98             4.70   \n",
              " 30         3.25                  0.29             2.38             5.70   \n",
              " 31         3.19                  0.22             1.95             6.90   \n",
              " ..          ...                   ...              ...              ...   \n",
              " 76         2.03                  0.24             1.46             4.60   \n",
              " 83         1.59                  0.61             1.62             4.80   \n",
              " 123        2.65                  0.30             2.01             2.60   \n",
              " 138        0.48                  0.58             0.88             5.70   \n",
              " 141        0.50                  0.37             0.64             5.60   \n",
              " 142        0.52                  0.50             0.55             4.35   \n",
              " 143        0.80                  0.47             1.02             4.40   \n",
              " 145        0.55                  0.43             1.30             4.00   \n",
              " 146        0.34                  0.40             0.68             4.90   \n",
              " 148        0.76                  0.45             1.25             8.42   \n",
              " 149        1.39                  0.34             1.14             9.40   \n",
              " 150        1.57                  0.22             1.25             8.60   \n",
              " 152        1.28                  0.26             1.56             7.10   \n",
              " 153        0.83                  0.61             1.87            10.52   \n",
              " 155        0.63                  0.61             1.55             7.90   \n",
              " 156        0.83                  0.48             1.56             9.01   \n",
              " 158        1.31                  0.53             2.70            13.00   \n",
              " 159        1.10                  0.52             2.29            11.75   \n",
              " 161        0.56                  0.50             0.80             5.88   \n",
              " 164        0.68                  0.41             1.03             9.58   \n",
              " 165        0.47                  0.52             1.15             6.62   \n",
              " 166        0.92                  0.43             1.46            10.68   \n",
              " 168        0.84                  0.39             1.54             8.66   \n",
              " 169        0.96                  0.27             1.11             8.50   \n",
              " 172        0.70                  0.44             1.24             9.70   \n",
              " 173        0.61                  0.52             1.06             7.70   \n",
              " 174        0.75                  0.43             1.41             7.30   \n",
              " 175        0.69                  0.43             1.35            10.20   \n",
              " 176        0.68                  0.53             1.46             9.30   \n",
              " 177        0.76                  0.56             1.35             9.20   \n",
              " \n",
              "      color_hue  OD280  proline  \n",
              " 0         1.04   3.92     1065  \n",
              " 1         1.05   3.40     1050  \n",
              " 2         1.03   3.17     1185  \n",
              " 3         0.86   3.45     1480  \n",
              " 4         1.04   2.93      735  \n",
              " 5         1.05   2.85     1450  \n",
              " 6         1.02   3.58     1290  \n",
              " 7         1.06   3.58     1295  \n",
              " 8         1.08   2.85     1045  \n",
              " 9         1.01   3.55     1045  \n",
              " 10        1.25   3.17     1510  \n",
              " 11        1.17   2.82     1280  \n",
              " 12        1.15   2.90     1320  \n",
              " 13        1.25   2.73     1150  \n",
              " 14        1.20   3.00     1547  \n",
              " 15        1.28   2.88     1310  \n",
              " 16        1.07   2.65     1280  \n",
              " 17        1.13   2.57     1130  \n",
              " 18        1.23   2.82     1680  \n",
              " 19        0.96   3.36      845  \n",
              " 20        1.09   3.71      780  \n",
              " 22        1.11   4.00     1035  \n",
              " 24        1.12   3.82      845  \n",
              " 25        1.13   3.20      830  \n",
              " 26        0.92   3.22     1195  \n",
              " 27        1.02   2.77     1285  \n",
              " 28        1.25   3.40      915  \n",
              " 29        1.04   3.59     1035  \n",
              " 30        1.19   2.71     1285  \n",
              " 31        1.09   2.88     1515  \n",
              " ..         ...    ...      ...  \n",
              " 76        1.19   2.48      392  \n",
              " 83        0.84   2.01      515  \n",
              " 123       0.73   3.10      380  \n",
              " 138       0.81   1.82      580  \n",
              " 141       0.70   2.47      780  \n",
              " 142       0.89   2.06      520  \n",
              " 143       0.91   2.05      550  \n",
              " 145       0.60   1.68      830  \n",
              " 146       0.58   1.33      415  \n",
              " 148       0.55   1.62      650  \n",
              " 149       0.57   1.33      550  \n",
              " 150       0.59   1.30      500  \n",
              " 152       0.61   1.33      425  \n",
              " 153       0.56   1.51      675  \n",
              " 155       0.60   1.48      725  \n",
              " 156       0.57   1.64      480  \n",
              " 158       0.57   1.96      660  \n",
              " 159       0.57   1.78      620  \n",
              " 161       0.96   1.82      680  \n",
              " 164       0.70   1.68      615  \n",
              " 165       0.78   1.75      520  \n",
              " 166       0.85   1.56      695  \n",
              " 168       0.74   1.80      750  \n",
              " 169       0.67   1.92      630  \n",
              " 172       0.62   1.71      660  \n",
              " 173       0.64   1.74      740  \n",
              " 174       0.70   1.56      750  \n",
              " 175       0.59   1.56      835  \n",
              " 176       0.60   1.62      840  \n",
              " 177       0.61   1.60      560  \n",
              " \n",
              " [92 rows x 14 columns])"
            ]
          },
          "execution_count": 34,
          "metadata": {},
          "output_type": "execute_result"
        }
      ],
      "source": [
        "def split_on_attribute(df_node, attribute, value):\n",
        "    # \u003c, \u003e\u003d\n",
        "    # print(\u0027split_on_attribute:\u0027, attribute, value)\n",
        "    return df_node.loc[df_node[attribute] \u003c value], df_node.loc[df_node[attribute] \u003e\u003d value]\n",
        "\n",
        "split_on_attribute(df_wine, \u0027alcohol\u0027, 13)"
      ]
    },
    {
      "cell_type": "markdown",
      "metadata": {
        "pycharm": {
          "metadata": false
        }
      },
      "source": [
        "### Cost function\n",
        "\n",
        "De split-functie gaat bij het opstellen van de tree opgeroepen worden wanneer er een *node* binair moet worden gesplitst. Uiteraard is het op voorhand nogal moeilijk te weten welke *feature* en bijbehorende *value* moeten gebruikt worden om tot een zo goed mogelijke split te komen waarbij de klassen zo volledig mogelijk van elkaar te scheiden. Om dit te testen maken we gebruik van enkele concepten uit de informatietheorie, waardoor we tot een *cost function* kunnen komen. "
      ]
    },
    {
      "cell_type": "markdown",
      "metadata": {
        "pycharm": {
          "metadata": false
        }
      },
      "source": [
        "#### Information Gain and Entropy\n",
        "\n",
        "*Information gain* is een manier om uit te drukken hoeveel onzekerheid er wordt verloren bij het opsplitsen van de data in een *node*. Deze onzekerheid wordt uitgedrukt in de vorm van *entropy* (eenheid: *bits*), beschreven in de onderstaande formule."
      ]
    },
    {
      "cell_type": "markdown",
      "metadata": {
        "pycharm": {
          "metadata": false
        }
      },
      "source": [
        "\\begin{equation*}\n",
        "H(X) \u003d - \\sum \\limits_{i\u003d1}^{n} p(x_i) \\log_2 p(x_i)\n",
        "\\end{equation*}"
      ]
    },
    {
      "cell_type": "markdown",
      "metadata": {
        "pycharm": {
          "metadata": false
        }
      },
      "source": [
        "Om de *information gain* tussen een *node* en zijn *children* te maximaliseren, is het voldoende om de split te kiezen waarbij de *entropy* van de *children* minimaal is."
      ]
    },
    {
      "cell_type": "code",
      "execution_count": 13,
      "metadata": {
        "pycharm": {
          "is_executing": true,
          "metadata": false,
          "name": "#%%\n"
        }
      },
      "outputs": [],
      "source": [
        "def calc_px(df_node):\n",
        "    return [df_node.loc[df[\u0027type\u0027] \u003d\u003d x].size/df_node.size for x in df_node[\u0027type\u0027].unique()]\n",
        "\n",
        "def entropy(df_node):\n",
        "    px \u003d calc_px(df_node)\n",
        "    return -sum(px * np.log2(px))"
      ]
    },
    {
      "cell_type": "code",
      "execution_count": 33,
      "metadata": {
        "pycharm": {
          "is_executing": false,
          "metadata": false,
          "name": "#%%\n"
        }
      },
      "outputs": [
        {
          "data": {
            "text/plain": [
              "1.5709478285303144"
            ]
          },
          "execution_count": 33,
          "metadata": {},
          "output_type": "execute_result"
        }
      ],
      "source": [
        "# test entropy\n",
        "entropy(train_wine)"
      ]
    },
    {
      "cell_type": "markdown",
      "metadata": {
        "pycharm": {
          "metadata": false
        }
      },
      "source": [
        "#### Gini Impurity\n",
        "\n",
        "Een andere manier om de split te optimaliseren is de *Gini impurity*. Deze is een maat voor de kans dat elementen van een bepaalde klasse in een *node* gemisclassificeerd worden. "
      ]
    },
    {
      "cell_type": "markdown",
      "metadata": {
        "pycharm": {
          "metadata": false
        }
      },
      "source": [
        "\\begin{equation*}\n",
        "I_G(X) \u003d 1 - \\sum \\limits_{i\u003d1}^{n} p(x_i)^2\n",
        "\\end{equation*}"
      ]
    },
    {
      "cell_type": "markdown",
      "metadata": {
        "pycharm": {
          "metadata": false
        }
      },
      "source": [
        "Uiteraard willen we dit aantal misclassificaties zo laag mogelijk houden, dus voor een zo goed mogelijke split hebben we graag een minimale *Gini impurity* bij de *children* van de *node*."
      ]
    },
    {
      "cell_type": "code",
      "execution_count": 15,
      "metadata": {
        "pycharm": {
          "is_executing": false,
          "metadata": false,
          "name": "#%%\n"
        }
      },
      "outputs": [],
      "source": [
        "def gini_index(df_node):\n",
        "    return 1 - sum(x*x for x in calc_px(df_node))"
      ]
    },
    {
      "cell_type": "code",
      "execution_count": 32,
      "metadata": {
        "pycharm": {
          "is_executing": false,
          "metadata": false,
          "name": "#%%\n"
        }
      },
      "outputs": [
        {
          "data": {
            "text/plain": [
              "0.6601196670135275"
            ]
          },
          "execution_count": 32,
          "metadata": {},
          "output_type": "execute_result"
        }
      ],
      "source": [
        "# test Gini impurity\n",
        "gini_index(train_wine)"
      ]
    },
    {
      "cell_type": "markdown",
      "metadata": {
        "pycharm": {
          "metadata": false
        }
      },
      "source": [
        "#### Weighted Cost\n",
        "\n",
        "Om de *costs* van de *children* van een *node* in één getal te kunnen weergeven, berekenen we het gewogen gemiddelde van de *splitting cost* voor zowel *entropy* als *Gini impurity* op de volgende manier:"
      ]
    },
    {
      "cell_type": "markdown",
      "metadata": {
        "pycharm": {
          "metadata": false
        }
      },
      "source": [
        "\\begin{equation*}\n",
        "\\overline{cost}(N, L, R) \u003d P(L \\vert N) \\cdot cost(L) + P(R \\vert N) \\cdot cost(R)\n",
        "\\end{equation*}"
      ]
    },
    {
      "cell_type": "code",
      "execution_count": 17,
      "metadata": {
        "pycharm": {
          "is_executing": false,
          "metadata": false,
          "name": "#%%\n"
        }
      },
      "outputs": [],
      "source": [
        "def weighted_cost(df_node, node_left, node_right, cost_func):\n",
        "    return node_left.size / df_node.size * cost_func(node_left) + \\\n",
        "           node_right.size / df_node.size * cost_func(node_right)"
      ]
    },
    {
      "cell_type": "code",
      "execution_count": 18,
      "metadata": {
        "pycharm": {
          "is_executing": false,
          "metadata": false,
          "name": "#%%\n"
        }
      },
      "outputs": [
        {
          "data": {
            "text/plain": [
              "1.4577427356053494"
            ]
          },
          "execution_count": 18,
          "metadata": {},
          "output_type": "execute_result"
        }
      ],
      "source": [
        "# test weighted cost with entropy\n",
        "weighted_cost(train_wine, *split_on_attribute(train_wine, \u0027alkalinity\u0027, 16), entropy)"
      ]
    },
    {
      "cell_type": "code",
      "execution_count": 19,
      "metadata": {
        "pycharm": {
          "is_executing": false,
          "metadata": false,
          "name": "#%%\n"
        }
      },
      "outputs": [
        {
          "data": {
            "text/plain": [
              "0.6118637247669506"
            ]
          },
          "execution_count": 19,
          "metadata": {},
          "output_type": "execute_result"
        }
      ],
      "source": [
        "# test weighted cost with Gini impurity\n",
        "weighted_cost(train_wine, *split_on_attribute(train_wine, \u0027alkalinity\u0027, 16), gini_index)"
      ]
    },
    {
      "cell_type": "markdown",
      "metadata": {
        "pycharm": {
          "metadata": false
        }
      },
      "source": [
        "### Apply Split\n",
        "\n",
        "Nu hoeven we enkel nog een functie te schrijven die over alle waarden van alle *features* in de dataset gaat, hierbij de *cost* berekent, en vervolgens *feature* en waarde teruggeeft waarbij de *splitting cost* het laagste is. \n",
        "\n",
        "**Let op:** Op de ``target`` kolom mag **nooit** gesplitst worden!"
      ]
    },
    {
      "cell_type": "code",
      "execution_count": 52,
      "metadata": {
        "pycharm": {
          "is_executing": false,
          "metadata": false,
          "name": "#%%\n"
        }
      },
      "outputs": [],
      "source": [
        "def find_best_split(df_node, cost_func):\n",
        "    \"\"\"\n",
        "    :param df_node: \n",
        "    :param cost_func: \n",
        "    :return: (attribute: str, value:float, left, right)\n",
        "    \"\"\"\n",
        "    best_cost \u003d None\n",
        "    best_col \u003d None\n",
        "    best_val \u003d None\n",
        "    for col in df_node.columns.values:\n",
        "        if col \u003d\u003d \u0027type\u0027:\n",
        "            continue\n",
        "        for val in df_node[col].unique():\n",
        "            l, r \u003d split_on_attribute(df_node, col, val)\n",
        "            cost \u003d weighted_cost(df_node, l, r, cost_func)\n",
        "            if best_cost is None or cost \u003c best_cost:\n",
        "                best_cost \u003d cost\n",
        "                best_col \u003d col\n",
        "                best_val \u003d val\n",
        "                best_l \u003d l\n",
        "                best_r \u003d r\n",
        "    return best_col, best_val, best_l, best_r"
      ]
    },
    {
      "cell_type": "code",
      "execution_count": 53,
      "metadata": {
        "pycharm": {
          "is_executing": true,
          "metadata": false,
          "name": "#%%\n"
        }
      },
      "outputs": [
        {
          "data": {
            "text/plain": [
              "(\u0027color_intensity\u0027,\n",
              " 3.84,\n",
              "      type  alcohol  malic_acid   ash  alkalinity  magnesium  total_phenols  \\\n",
              " 22      1    13.71        1.86  2.36        16.6      101.0           2.61   \n",
              " 108     2    12.22        1.29  1.94        19.0       92.0           2.36   \n",
              " 71      2    13.86        1.51  2.67        25.0       86.0           2.95   \n",
              " 97      2    12.29        1.41  1.98        16.0       85.0           2.55   \n",
              " 118     2    12.77        3.43  1.98        16.0       80.0           1.63   \n",
              " 62      2    13.67        1.25  1.92        18.0       94.0           2.10   \n",
              " 59      2    12.37        0.94  1.36        10.6       88.0           1.98   \n",
              " 95      2    12.47        1.52  2.20        19.0      162.0           2.50   \n",
              " 96      2    11.81        2.12  2.74        21.5      134.0           1.60   \n",
              " 109     2    11.61        1.35  2.70        20.0       94.0           2.74   \n",
              " 73      2    12.99        1.67  2.60        30.0      139.0           3.30   \n",
              " 110     2    11.46        3.74  1.82        19.5      107.0           3.18   \n",
              " 125     2    12.07        2.16  2.17        21.0       85.0           2.60   \n",
              " 116     2    11.82        1.47  1.99        20.8       86.0           1.98   \n",
              " 89      2    12.08        1.33  2.30        23.6       70.0           2.20   \n",
              " 64      2    12.17        1.45  2.53        19.0      104.0           1.89   \n",
              " 122     2    12.42        4.43  2.73        26.5      102.0           2.20   \n",
              " 124     2    11.87        4.31  2.39        21.0       82.0           2.86   \n",
              " 69      2    12.21        1.19  1.75        16.8      151.0           1.85   \n",
              " 85      2    12.67        0.98  2.24        18.0       99.0           2.20   \n",
              " 78      2    12.33        0.99  1.95        14.8      136.0           1.90   \n",
              " 100     2    12.08        2.08  1.70        17.5       97.0           2.23   \n",
              " 107     2    12.72        1.75  2.28        22.5       84.0           1.38   \n",
              " 68      2    13.34        0.94  2.36        17.0      110.0           2.53   \n",
              " 75      2    11.66        1.88  1.92        16.0       97.0           1.61   \n",
              " 84      2    11.84        0.89  2.58        18.0       94.0           2.20   \n",
              " 91      2    12.00        1.51  2.42        22.0       86.0           1.45   \n",
              " 119     2    12.00        3.43  2.00        19.0       87.0           2.00   \n",
              " 102     2    12.34        2.45  2.46        21.0       98.0           2.56   \n",
              " 120     2    11.45        2.40  2.42        20.0       96.0           2.90   \n",
              " 105     2    12.42        2.55  2.27        22.0       90.0           1.68   \n",
              " 38      1    13.07        1.50  2.10        15.5       98.0           2.40   \n",
              " 128     2    12.37        1.63  2.30        24.5       88.0           2.22   \n",
              " 114     2    12.08        1.39  2.50        22.5       84.0           2.56   \n",
              " 127     2    11.79        2.13  2.78        28.5       92.0           2.13   \n",
              " 99      2    12.29        3.17  2.21        18.0       88.0           2.85   \n",
              " 82      2    12.08        1.13  2.51        24.0       78.0           2.00   \n",
              " 79      2    12.70        3.87  2.40        23.0      101.0           2.83   \n",
              " 115     2    11.03        1.51  2.20        21.5       85.0           2.46   \n",
              " 72      2    13.49        1.66  2.24        24.0       87.0           1.88   \n",
              " 77      2    11.84        2.89  2.23        18.0      112.0           1.72   \n",
              " 25      1    13.05        2.05  3.22        25.0      124.0           2.63   \n",
              " 88      2    11.64        2.06  2.46        21.6       84.0           1.95   \n",
              " 70      2    12.29        1.61  2.21        20.4      103.0           1.10   \n",
              " 87      2    11.65        1.67  2.62        26.0       88.0           1.92   \n",
              " 103     2    11.82        1.72  1.88        19.5       86.0           2.50   \n",
              " 117     2    12.42        1.61  2.19        22.5      108.0           2.00   \n",
              " \n",
              "      flavonoids  nonflavonoid_phenols  proanthocyanins  color_intensity  \\\n",
              " 22         2.88                  0.27             1.69             3.80   \n",
              " 108        2.04                  0.39             2.08             2.70   \n",
              " 71         2.86                  0.21             1.87             3.38   \n",
              " 97         2.50                  0.29             1.77             2.90   \n",
              " 118        1.25                  0.43             0.83             3.40   \n",
              " 62         1.79                  0.32             0.73             3.80   \n",
              " 59         0.57                  0.28             0.42             1.95   \n",
              " 95         2.27                  0.32             3.28             2.60   \n",
              " 96         0.99                  0.14             1.56             2.50   \n",
              " 109        2.92                  0.29             2.49             2.65   \n",
              " 73         2.89                  0.21             1.96             3.35   \n",
              " 110        2.58                  0.24             3.58             2.90   \n",
              " 125        2.65                  0.37             1.35             2.76   \n",
              " 116        1.60                  0.30             1.53             1.95   \n",
              " 89         1.59                  0.42             1.38             1.74   \n",
              " 64         1.75                  0.45             1.03             2.95   \n",
              " 122        2.13                  0.43             1.71             2.08   \n",
              " 124        3.03                  0.21             2.91             2.80   \n",
              " 69         1.28                  0.14             2.50             2.85   \n",
              " 85         1.94                  0.30             1.46             2.62   \n",
              " 78         1.85                  0.35             2.76             3.40   \n",
              " 100        2.17                  0.26             1.40             3.30   \n",
              " 107        1.76                  0.48             1.63             3.30   \n",
              " 68         1.30                  0.55             0.42             3.17   \n",
              " 75         1.57                  0.34             1.15             3.80   \n",
              " 84         2.21                  0.22             2.35             3.05   \n",
              " 91         1.25                  0.50             1.63             3.60   \n",
              " 119        1.64                  0.37             1.87             1.28   \n",
              " 102        2.11                  0.34             1.31             2.80   \n",
              " 120        2.79                  0.32             1.83             3.25   \n",
              " 105        1.84                  0.66             1.42             2.70   \n",
              " 38         2.64                  0.28             1.37             3.70   \n",
              " 128        2.45                  0.40             1.90             2.12   \n",
              " 114        2.29                  0.43             1.04             2.90   \n",
              " 127        2.24                  0.58             1.76             3.00   \n",
              " 99         2.99                  0.45             2.81             2.30   \n",
              " 82         1.58                  0.40             1.40             2.20   \n",
              " 79         2.55                  0.43             1.95             2.57   \n",
              " 115        2.17                  0.52             2.01             1.90   \n",
              " 72         1.84                  0.27             1.03             3.74   \n",
              " 77         1.32                  0.43             0.95             2.65   \n",
              " 25         2.68                  0.47             1.92             3.58   \n",
              " 88         1.69                  0.48             1.35             2.80   \n",
              " 70         1.02                  0.37             1.46             3.05   \n",
              " 87         1.61                  0.40             1.34             2.60   \n",
              " 103        1.64                  0.37             1.42             2.06   \n",
              " 117        2.09                  0.34             1.61             2.06   \n",
              " \n",
              "      color_hue  OD280  proline  \n",
              " 22       1.110   4.00   1035.0  \n",
              " 108      0.860   3.02    312.0  \n",
              " 71       1.360   3.16    410.0  \n",
              " 97       1.230   2.74    428.0  \n",
              " 118      0.700   2.12    372.0  \n",
              " 62       1.230   2.46    630.0  \n",
              " 59       1.050   1.82    520.0  \n",
              " 95       1.160   2.63    937.0  \n",
              " 96       0.950   2.26    625.0  \n",
              " 109      0.960   3.26    680.0  \n",
              " 73       1.310   3.50    985.0  \n",
              " 110      0.750   2.81    562.0  \n",
              " 125      0.860   3.28    378.0  \n",
              " 116      0.950   3.33    495.0  \n",
              " 89       1.070   3.21    625.0  \n",
              " 64       1.450   2.23    355.0  \n",
              " 122      0.920   3.12    365.0  \n",
              " 124      0.750   3.64    380.0  \n",
              " 69       1.280   3.07    718.0  \n",
              " 85       1.230   3.16    450.0  \n",
              " 78       1.060   2.31    750.0  \n",
              " 100      1.270   2.96    710.0  \n",
              " 107      0.880   2.42    488.0  \n",
              " 68       1.020   1.93    750.0  \n",
              " 75       1.230   2.14    428.0  \n",
              " 84       0.790   3.08    520.0  \n",
              " 91       1.050   2.65    450.0  \n",
              " 119      0.930   3.05    564.0  \n",
              " 102      0.800   3.38    438.0  \n",
              " 120      0.800   3.39    625.0  \n",
              " 105      0.860   3.30    315.0  \n",
              " 38       1.180   2.69   1020.0  \n",
              " 128      0.890   2.78    342.0  \n",
              " 114      0.930   3.19    385.0  \n",
              " 127      0.970   2.44    466.0  \n",
              " 99       1.420   2.83    406.0  \n",
              " 82       1.310   2.72    630.0  \n",
              " 79       1.190   3.13    463.0  \n",
              " 115      1.710   2.87    407.0  \n",
              " 72       0.980   2.78    472.0  \n",
              " 77       0.960   2.52    500.0  \n",
              " 25       1.130   3.20    830.0  \n",
              " 88       1.000   2.75    680.0  \n",
              " 70       0.906   1.82    870.0  \n",
              " 87       1.360   3.21    562.0  \n",
              " 103      0.940   2.44    415.0  \n",
              " 117      1.060   2.96    345.0  ,\n",
              "      type  alcohol  malic_acid   ash  alkalinity  magnesium  total_phenols  \\\n",
              " 175     3    13.27        4.28  2.26        20.0      120.0           1.59   \n",
              " 145     3    13.16        3.57  2.15        21.0      102.0           1.50   \n",
              " 162     3    12.85        3.27  2.58        22.0      106.0           1.65   \n",
              " 156     3    13.84        4.12  2.38        19.5       89.0           1.80   \n",
              " 27      1    13.30        1.72  2.14        17.0       94.0           2.40   \n",
              " 83      2    13.05        3.86  2.32        22.5       85.0           1.65   \n",
              " 134     3    12.51        1.24  2.25        17.5       85.0           2.00   \n",
              " 163     3    12.96        3.45  2.35        18.5      106.0           1.39   \n",
              " 2       1    13.16        2.36  2.67        18.6      101.0           2.80   \n",
              " 43      1    13.24        3.98  2.29        17.5      103.0           2.64   \n",
              " 10      1    14.10        2.16  2.30        18.0      105.0           2.95   \n",
              " 171     3    12.77        2.39  2.28        19.5       86.0           1.39   \n",
              " 159     3    13.48        1.67  2.64        22.5       89.0           2.60   \n",
              " 166     3    13.45        3.70  2.60        23.0      111.0           1.70   \n",
              " 170     3    12.20        3.03  2.32        19.0       96.0           1.25   \n",
              " 50      1    13.05        1.73  2.04        12.4       92.0           2.72   \n",
              " 155     3    13.17        5.19  2.32        22.0       93.0           1.74   \n",
              " 49      1    13.94        1.73  2.27        17.4      108.0           2.88   \n",
              " 48      1    14.10        2.02  2.40        18.8      103.0           2.75   \n",
              " 13      1    14.75        1.73  2.39        11.4       91.0           3.10   \n",
              " 136     3    12.25        4.72  2.54        21.0       89.0           1.38   \n",
              " 23      1    12.85        1.60  2.52        17.8       95.0           2.48   \n",
              " 165     3    13.73        4.36  2.26        22.5       88.0           1.28   \n",
              " 20      1    14.06        1.63  2.28        16.0      126.0           3.00   \n",
              " 15      1    13.63        1.81  2.70        17.2      112.0           2.85   \n",
              " 52      1    13.82        1.75  2.42        14.0      111.0           3.88   \n",
              " 76      2    13.03        0.90  1.71        16.0       86.0           1.95   \n",
              " 3       1    14.37        1.95  2.50        16.8      113.0           3.85   \n",
              " 176     3    13.17        2.59  2.37        20.0      120.0           1.65   \n",
              " 6       1    14.39        1.87  2.45        14.6       96.0           2.50   \n",
              " ..    ...      ...         ...   ...         ...        ...            ...   \n",
              " 132     3    12.81        2.31  2.40        24.0       98.0           1.15   \n",
              " 154     3    12.58        1.29  2.10        20.0      103.0           1.48   \n",
              " 17      1    13.83        1.57  2.62        20.0      115.0           2.95   \n",
              " 133     3    12.70        3.55  2.36        21.5      106.0           1.70   \n",
              " 53      1    13.77        1.90  2.68        17.1      115.0           3.00   \n",
              " 139     3    12.84        2.96  2.61        24.0      101.0           2.32   \n",
              " 34      1    13.51        1.80  2.65        19.0      110.0           2.35   \n",
              " 28      1    13.87        1.90  2.80        19.4      107.0           2.95   \n",
              " 31      1    13.58        1.66  2.36        19.1      106.0           2.86   \n",
              " 149     3    13.08        3.90  2.36        21.5      113.0           1.41   \n",
              " 157     3    12.45        3.03  2.64        27.0       97.0           1.90   \n",
              " 32      1    13.68        1.83  2.36        17.2      104.0           2.42   \n",
              " 142     3    13.52        3.17  2.72        23.5       97.0           1.55   \n",
              " 150     3    13.50        3.12  2.62        24.0      123.0           1.40   \n",
              " 147     3    12.87        4.61  2.48        21.5       86.0           1.70   \n",
              " 29      1    14.02        1.68  2.21        16.0       96.0           2.65   \n",
              " 148     3    13.32        3.24  2.38        21.5       92.0           1.93   \n",
              " 177     3    14.13        4.10  2.74        24.5       96.0           2.05   \n",
              " 81      2    12.72        1.81  2.20        18.8       86.0           2.20   \n",
              " 167     3    12.82        3.37  2.30        19.5       88.0           1.48   \n",
              " 169     3    13.40        4.60  2.86        25.0      112.0           1.98   \n",
              " 39      1    14.22        3.99  2.51        13.2      128.0           3.00   \n",
              " 58      1    13.72        1.43  2.50        16.7      108.0           3.40   \n",
              " 140     3    12.93        2.81  2.70        21.0       96.0           1.54   \n",
              " 36      1    13.28        1.64  2.84        15.5      110.0           2.60   \n",
              " 21      1    12.93        3.80  2.65        18.6      102.0           2.41   \n",
              " 9       1    13.86        1.35  2.27        16.0       98.0           2.98   \n",
              " 67      2    12.37        1.17  1.92        19.6       78.0           2.11   \n",
              " 47      1    13.90        1.68  2.12        16.0      101.0           3.10   \n",
              " 172     3    14.16        2.51  2.48        20.0       91.0           1.68   \n",
              " \n",
              "      flavonoids  nonflavonoid_phenols  proanthocyanins  color_intensity  \\\n",
              " 175        0.69                  0.43             1.35        10.200000   \n",
              " 145        0.55                  0.43             1.30         4.000000   \n",
              " 162        0.60                  0.60             0.96         5.580000   \n",
              " 156        0.83                  0.48             1.56         9.010000   \n",
              " 27         2.19                  0.27             1.35         3.950000   \n",
              " 83         1.59                  0.61             1.62         4.800000   \n",
              " 134        0.58                  0.60             1.25         5.450000   \n",
              " 163        0.70                  0.40             0.94         5.280000   \n",
              " 2          3.24                  0.30             2.81         5.680000   \n",
              " 43         2.63                  0.32             1.66         4.360000   \n",
              " 10         3.32                  0.22             2.38         5.750000   \n",
              " 171        0.51                  0.48             0.64         9.899999   \n",
              " 159        1.10                  0.52             2.29        11.750000   \n",
              " 166        0.92                  0.43             1.46        10.680000   \n",
              " 170        0.49                  0.40             0.73         5.500000   \n",
              " 50         3.27                  0.17             2.91         7.200000   \n",
              " 155        0.63                  0.61             1.55         7.900000   \n",
              " 49         3.54                  0.32             2.08         8.900000   \n",
              " 48         2.92                  0.32             2.38         6.200000   \n",
              " 13         3.69                  0.43             2.81         5.400000   \n",
              " 136        0.47                  0.53             0.80         3.850000   \n",
              " 23         2.37                  0.26             1.46         3.930000   \n",
              " 165        0.47                  0.52             1.15         6.620000   \n",
              " 20         3.17                  0.24             2.10         5.650000   \n",
              " 15         2.91                  0.30             1.46         7.300000   \n",
              " 52         3.74                  0.32             1.87         7.050000   \n",
              " 76         2.03                  0.24             1.46         4.600000   \n",
              " 3          3.49                  0.24             2.18         7.800000   \n",
              " 176        0.68                  0.53             1.46         9.300000   \n",
              " 6          2.52                  0.30             1.98         5.250000   \n",
              " ..          ...                   ...              ...              ...   \n",
              " 132        1.09                  0.27             0.83         5.700000   \n",
              " 154        0.58                  0.53             1.40         7.600000   \n",
              " 17         3.40                  0.40             1.72         6.600000   \n",
              " 133        1.20                  0.17             0.84         5.000000   \n",
              " 53         2.79                  0.39             1.68         6.300000   \n",
              " 139        0.60                  0.53             0.81         4.920000   \n",
              " 34         2.53                  0.29             1.54         4.200000   \n",
              " 28         2.97                  0.37             1.76         4.500000   \n",
              " 31         3.19                  0.22             1.95         6.900000   \n",
              " 149        1.39                  0.34             1.14         9.400000   \n",
              " 157        0.58                  0.63             1.14         7.500000   \n",
              " 32         2.69                  0.42             1.97         3.840000   \n",
              " 142        0.52                  0.50             0.55         4.350000   \n",
              " 150        1.57                  0.22             1.25         8.600000   \n",
              " 147        0.65                  0.47             0.86         7.650000   \n",
              " 29         2.33                  0.26             1.98         4.700000   \n",
              " 148        0.76                  0.45             1.25         8.420000   \n",
              " 177        0.76                  0.56             1.35         9.200000   \n",
              " 81         2.53                  0.26             1.77         3.900000   \n",
              " 167        0.66                  0.40             0.97        10.260000   \n",
              " 169        0.96                  0.27             1.11         8.500000   \n",
              " 39         3.04                  0.20             2.08         5.100000   \n",
              " 58         3.67                  0.19             2.04         6.800000   \n",
              " 140        0.50                  0.53             0.75         4.600000   \n",
              " 36         2.68                  0.34             1.36         4.600000   \n",
              " 21         2.41                  0.25             1.98         4.500000   \n",
              " 9          3.15                  0.22             1.85         7.220000   \n",
              " 67         2.00                  0.27             1.04         4.680000   \n",
              " 47         3.39                  0.21             2.14         6.100000   \n",
              " 172        0.70                  0.44             1.24         9.700000   \n",
              " \n",
              "      color_hue  OD280  proline  \n",
              " 175       0.59   1.56    835.0  \n",
              " 145       0.60   1.68    830.0  \n",
              " 162       0.87   2.11    570.0  \n",
              " 156       0.57   1.64    480.0  \n",
              " 27        1.02   2.77   1285.0  \n",
              " 83        0.84   2.01    515.0  \n",
              " 134       0.75   1.51    650.0  \n",
              " 163       0.68   1.75    675.0  \n",
              " 2         1.03   3.17   1185.0  \n",
              " 43        0.82   3.00    680.0  \n",
              " 10        1.25   3.17   1510.0  \n",
              " 171       0.57   1.63    470.0  \n",
              " 159       0.57   1.78    620.0  \n",
              " 166       0.85   1.56    695.0  \n",
              " 170       0.66   1.83    510.0  \n",
              " 50        1.12   2.91   1150.0  \n",
              " 155       0.60   1.48    725.0  \n",
              " 49        1.12   3.10   1260.0  \n",
              " 48        1.07   2.75   1060.0  \n",
              " 13        1.25   2.73   1150.0  \n",
              " 136       0.75   1.27    720.0  \n",
              " 23        1.09   3.63   1015.0  \n",
              " 165       0.78   1.75    520.0  \n",
              " 20        1.09   3.71    780.0  \n",
              " 15        1.28   2.88   1310.0  \n",
              " 52        1.01   3.26   1190.0  \n",
              " 76        1.19   2.48    392.0  \n",
              " 3         0.86   3.45   1480.0  \n",
              " 176       0.60   1.62    840.0  \n",
              " 6         1.02   3.58   1290.0  \n",
              " ..         ...    ...      ...  \n",
              " 132       0.66   1.36    560.0  \n",
              " 154       0.58   1.55    640.0  \n",
              " 17        1.13   2.57   1130.0  \n",
              " 133       0.78   1.29    600.0  \n",
              " 53        1.13   2.93   1375.0  \n",
              " 139       0.89   2.15    590.0  \n",
              " 34        1.10   2.87   1095.0  \n",
              " 28        1.25   3.40    915.0  \n",
              " 31        1.09   2.88   1515.0  \n",
              " 149       0.57   1.33    550.0  \n",
              " 157       0.67   1.73    880.0  \n",
              " 32        1.23   2.87    990.0  \n",
              " 142       0.89   2.06    520.0  \n",
              " 150       0.59   1.30    500.0  \n",
              " 147       0.54   1.86    625.0  \n",
              " 29        1.04   3.59   1035.0  \n",
              " 148       0.55   1.62    650.0  \n",
              " 177       0.61   1.60    560.0  \n",
              " 81        1.16   3.14    714.0  \n",
              " 167       0.72   1.75    685.0  \n",
              " 169       0.67   1.92    630.0  \n",
              " 39        0.89   3.53    760.0  \n",
              " 58        0.89   2.87   1285.0  \n",
              " 140       0.77   2.31    600.0  \n",
              " 36        1.09   2.78    880.0  \n",
              " 21        1.03   3.52    770.0  \n",
              " 9         1.01   3.55   1045.0  \n",
              " 67        1.12   3.48    510.0  \n",
              " 47        0.91   3.33    985.0  \n",
              " 172       0.62   1.71    660.0  \n",
              " \n",
              " [77 rows x 14 columns])"
            ]
          },
          "execution_count": 53,
          "metadata": {},
          "output_type": "execute_result"
        }
      ],
      "source": [
        "# test best split finder with entropy\n",
        "find_best_split(train_wine, gini_index)"
      ]
    },
    {
      "cell_type": "code",
      "execution_count": 54,
      "metadata": {
        "pycharm": {
          "is_executing": false,
          "metadata": false,
          "name": "#%%\n"
        }
      },
      "outputs": [
        {
          "data": {
            "text/plain": [
              "(\u0027flavonoids\u0027,\n",
              " 1.58,\n",
              "      type  alcohol  malic_acid   ash  alkalinity  magnesium  total_phenols  \\\n",
              " 175     3    13.27        4.28  2.26        20.0      120.0           1.59   \n",
              " 145     3    13.16        3.57  2.15        21.0      102.0           1.50   \n",
              " 162     3    12.85        3.27  2.58        22.0      106.0           1.65   \n",
              " 156     3    13.84        4.12  2.38        19.5       89.0           1.80   \n",
              " 134     3    12.51        1.24  2.25        17.5       85.0           2.00   \n",
              " 118     2    12.77        3.43  1.98        16.0       80.0           1.63   \n",
              " 163     3    12.96        3.45  2.35        18.5      106.0           1.39   \n",
              " 59      2    12.37        0.94  1.36        10.6       88.0           1.98   \n",
              " 96      2    11.81        2.12  2.74        21.5      134.0           1.60   \n",
              " 171     3    12.77        2.39  2.28        19.5       86.0           1.39   \n",
              " 159     3    13.48        1.67  2.64        22.5       89.0           2.60   \n",
              " 166     3    13.45        3.70  2.60        23.0      111.0           1.70   \n",
              " 170     3    12.20        3.03  2.32        19.0       96.0           1.25   \n",
              " 155     3    13.17        5.19  2.32        22.0       93.0           1.74   \n",
              " 69      2    12.21        1.19  1.75        16.8      151.0           1.85   \n",
              " 136     3    12.25        4.72  2.54        21.0       89.0           1.38   \n",
              " 165     3    13.73        4.36  2.26        22.5       88.0           1.28   \n",
              " 176     3    13.17        2.59  2.37        20.0      120.0           1.65   \n",
              " 68      2    13.34        0.94  2.36        17.0      110.0           2.53   \n",
              " 75      2    11.66        1.88  1.92        16.0       97.0           1.61   \n",
              " 130     3    12.86        1.35  2.32        18.0      122.0           1.51   \n",
              " 137     3    12.53        5.51  2.64        25.0       96.0           1.79   \n",
              " 152     3    13.11        1.90  2.75        25.5      116.0           2.20   \n",
              " 91      2    12.00        1.51  2.42        22.0       86.0           1.45   \n",
              " 153     3    13.23        3.30  2.28        18.5       98.0           1.80   \n",
              " 173     3    13.71        5.65  2.45        20.5       95.0           1.68   \n",
              " 143     3    13.62        4.95  2.35        20.0       92.0           2.00   \n",
              " 132     3    12.81        2.31  2.40        24.0       98.0           1.15   \n",
              " 154     3    12.58        1.29  2.10        20.0      103.0           1.48   \n",
              " 133     3    12.70        3.55  2.36        21.5      106.0           1.70   \n",
              " 139     3    12.84        2.96  2.61        24.0      101.0           2.32   \n",
              " 149     3    13.08        3.90  2.36        21.5      113.0           1.41   \n",
              " 157     3    12.45        3.03  2.64        27.0       97.0           1.90   \n",
              " 142     3    13.52        3.17  2.72        23.5       97.0           1.55   \n",
              " 150     3    13.50        3.12  2.62        24.0      123.0           1.40   \n",
              " 147     3    12.87        4.61  2.48        21.5       86.0           1.70   \n",
              " 148     3    13.32        3.24  2.38        21.5       92.0           1.93   \n",
              " 177     3    14.13        4.10  2.74        24.5       96.0           2.05   \n",
              " 77      2    11.84        2.89  2.23        18.0      112.0           1.72   \n",
              " 167     3    12.82        3.37  2.30        19.5       88.0           1.48   \n",
              " 169     3    13.40        4.60  2.86        25.0      112.0           1.98   \n",
              " 140     3    12.93        2.81  2.70        21.0       96.0           1.54   \n",
              " 70      2    12.29        1.61  2.21        20.4      103.0           1.10   \n",
              " 172     3    14.16        2.51  2.48        20.0       91.0           1.68   \n",
              " \n",
              "      flavonoids  nonflavonoid_phenols  proanthocyanins  color_intensity  \\\n",
              " 175        0.69                  0.43             1.35        10.200000   \n",
              " 145        0.55                  0.43             1.30         4.000000   \n",
              " 162        0.60                  0.60             0.96         5.580000   \n",
              " 156        0.83                  0.48             1.56         9.010000   \n",
              " 134        0.58                  0.60             1.25         5.450000   \n",
              " 118        1.25                  0.43             0.83         3.400000   \n",
              " 163        0.70                  0.40             0.94         5.280000   \n",
              " 59         0.57                  0.28             0.42         1.950000   \n",
              " 96         0.99                  0.14             1.56         2.500000   \n",
              " 171        0.51                  0.48             0.64         9.899999   \n",
              " 159        1.10                  0.52             2.29        11.750000   \n",
              " 166        0.92                  0.43             1.46        10.680000   \n",
              " 170        0.49                  0.40             0.73         5.500000   \n",
              " 155        0.63                  0.61             1.55         7.900000   \n",
              " 69         1.28                  0.14             2.50         2.850000   \n",
              " 136        0.47                  0.53             0.80         3.850000   \n",
              " 165        0.47                  0.52             1.15         6.620000   \n",
              " 176        0.68                  0.53             1.46         9.300000   \n",
              " 68         1.30                  0.55             0.42         3.170000   \n",
              " 75         1.57                  0.34             1.15         3.800000   \n",
              " 130        1.25                  0.21             0.94         4.100000   \n",
              " 137        0.60                  0.63             1.10         5.000000   \n",
              " 152        1.28                  0.26             1.56         7.100000   \n",
              " 91         1.25                  0.50             1.63         3.600000   \n",
              " 153        0.83                  0.61             1.87        10.520000   \n",
              " 173        0.61                  0.52             1.06         7.700000   \n",
              " 143        0.80                  0.47             1.02         4.400000   \n",
              " 132        1.09                  0.27             0.83         5.700000   \n",
              " 154        0.58                  0.53             1.40         7.600000   \n",
              " 133        1.20                  0.17             0.84         5.000000   \n",
              " 139        0.60                  0.53             0.81         4.920000   \n",
              " 149        1.39                  0.34             1.14         9.400000   \n",
              " 157        0.58                  0.63             1.14         7.500000   \n",
              " 142        0.52                  0.50             0.55         4.350000   \n",
              " 150        1.57                  0.22             1.25         8.600000   \n",
              " 147        0.65                  0.47             0.86         7.650000   \n",
              " 148        0.76                  0.45             1.25         8.420000   \n",
              " 177        0.76                  0.56             1.35         9.200000   \n",
              " 77         1.32                  0.43             0.95         2.650000   \n",
              " 167        0.66                  0.40             0.97        10.260000   \n",
              " 169        0.96                  0.27             1.11         8.500000   \n",
              " 140        0.50                  0.53             0.75         4.600000   \n",
              " 70         1.02                  0.37             1.46         3.050000   \n",
              " 172        0.70                  0.44             1.24         9.700000   \n",
              " \n",
              "      color_hue  OD280  proline  \n",
              " 175      0.590   1.56    835.0  \n",
              " 145      0.600   1.68    830.0  \n",
              " 162      0.870   2.11    570.0  \n",
              " 156      0.570   1.64    480.0  \n",
              " 134      0.750   1.51    650.0  \n",
              " 118      0.700   2.12    372.0  \n",
              " 163      0.680   1.75    675.0  \n",
              " 59       1.050   1.82    520.0  \n",
              " 96       0.950   2.26    625.0  \n",
              " 171      0.570   1.63    470.0  \n",
              " 159      0.570   1.78    620.0  \n",
              " 166      0.850   1.56    695.0  \n",
              " 170      0.660   1.83    510.0  \n",
              " 155      0.600   1.48    725.0  \n",
              " 69       1.280   3.07    718.0  \n",
              " 136      0.750   1.27    720.0  \n",
              " 165      0.780   1.75    520.0  \n",
              " 176      0.600   1.62    840.0  \n",
              " 68       1.020   1.93    750.0  \n",
              " 75       1.230   2.14    428.0  \n",
              " 130      0.760   1.29    630.0  \n",
              " 137      0.820   1.69    515.0  \n",
              " 152      0.610   1.33    425.0  \n",
              " 91       1.050   2.65    450.0  \n",
              " 153      0.560   1.51    675.0  \n",
              " 173      0.640   1.74    740.0  \n",
              " 143      0.910   2.05    550.0  \n",
              " 132      0.660   1.36    560.0  \n",
              " 154      0.580   1.55    640.0  \n",
              " 133      0.780   1.29    600.0  \n",
              " 139      0.890   2.15    590.0  \n",
              " 149      0.570   1.33    550.0  \n",
              " 157      0.670   1.73    880.0  \n",
              " 142      0.890   2.06    520.0  \n",
              " 150      0.590   1.30    500.0  \n",
              " 147      0.540   1.86    625.0  \n",
              " 148      0.550   1.62    650.0  \n",
              " 177      0.610   1.60    560.0  \n",
              " 77       0.960   2.52    500.0  \n",
              " 167      0.720   1.75    685.0  \n",
              " 169      0.670   1.92    630.0  \n",
              " 140      0.770   2.31    600.0  \n",
              " 70       0.906   1.82    870.0  \n",
              " 172      0.620   1.71    660.0  ,\n",
              "      type  alcohol  malic_acid   ash  alkalinity  magnesium  total_phenols  \\\n",
              " 22      1    13.71        1.86  2.36        16.6      101.0           2.61   \n",
              " 108     2    12.22        1.29  1.94        19.0       92.0           2.36   \n",
              " 71      2    13.86        1.51  2.67        25.0       86.0           2.95   \n",
              " 27      1    13.30        1.72  2.14        17.0       94.0           2.40   \n",
              " 83      2    13.05        3.86  2.32        22.5       85.0           1.65   \n",
              " 97      2    12.29        1.41  1.98        16.0       85.0           2.55   \n",
              " 62      2    13.67        1.25  1.92        18.0       94.0           2.10   \n",
              " 2       1    13.16        2.36  2.67        18.6      101.0           2.80   \n",
              " 95      2    12.47        1.52  2.20        19.0      162.0           2.50   \n",
              " 43      1    13.24        3.98  2.29        17.5      103.0           2.64   \n",
              " 10      1    14.10        2.16  2.30        18.0      105.0           2.95   \n",
              " 109     2    11.61        1.35  2.70        20.0       94.0           2.74   \n",
              " 73      2    12.99        1.67  2.60        30.0      139.0           3.30   \n",
              " 110     2    11.46        3.74  1.82        19.5      107.0           3.18   \n",
              " 125     2    12.07        2.16  2.17        21.0       85.0           2.60   \n",
              " 116     2    11.82        1.47  1.99        20.8       86.0           1.98   \n",
              " 50      1    13.05        1.73  2.04        12.4       92.0           2.72   \n",
              " 89      2    12.08        1.33  2.30        23.6       70.0           2.20   \n",
              " 64      2    12.17        1.45  2.53        19.0      104.0           1.89   \n",
              " 122     2    12.42        4.43  2.73        26.5      102.0           2.20   \n",
              " 124     2    11.87        4.31  2.39        21.0       82.0           2.86   \n",
              " 49      1    13.94        1.73  2.27        17.4      108.0           2.88   \n",
              " 48      1    14.10        2.02  2.40        18.8      103.0           2.75   \n",
              " 85      2    12.67        0.98  2.24        18.0       99.0           2.20   \n",
              " 13      1    14.75        1.73  2.39        11.4       91.0           3.10   \n",
              " 23      1    12.85        1.60  2.52        17.8       95.0           2.48   \n",
              " 20      1    14.06        1.63  2.28        16.0      126.0           3.00   \n",
              " 15      1    13.63        1.81  2.70        17.2      112.0           2.85   \n",
              " 78      2    12.33        0.99  1.95        14.8      136.0           1.90   \n",
              " 52      1    13.82        1.75  2.42        14.0      111.0           3.88   \n",
              " ..    ...      ...         ...   ...         ...        ...            ...   \n",
              " 105     2    12.42        2.55  2.27        22.0       90.0           1.68   \n",
              " 17      1    13.83        1.57  2.62        20.0      115.0           2.95   \n",
              " 38      1    13.07        1.50  2.10        15.5       98.0           2.40   \n",
              " 53      1    13.77        1.90  2.68        17.1      115.0           3.00   \n",
              " 128     2    12.37        1.63  2.30        24.5       88.0           2.22   \n",
              " 34      1    13.51        1.80  2.65        19.0      110.0           2.35   \n",
              " 28      1    13.87        1.90  2.80        19.4      107.0           2.95   \n",
              " 114     2    12.08        1.39  2.50        22.5       84.0           2.56   \n",
              " 31      1    13.58        1.66  2.36        19.1      106.0           2.86   \n",
              " 127     2    11.79        2.13  2.78        28.5       92.0           2.13   \n",
              " 32      1    13.68        1.83  2.36        17.2      104.0           2.42   \n",
              " 29      1    14.02        1.68  2.21        16.0       96.0           2.65   \n",
              " 99      2    12.29        3.17  2.21        18.0       88.0           2.85   \n",
              " 82      2    12.08        1.13  2.51        24.0       78.0           2.00   \n",
              " 79      2    12.70        3.87  2.40        23.0      101.0           2.83   \n",
              " 115     2    11.03        1.51  2.20        21.5       85.0           2.46   \n",
              " 72      2    13.49        1.66  2.24        24.0       87.0           1.88   \n",
              " 25      1    13.05        2.05  3.22        25.0      124.0           2.63   \n",
              " 81      2    12.72        1.81  2.20        18.8       86.0           2.20   \n",
              " 39      1    14.22        3.99  2.51        13.2      128.0           3.00   \n",
              " 58      1    13.72        1.43  2.50        16.7      108.0           3.40   \n",
              " 88      2    11.64        2.06  2.46        21.6       84.0           1.95   \n",
              " 87      2    11.65        1.67  2.62        26.0       88.0           1.92   \n",
              " 36      1    13.28        1.64  2.84        15.5      110.0           2.60   \n",
              " 21      1    12.93        3.80  2.65        18.6      102.0           2.41   \n",
              " 9       1    13.86        1.35  2.27        16.0       98.0           2.98   \n",
              " 103     2    11.82        1.72  1.88        19.5       86.0           2.50   \n",
              " 67      2    12.37        1.17  1.92        19.6       78.0           2.11   \n",
              " 117     2    12.42        1.61  2.19        22.5      108.0           2.00   \n",
              " 47      1    13.90        1.68  2.12        16.0      101.0           3.10   \n",
              " \n",
              "      flavonoids  nonflavonoid_phenols  proanthocyanins  color_intensity  \\\n",
              " 22         2.88                  0.27             1.69             3.80   \n",
              " 108        2.04                  0.39             2.08             2.70   \n",
              " 71         2.86                  0.21             1.87             3.38   \n",
              " 27         2.19                  0.27             1.35             3.95   \n",
              " 83         1.59                  0.61             1.62             4.80   \n",
              " 97         2.50                  0.29             1.77             2.90   \n",
              " 62         1.79                  0.32             0.73             3.80   \n",
              " 2          3.24                  0.30             2.81             5.68   \n",
              " 95         2.27                  0.32             3.28             2.60   \n",
              " 43         2.63                  0.32             1.66             4.36   \n",
              " 10         3.32                  0.22             2.38             5.75   \n",
              " 109        2.92                  0.29             2.49             2.65   \n",
              " 73         2.89                  0.21             1.96             3.35   \n",
              " 110        2.58                  0.24             3.58             2.90   \n",
              " 125        2.65                  0.37             1.35             2.76   \n",
              " 116        1.60                  0.30             1.53             1.95   \n",
              " 50         3.27                  0.17             2.91             7.20   \n",
              " 89         1.59                  0.42             1.38             1.74   \n",
              " 64         1.75                  0.45             1.03             2.95   \n",
              " 122        2.13                  0.43             1.71             2.08   \n",
              " 124        3.03                  0.21             2.91             2.80   \n",
              " 49         3.54                  0.32             2.08             8.90   \n",
              " 48         2.92                  0.32             2.38             6.20   \n",
              " 85         1.94                  0.30             1.46             2.62   \n",
              " 13         3.69                  0.43             2.81             5.40   \n",
              " 23         2.37                  0.26             1.46             3.93   \n",
              " 20         3.17                  0.24             2.10             5.65   \n",
              " 15         2.91                  0.30             1.46             7.30   \n",
              " 78         1.85                  0.35             2.76             3.40   \n",
              " 52         3.74                  0.32             1.87             7.05   \n",
              " ..          ...                   ...              ...              ...   \n",
              " 105        1.84                  0.66             1.42             2.70   \n",
              " 17         3.40                  0.40             1.72             6.60   \n",
              " 38         2.64                  0.28             1.37             3.70   \n",
              " 53         2.79                  0.39             1.68             6.30   \n",
              " 128        2.45                  0.40             1.90             2.12   \n",
              " 34         2.53                  0.29             1.54             4.20   \n",
              " 28         2.97                  0.37             1.76             4.50   \n",
              " 114        2.29                  0.43             1.04             2.90   \n",
              " 31         3.19                  0.22             1.95             6.90   \n",
              " 127        2.24                  0.58             1.76             3.00   \n",
              " 32         2.69                  0.42             1.97             3.84   \n",
              " 29         2.33                  0.26             1.98             4.70   \n",
              " 99         2.99                  0.45             2.81             2.30   \n",
              " 82         1.58                  0.40             1.40             2.20   \n",
              " 79         2.55                  0.43             1.95             2.57   \n",
              " 115        2.17                  0.52             2.01             1.90   \n",
              " 72         1.84                  0.27             1.03             3.74   \n",
              " 25         2.68                  0.47             1.92             3.58   \n",
              " 81         2.53                  0.26             1.77             3.90   \n",
              " 39         3.04                  0.20             2.08             5.10   \n",
              " 58         3.67                  0.19             2.04             6.80   \n",
              " 88         1.69                  0.48             1.35             2.80   \n",
              " 87         1.61                  0.40             1.34             2.60   \n",
              " 36         2.68                  0.34             1.36             4.60   \n",
              " 21         2.41                  0.25             1.98             4.50   \n",
              " 9          3.15                  0.22             1.85             7.22   \n",
              " 103        1.64                  0.37             1.42             2.06   \n",
              " 67         2.00                  0.27             1.04             4.68   \n",
              " 117        2.09                  0.34             1.61             2.06   \n",
              " 47         3.39                  0.21             2.14             6.10   \n",
              " \n",
              "      color_hue  OD280  proline  \n",
              " 22        1.11   4.00   1035.0  \n",
              " 108       0.86   3.02    312.0  \n",
              " 71        1.36   3.16    410.0  \n",
              " 27        1.02   2.77   1285.0  \n",
              " 83        0.84   2.01    515.0  \n",
              " 97        1.23   2.74    428.0  \n",
              " 62        1.23   2.46    630.0  \n",
              " 2         1.03   3.17   1185.0  \n",
              " 95        1.16   2.63    937.0  \n",
              " 43        0.82   3.00    680.0  \n",
              " 10        1.25   3.17   1510.0  \n",
              " 109       0.96   3.26    680.0  \n",
              " 73        1.31   3.50    985.0  \n",
              " 110       0.75   2.81    562.0  \n",
              " 125       0.86   3.28    378.0  \n",
              " 116       0.95   3.33    495.0  \n",
              " 50        1.12   2.91   1150.0  \n",
              " 89        1.07   3.21    625.0  \n",
              " 64        1.45   2.23    355.0  \n",
              " 122       0.92   3.12    365.0  \n",
              " 124       0.75   3.64    380.0  \n",
              " 49        1.12   3.10   1260.0  \n",
              " 48        1.07   2.75   1060.0  \n",
              " 85        1.23   3.16    450.0  \n",
              " 13        1.25   2.73   1150.0  \n",
              " 23        1.09   3.63   1015.0  \n",
              " 20        1.09   3.71    780.0  \n",
              " 15        1.28   2.88   1310.0  \n",
              " 78        1.06   2.31    750.0  \n",
              " 52        1.01   3.26   1190.0  \n",
              " ..         ...    ...      ...  \n",
              " 105       0.86   3.30    315.0  \n",
              " 17        1.13   2.57   1130.0  \n",
              " 38        1.18   2.69   1020.0  \n",
              " 53        1.13   2.93   1375.0  \n",
              " 128       0.89   2.78    342.0  \n",
              " 34        1.10   2.87   1095.0  \n",
              " 28        1.25   3.40    915.0  \n",
              " 114       0.93   3.19    385.0  \n",
              " 31        1.09   2.88   1515.0  \n",
              " 127       0.97   2.44    466.0  \n",
              " 32        1.23   2.87    990.0  \n",
              " 29        1.04   3.59   1035.0  \n",
              " 99        1.42   2.83    406.0  \n",
              " 82        1.31   2.72    630.0  \n",
              " 79        1.19   3.13    463.0  \n",
              " 115       1.71   2.87    407.0  \n",
              " 72        0.98   2.78    472.0  \n",
              " 25        1.13   3.20    830.0  \n",
              " 81        1.16   3.14    714.0  \n",
              " 39        0.89   3.53    760.0  \n",
              " 58        0.89   2.87   1285.0  \n",
              " 88        1.00   2.75    680.0  \n",
              " 87        1.36   3.21    562.0  \n",
              " 36        1.09   2.78    880.0  \n",
              " 21        1.03   3.52    770.0  \n",
              " 9         1.01   3.55   1045.0  \n",
              " 103       0.94   2.44    415.0  \n",
              " 67        1.12   3.48    510.0  \n",
              " 117       1.06   2.96    345.0  \n",
              " 47        0.91   3.33    985.0  \n",
              " \n",
              " [80 rows x 14 columns])"
            ]
          },
          "execution_count": 54,
          "metadata": {},
          "output_type": "execute_result"
        }
      ],
      "source": [
        "#test best split finder with Gini impurity\n",
        "find_best_split(train_wine, entropy)"
      ]
    },
    {
      "cell_type": "markdown",
      "metadata": {
        "pycharm": {
          "metadata": false
        }
      },
      "source": [
        "### Build Tree\n",
        "\n",
        "Met behulp van de ``find_best_split`` functie is het nu mogelijk om de *decision tree* recursief op te stellen. Het grootste deel van de functies en attributen van de ``TreeNode`` klasse zijn reeds gegeven, enkel de ``split`` functie (waar de recursie gebeurt) dient nog aangevuld te worden."
      ]
    },
    {
      "cell_type": "code",
      "execution_count": 89,
      "metadata": {
        "pycharm": {
          "is_executing": false,
          "metadata": false,
          "name": "#%%\n"
        }
      },
      "outputs": [],
      "source": [
        "class TreeNode(object):\n",
        "    \"\"\" \n",
        "    Forms the node of a decision tree.\n",
        "    \n",
        "    Args:\n",
        "        level: Level of the node in the tree.\n",
        "        df_node: ModelFrame containing the data of the node\n",
        "        cost_func: Function to calculate the splitting cost (entropy or gini_index).\n",
        "        max_depth: Maximum depth of the tree.\n",
        "        min_length: Minimum amount of elements that a node has to contain to be considered splittable.\n",
        "    \"\"\"\n",
        "    counter \u003d 0\n",
        "    def __init__(self, level, df_node, cost_func, max_depth, min_length, **kwargs):\n",
        "        self._id \u003d type(self).counter\n",
        "        type(self).counter +\u003d 1\n",
        "        self.level \u003d level\n",
        "        self.df_node \u003d df_node\n",
        "        self.cost_func \u003d cost_func\n",
        "        self.max_depth \u003d max_depth\n",
        "        self.min_length \u003d min_length\n",
        "        self.cost \u003d self.cost_func(self.df_node)\n",
        "        self.split_attr \u003d None\n",
        "        self.split_value \u003d None\n",
        "        self.left \u003d None\n",
        "        self.right \u003d None\n",
        "    \n",
        "    @property\n",
        "    def record_amt(self):\n",
        "        \"\"\" \n",
        "        Returns the amount of data elements in this node\u0027s ModelFrame.\n",
        "        \"\"\"\n",
        "        return len(self.df_node)\n",
        "    \n",
        "    @property\n",
        "    def has_children(self):\n",
        "        \"\"\" \n",
        "        Check if the node has any children.\n",
        "        \"\"\"\n",
        "        return self.left is not None and self.right is not None\n",
        "    \n",
        "    @property\n",
        "    def class_distribution(self):\n",
        "        \"\"\"\n",
        "        Gives a dict containing the classes as keys and the amount of elements per class as values.\n",
        "        \"\"\"\n",
        "        return self.df_node.target.value_counts().to_dict()\n",
        "    \n",
        "    @property\n",
        "    def category(self):\n",
        "        \"\"\"\n",
        "        Returns the dominant category of the elements in this node.\n",
        "        \"\"\"\n",
        "        cd \u003d self.class_distribution\n",
        "        if len(cd) \u003d\u003d 0:\n",
        "            return \u0027ERROR\u0027\n",
        "        return max(cd, key\u003dlambda key: cd[key])\n",
        "    \n",
        "    def add_left(self, node):\n",
        "        \"\"\"\n",
        "        Add another node to this node as left child.\n",
        "        \"\"\"\n",
        "        self.left \u003d node\n",
        "        \n",
        "    def add_right(self, node):\n",
        "        \"\"\"\n",
        "        Add another node to this node as right child.\n",
        "        \"\"\"\n",
        "        self.right \u003d node\n",
        "        \n",
        "    def split(self):\n",
        "        \"\"\"\n",
        "        Split the node into two children.\n",
        "        \"\"\"\n",
        "        if self.df_node.size \u003c\u003d self.min_length:\n",
        "            print(\u0027    \u0027 * self.level, \u0027Leaf node #\u0027, self._id, \u0027based on len\u0027, self.df_node.size, \u0027\u003c\u0027, self.min_length)\n",
        "            return\n",
        "        if self.level \u003e\u003d self.max_depth:\n",
        "            print(\u0027    \u0027 * self.level, \u0027Leaf node #\u0027, self._id, \u0027based on depth\u0027, self.level, \u0027\u003e\u003d\u0027, self.max_depth)\n",
        "            return\n",
        "        if len(self.df_node[\u0027type\u0027].unique()) \u003c\u003d 1:\n",
        "            print(\u0027    \u0027 * self.level, \u0027Leaf node #\u0027, self._id, \u0027pure. Type:\u0027, self.df_node[\u0027type\u0027].unique())\n",
        "            return\n",
        "        \n",
        "        self.split_attr, self.split_value, l, r \u003d find_best_split(self.df_node, self.cost_func)\n",
        "        print(\u0027    \u0027 * self.level, \u0027Node #\u0027, self._id, \u0027split on\u0027, self.split_attr, self.split_value, \u0027L:\u0027, len(l), \u0027R:\u0027, len(r))\n",
        "        \n",
        "        for x in (l, r):\n",
        "            if x.size \u003c\u003d self.min_length:\n",
        "                print(\u0027    \u0027 * self.level, \u0027Child would be empty?\u0027)\n",
        "                return\n",
        "        \n",
        "        self.left \u003d TreeNode(self.level + 1, l, self.cost_func, self.max_depth, self.min_length).split()\n",
        "        self.right \u003d TreeNode(self.level + 1, r, self.cost_func, self.max_depth, self.min_length).split()\n",
        "        return self\n",
        "    \n",
        "def build_tree(train_set, cost_func, max_depth, min_size):\n",
        "    TreeNode.counter \u003d 0\n",
        "    root \u003d TreeNode(0, train_set, cost_func, max_depth, min_size)\n",
        "    print(\"Starting split at root.\")\n",
        "    root.split()\n",
        "    print(\"Splitting done.\")\n",
        "    return root"
      ]
    },
    {
      "cell_type": "markdown",
      "metadata": {
        "pycharm": {
          "metadata": false
        }
      },
      "source": [
        "### Print Tree\n",
        "\n",
        "Om te kijken hoe het getrainde model eruit ziet, wordt er een (rudimentaire) functie meegegeven waarmee de boom recursief kan geprint worden. We moeten er wel voor zorgen dat de juiste velden op de juiste manier geupdated worden in de ``split`` functie van hierboven, anders krijgen we waarschijnlijk een foutboodschap."
      ]
    },
    {
      "cell_type": "code",
      "execution_count": 83,
      "metadata": {
        "pycharm": {
          "is_executing": false,
          "metadata": false,
          "name": "#%%\n"
        }
      },
      "outputs": [],
      "source": [
        "def print_tree(node: TreeNode, sign\u003d\u0027X\u0027):\n",
        "    if node.has_children:\n",
        "        print(node._id, node.level * \u0027  \u0027, sign, \n",
        "              node.split_attr, \n",
        "              \u0027@\u0027,\n",
        "              node.split_value, \n",
        "              \u0027-- Cost:\u0027, node.cost, \n",
        "              \u0027-- Dist:\u0027, node.class_distribution, \n",
        "              \u0027-- Cat:\u0027, node.category)\n",
        "    else:\n",
        "        print(node._id, node.level * \u0027  \u0027, sign, \n",
        "              \u0027-- Cost:\u0027, node.cost, \n",
        "              \u0027-- Dist:\u0027, node.class_distribution, \n",
        "              \u0027-- Cat:\u0027, node.category)\n",
        "    if node.left is not None:\n",
        "        print_tree(node.left, sign\u003d\u0027\u003c\u0027)\n",
        "    if node.right is not None:\n",
        "        print_tree(node.right, sign\u003d\u0027\u003e\u0027)"
      ]
    },
    {
      "cell_type": "markdown",
      "metadata": {
        "pycharm": {
          "metadata": false
        }
      },
      "source": [
        "### Make Predictions\n",
        "\n",
        "Uiteraard willen we het model niet alleen maar kunnen gebruiken om de trainingsdata te omschrijven (*description*), maar ook om te voorspellen hoe nieuwe data met een ongekend label geclassificeerd wordt door de boom (*prediction*). Hiervoor maken we opnieuw gebruik van recursie: we vertrekken in de *root* en vergelijken ``split_attr`` en ``split_value`` met de testdata. Op basis van deze vergelijking gaan we verder in één van de twee *children* van de *node*, totdat we een *node* bereiken die geen *children* meer heeft. De ``category`` van deze *node* is dan de uitkomst van onze voorspelling."
      ]
    },
    {
      "cell_type": "code",
      "execution_count": 84,
      "metadata": {
        "pycharm": {
          "is_executing": false,
          "metadata": false,
          "name": "#%%\n"
        }
      },
      "outputs": [],
      "source": [
        "def predict(data, node: TreeNode):\n",
        "    if not node.has_children:\n",
        "        return node.category\n",
        "    if data[node.split_attr] \u003c node.split_value:\n",
        "        return predict(data, node.left)\n",
        "    return predict(data, node.right)"
      ]
    },
    {
      "cell_type": "markdown",
      "metadata": {
        "pycharm": {
          "metadata": false
        }
      },
      "source": [
        "### Evaluate"
      ]
    },
    {
      "cell_type": "code",
      "execution_count": 85,
      "metadata": {
        "pycharm": {
          "is_executing": false,
          "metadata": false,
          "name": "#%%\n"
        }
      },
      "outputs": [],
      "source": [
        "def evaluate(tree, test_set):\n",
        "    results \u003d []\n",
        "    for row in test_wine.itertuples():\n",
        "        data \u003d row._asdict()\n",
        "        results.append((data[\u0027type\u0027], predict(data, tree)))\n",
        "    print([f\"{i}: {res[0]} {res[1]}\" for i, res in enumerate(results)])\n",
        "    return pd.DataFrame(results, columns\u003d[\u0027target\u0027,\u0027predicted\u0027])"
      ]
    },
    {
      "cell_type": "markdown",
      "metadata": {
        "pycharm": {
          "metadata": false
        }
      },
      "source": [
        "### Calculate Accuracy"
      ]
    },
    {
      "cell_type": "code",
      "execution_count": 86,
      "metadata": {
        "pycharm": {
          "is_executing": false,
          "metadata": false,
          "name": "#%%\n"
        }
      },
      "outputs": [],
      "source": "def accuracy(tree, test_set):\n    df_results \u003d evaluate(tree, test_set)\n    return (df_results.target \u003d\u003d df_results.predicted).sum()/len(df_results)"
    },
    {
      "cell_type": "markdown",
      "metadata": {
        "pycharm": {
          "metadata": false
        }
      },
      "source": [
        "## Testing the Trees"
      ]
    },
    {
      "cell_type": "markdown",
      "metadata": {
        "pycharm": {
          "metadata": false
        }
      },
      "source": [
        "### Using Entropy"
      ]
    },
    {
      "cell_type": "code",
      "execution_count": 92,
      "metadata": {
        "pycharm": {
          "is_executing": false,
          "metadata": false,
          "name": "#%%\n"
        }
      },
      "outputs": [
        {
          "name": "stdout",
          "text": [
            "Starting split at root.\n",
            " Node # 0 split on flavonoids 1.58 L: 44 R: 80\n",
            "     Node # 1 split on color_intensity 3.85 L: 9 R: 35\n         Leaf node # 2 pure. Type: [2]\n         Leaf node # 3 pure. Type: [3]\n",
            "     Node # 4 split on proline 760.0 L: 39 R: 41\n",
            "         Node # 5 split on malic_acid 3.98 L: 36 R: 3\n             Leaf node # 6 pure. Type: [2]\n             Node # 7 split on alcohol 13.24 L: 2 R: 1\n                 Leaf node # 8 pure. Type: [2]\n                 Leaf node # 9 pure. Type: [1]\n",
            "         Node # 10 split on magnesium 139.0 L: 39 R: 2\n             Leaf node # 11 pure. Type: [1]\n             Leaf node # 12 pure. Type: [2]\nSplitting done.\n0  X flavonoids @ 1.58 -- Cost: 1.5709478285303144 -- Dist: {2: 49, 1: 40, 3: 35} -- Cat: 2\n1    \u003c -- Cost: 0.730926377590601 -- Dist: {3: 35, 2: 9} -- Cat: 3\n4    \u003e proline @ 760.0 -- Cost: 1.0 -- Dist: {2: 40, 1: 40} -- Cat: 2\n5      \u003c -- Cost: 0.17203694935311378 -- Dist: {2: 38, 1: 1} -- Cat: 2\n7        \u003e -- Cost: 0.9182958340544896 -- Dist: {2: 2, 1: 1} -- Cat: 2\n10      \u003e -- Cost: 0.2811937964320427 -- Dist: {1: 39, 2: 2} -- Cat: 1\n[\u00270: 1 1\u0027, \u00271: 3 3\u0027, \u00272: 2 2\u0027, \u00273: 1 1\u0027, \u00274: 2 2\u0027, \u00275: 2 2\u0027, \u00276: 1 1\u0027, \u00277: 3 3\u0027, \u00278: 2 2\u0027, \u00279: 2 3\u0027, \u002710: 3 3\u0027, \u002711: 3 3\u0027, \u002712: 1 1\u0027, \u002713: 2 2\u0027, \u002714: 3 3\u0027, \u002715: 2 2\u0027, \u002716: 1 1\u0027, \u002717: 1 1\u0027, \u002718: 2 3\u0027, \u002719: 1 1\u0027, \u002720: 2 2\u0027, \u002721: 1 1\u0027, \u002722: 1 2\u0027, \u002723: 2 2\u0027, \u002724: 2 3\u0027, \u002725: 2 2\u0027, \u002726: 2 2\u0027, \u002727: 2 2\u0027, \u002728: 2 2\u0027, \u002729: 3 3\u0027, \u002730: 1 1\u0027, \u002731: 1 1\u0027, \u002732: 2 2\u0027, \u002733: 1 1\u0027, \u002734: 1 1\u0027, \u002735: 1 1\u0027, \u002736: 3 3\u0027, \u002737: 2 3\u0027, \u002738: 2 2\u0027, \u002739: 3 3\u0027, \u002740: 1 1\u0027, \u002741: 1 1\u0027, \u002742: 2 2\u0027, \u002743: 2 3\u0027, \u002744: 2 2\u0027, \u002745: 1 1\u0027, \u002746: 3 3\u0027, \u002747: 2 1\u0027, \u002748: 3 3\u0027, \u002749: 1 1\u0027, \u002750: 3 3\u0027, \u002751: 3 3\u0027, \u002752: 1 1\u0027, \u002753: 3 3\u0027]\nAccuracy: 0.870\n"
          ],
          "output_type": "stream"
        }
      ],
      "source": [
        "# if \u0027tree_entropy\u0027 not in locals().keys():\n",
        "tree_entropy \u003d build_tree(train_wine, entropy, 8, 1)\n",
        "print_tree(tree_entropy)\n",
        "print(\"Accuracy: {:4.3f}\".format(accuracy(tree_entropy, test_wine)))"
      ]
    },
    {
      "cell_type": "markdown",
      "metadata": {
        "pycharm": {
          "metadata": false
        }
      },
      "source": [
        "### Using Gini Impurity"
      ]
    },
    {
      "cell_type": "code",
      "execution_count": null,
      "metadata": {
        "pycharm": {
          "is_executing": true,
          "metadata": false,
          "name": "#%%\n"
        }
      },
      "outputs": [
        {
          "name": "stdout",
          "text": [
            "Starting split at root.\n",
            " Node # 0 split on color_intensity 3.84 L: 47 R: 77\n",
            "     Node # 1 split on proline 1020.0 L: 45 R: 2\n",
            "         Node # 2 split on ash 3.22 L: 44 R: 1\n             Leaf node # 3 pure. Type: [2]\n             Leaf node # 4 pure. Type: [1]\n         Leaf node # 5 pure. Type: [1]\n",
            "     Node # 6 split on flavonoids 1.59 L: 35 R: 42\n         Leaf node # 7 pure. Type: [3]\n"
          ],
          "output_type": "stream"
        }
      ],
      "source": "# if \u0027tree_gini\u0027 not in locals().keys():\ntree_gini \u003d build_tree(train_wine, gini_index, 8, 1)\nprint_tree(tree_gini)\nprint(\"Accuracy: {:4.3f}\".format(accuracy(tree_gini, test_wine)))"
    }
  ],
  "metadata": {
    "kernelspec": {
      "display_name": "Python 3",
      "language": "python",
      "name": "python3"
    },
    "language_info": {
      "codemirror_mode": {
        "name": "ipython",
        "version": 3
      },
      "file_extension": ".py",
      "mimetype": "text/x-python",
      "name": "python",
      "nbconvert_exporter": "python",
      "pygments_lexer": "ipython3",
      "version": "3.7.3"
    },
    "latex_envs": {
      "LaTeX_envs_menu_present": true,
      "autoclose": false,
      "autocomplete": true,
      "bibliofile": "biblio.bib",
      "cite_by": "apalike",
      "current_citInitial": 1,
      "eqLabelWithNumbers": true,
      "eqNumInitial": 1,
      "hotkeys": {
        "equation": "Ctrl-E",
        "itemize": "Ctrl-I"
      },
      "labels_anchors": false,
      "latex_user_defs": false,
      "report_style_numbering": false,
      "user_envs_cfg": false
    },
    "stem_cell": {
      "cell_type": "raw",
      "metadata": {
        "pycharm": {
          "metadata": false
        }
      },
      "source": ""
    },
    "toc": {
      "base_numbering": 1,
      "nav_menu": {},
      "number_sections": true,
      "sideBar": true,
      "skip_h1_title": false,
      "title_cell": "Table of Contents",
      "title_sidebar": "Contents",
      "toc_cell": false,
      "toc_position": {},
      "toc_section_display": true,
      "toc_window_display": true
    },
    "varInspector": {
      "cols": {
        "lenName": 16,
        "lenType": 16,
        "lenVar": 40
      },
      "kernels_config": {
        "python": {
          "delete_cmd_postfix": "",
          "delete_cmd_prefix": "del ",
          "library": "var_list.py",
          "varRefreshCmd": "print(var_dic_list())"
        },
        "r": {
          "delete_cmd_postfix": ") ",
          "delete_cmd_prefix": "rm(",
          "library": "var_list.r",
          "varRefreshCmd": "cat(var_dic_list()) "
        }
      },
      "types_to_exclude": [
        "module",
        "function",
        "builtin_function_or_method",
        "instance",
        "_Feature"
      ],
      "window_display": false
    }
  },
  "nbformat": 4,
  "nbformat_minor": 2
}